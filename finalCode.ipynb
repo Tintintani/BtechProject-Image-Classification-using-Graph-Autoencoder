{
 "cells": [
  {
   "cell_type": "code",
   "execution_count": 1,
   "metadata": {},
   "outputs": [
    {
     "name": "stdout",
     "output_type": "stream",
     "text": [
      "WARNING:tensorflow:From c:\\Users\\Tanishq Arora\\AppData\\Local\\Programs\\Python\\Python311\\Lib\\site-packages\\keras\\src\\losses.py:2976: The name tf.losses.sparse_softmax_cross_entropy is deprecated. Please use tf.compat.v1.losses.sparse_softmax_cross_entropy instead.\n",
      "\n"
     ]
    }
   ],
   "source": [
    "import numpy as np\n",
    "import tensorflow as tf\n",
    "import cv2\n",
    "import matplotlib.pyplot as plt\n",
    "import networkx as nx\n",
    "from skimage.morphology import skeletonize\n",
    "from sklearn.model_selection import train_test_split\n",
    "from sklearn.metrics import accuracy_score"
   ]
  },
  {
   "cell_type": "code",
   "execution_count": 2,
   "metadata": {},
   "outputs": [],
   "source": [
    "# Load  dataset\n",
    "(x_train, y_train), (x_test, y_test) = tf.keras.datasets.mnist.load_data()"
   ]
  },
  {
   "cell_type": "code",
   "execution_count": 3,
   "metadata": {},
   "outputs": [],
   "source": [
    "images_train = x_train\n",
    "images_test = x_test"
   ]
  },
  {
   "cell_type": "code",
   "execution_count": 4,
   "metadata": {},
   "outputs": [],
   "source": [
    "k = 0"
   ]
  },
  {
   "cell_type": "markdown",
   "metadata": {},
   "source": [
    "# Preprocessing Images"
   ]
  },
  {
   "cell_type": "code",
   "execution_count": 5,
   "metadata": {},
   "outputs": [
    {
     "data": {
      "image/png": "[encoded data removed]",
      "text/plain": [
       "<Figure size 200x200 with 1 Axes>"
      ]
     },
     "metadata": {},
     "output_type": "display_data"
    }
   ],
   "source": [
    "plt.figure(figsize=(2, 2))\n",
    "plt.imshow(images_train[k], interpolation='nearest', cmap='gray')\n",
    "plt.show()"
   ]
  },
  {
   "cell_type": "code",
   "execution_count": 6,
   "metadata": {},
   "outputs": [],
   "source": [
    "# def convert_edgedetection(images):\n",
    "#     edge_detection = []\n",
    "#     for image in images:\n",
    "#         if image.shape[-1] == 3:\n",
    "#             image = cv2.cvtColor(image, cv2.COLOR_BGR2GRAY) \n",
    "        \n",
    "#         # Apply Gaussian blur to reduce noise and smoothen edges \n",
    "#         blurred = cv2.GaussianBlur(src=image, ksize=(3, 3), sigmaX=0.7, sigmaY=0.7) \n",
    "      \n",
    "#         # Perform Canny edge detection \n",
    "#         edges = cv2.Canny(blurred, 125, 200)\n",
    "#         edge_detection.append(edges)\n",
    "#     return edge_detection"
   ]
  },
  {
   "cell_type": "code",
   "execution_count": 7,
   "metadata": {},
   "outputs": [],
   "source": [
    "# edge_detection_train = convert_edgedetection(images_train)\n",
    "# edge_detection_test = convert_edgedetection(images_test)"
   ]
  },
  {
   "cell_type": "code",
   "execution_count": 8,
   "metadata": {},
   "outputs": [],
   "source": [
    "# plt.figure(figsize=(2, 2))\n",
    "# plt.imshow(edge_detection_train[k], interpolation='nearest', cmap='gray')\n",
    "# plt.show()"
   ]
  },
  {
   "cell_type": "code",
   "execution_count": 9,
   "metadata": {},
   "outputs": [],
   "source": [
    "# images_train = edge_detection_train\n",
    "# images_test = edge_detection_test"
   ]
  },
  {
   "cell_type": "code",
   "execution_count": 10,
   "metadata": {},
   "outputs": [],
   "source": [
    "def convert_binary(images):\n",
    "    binary_images = []\n",
    "    for image in images:\n",
    "        _, thresholded = cv2.threshold(image, 127, 255, cv2.THRESH_BINARY)\n",
    "        binary_images.append(thresholded)\n",
    "    return binary_images"
   ]
  },
  {
   "cell_type": "code",
   "execution_count": 11,
   "metadata": {},
   "outputs": [],
   "source": [
    "binary_images_train = convert_binary(images_train)\n",
    "binary_images_test = convert_binary(images_test)"
   ]
  },
  {
   "cell_type": "code",
   "execution_count": 12,
   "metadata": {},
   "outputs": [
    {
     "data": {
      "image/png": "[encoded data removed]",
      "text/plain": [
       "<Figure size 200x200 with 1 Axes>"
      ]
     },
     "metadata": {},
     "output_type": "display_data"
    }
   ],
   "source": [
    "plt.figure(figsize=(2, 2))\n",
    "plt.imshow(binary_images_train[k], cmap='gray')\n",
    "plt.show()"
   ]
  },
  {
   "cell_type": "code",
   "execution_count": 13,
   "metadata": {},
   "outputs": [],
   "source": [
    "def convert_skeletonize(binary_images):\n",
    "    skeletonized_images = []\n",
    "    for binary_image in binary_images:\n",
    "        skeletonized_image = skeletonize(binary_image)\n",
    "        skeletonized_images.append(skeletonized_image.astype(np.uint8))\n",
    "    return skeletonized_images"
   ]
  },
  {
   "cell_type": "code",
   "execution_count": 14,
   "metadata": {},
   "outputs": [],
   "source": [
    "skeletonized_images_train = convert_skeletonize(binary_images_train)\n",
    "skeletonized_images_test = convert_skeletonize(binary_images_test)"
   ]
  },
  {
   "cell_type": "code",
   "execution_count": 15,
   "metadata": {},
   "outputs": [
    {
     "data": {
      "image/png": "[encoded data removed]",
      "text/plain": [
       "<Figure size 200x200 with 1 Axes>"
      ]
     },
     "metadata": {},
     "output_type": "display_data"
    }
   ],
   "source": [
    "plt.figure(figsize=(2, 2))\n",
    "plt.imshow(skeletonized_images_train[k], cmap='gray')\n",
    "plt.show()"
   ]
  },
  {
   "cell_type": "markdown",
   "metadata": {},
   "source": [
    "# Creating Graph"
   ]
  },
  {
   "cell_type": "code",
   "execution_count": 16,
   "metadata": {},
   "outputs": [],
   "source": [
    "def create_nodes(skeletonized_images):\n",
    "    nodes_list = []\n",
    "    node_features_list = []\n",
    "    for skeletonized_image in skeletonized_images:\n",
    "        nodes = []\n",
    "        features = []\n",
    "        for i in range(skeletonized_image.shape[0]):\n",
    "            for j in range(skeletonized_image.shape[1]):\n",
    "                if skeletonized_image[i, j] == 1:\n",
    "                    nodes.append((i, j))\n",
    "                    features.append([i, j])\n",
    "        nodes_list.append(nodes)\n",
    "        node_features_list.append(features)\n",
    "    return nodes_list, node_features_list"
   ]
  },
  {
   "cell_type": "code",
   "execution_count": 17,
   "metadata": {},
   "outputs": [],
   "source": [
    "nodes_list_train, node_features_list_train = create_nodes(skeletonized_images_train)\n",
    "nodes_list_test, node_features_list_test = create_nodes(skeletonized_images_test)"
   ]
  },
  {
   "cell_type": "code",
   "execution_count": 18,
   "metadata": {},
   "outputs": [
    {
     "data": {
      "text/plain": [
       "[(5, 21),\n",
       " (5, 22),\n",
       " (6, 17),\n",
       " (6, 18),\n",
       " (6, 19),\n",
       " (6, 20),\n",
       " (7, 9),\n",
       " (7, 13),\n",
       " (7, 14),\n",
       " (7, 15),\n",
       " (7, 16),\n",
       " (8, 10),\n",
       " (8, 11),\n",
       " (8, 12),\n",
       " (8, 17),\n",
       " (9, 12),\n",
       " (10, 12),\n",
       " (11, 12),\n",
       " (12, 13),\n",
       " (13, 14),\n",
       " (14, 15),\n",
       " (15, 16),\n",
       " (16, 17),\n",
       " (17, 18),\n",
       " (18, 17),\n",
       " (19, 15),\n",
       " (19, 16),\n",
       " (20, 14),\n",
       " (21, 12),\n",
       " (21, 13),\n",
       " (22, 10),\n",
       " (22, 11),\n",
       " (23, 6),\n",
       " (23, 7),\n",
       " (23, 8),\n",
       " (23, 9),\n",
       " (24, 5)]"
      ]
     },
     "execution_count": 18,
     "metadata": {},
     "output_type": "execute_result"
    }
   ],
   "source": [
    "nodes_list_train[k]"
   ]
  },
  {
   "cell_type": "code",
   "execution_count": 19,
   "metadata": {},
   "outputs": [
    {
     "data": {
      "text/plain": [
       "[[5, 21],\n",
       " [5, 22],\n",
       " [6, 17],\n",
       " [6, 18],\n",
       " [6, 19],\n",
       " [6, 20],\n",
       " [7, 9],\n",
       " [7, 13],\n",
       " [7, 14],\n",
       " [7, 15],\n",
       " [7, 16],\n",
       " [8, 10],\n",
       " [8, 11],\n",
       " [8, 12],\n",
       " [8, 17],\n",
       " [9, 12],\n",
       " [10, 12],\n",
       " [11, 12],\n",
       " [12, 13],\n",
       " [13, 14],\n",
       " [14, 15],\n",
       " [15, 16],\n",
       " [16, 17],\n",
       " [17, 18],\n",
       " [18, 17],\n",
       " [19, 15],\n",
       " [19, 16],\n",
       " [20, 14],\n",
       " [21, 12],\n",
       " [21, 13],\n",
       " [22, 10],\n",
       " [22, 11],\n",
       " [23, 6],\n",
       " [23, 7],\n",
       " [23, 8],\n",
       " [23, 9],\n",
       " [24, 5]]"
      ]
     },
     "execution_count": 19,
     "metadata": {},
     "output_type": "execute_result"
    }
   ],
   "source": [
    "node_features_list_train[k]"
   ]
  },
  {
   "cell_type": "code",
   "execution_count": 20,
   "metadata": {},
   "outputs": [],
   "source": [
    "def create_graph(nodes_list, skeletonized_images):\n",
    "    graphs = []\n",
    "    sparse_graphs = []\n",
    "    for nodes, image in zip(nodes_list, skeletonized_images):\n",
    "        # Create a graph\n",
    "        G = nx.Graph()\n",
    "\n",
    "        # Add nodes for white pixels\n",
    "        G.add_nodes_from(nodes)\n",
    "        for i, j in nodes:\n",
    "            for x in range(-1, 2):\n",
    "                for y in range(-1, 2):\n",
    "                    if 0 <= i + x < image.shape[0] and 0 <= j + y < image.shape[1] and (x != 0 or y != 0) and image[i + x, j + y] == 1:\n",
    "                        G.add_edge((i, j), (i + x, j + y))\n",
    "        graphs.append(G)\n",
    "        sparse_graphs.append(nx.adjacency_matrix(G))\n",
    "    return graphs, sparse_graphs"
   ]
  },
  {
   "cell_type": "code",
   "execution_count": 21,
   "metadata": {},
   "outputs": [],
   "source": [
    "graphs_train, sparse_graphs_train = create_graph(nodes_list_train, skeletonized_images_train)\n",
    "graphs_test, sparse_graphs_test = create_graph(nodes_list_test, skeletonized_images_test)"
   ]
  },
  {
   "cell_type": "code",
   "execution_count": 22,
   "metadata": {},
   "outputs": [],
   "source": [
    "nodes_dict_train = [{value: index for index, value in enumerate(list)} for list in nodes_list_train]\n",
    "nodes_dict_test = [{value: index for index, value in enumerate(list)} for list in nodes_list_test]"
   ]
  },
  {
   "cell_type": "code",
   "execution_count": 23,
   "metadata": {},
   "outputs": [
    {
     "data": {
      "text/plain": [
       "{(5, 21): 0,\n",
       " (5, 22): 1,\n",
       " (6, 17): 2,\n",
       " (6, 18): 3,\n",
       " (6, 19): 4,\n",
       " (6, 20): 5,\n",
       " (7, 9): 6,\n",
       " (7, 13): 7,\n",
       " (7, 14): 8,\n",
       " (7, 15): 9,\n",
       " (7, 16): 10,\n",
       " (8, 10): 11,\n",
       " (8, 11): 12,\n",
       " (8, 12): 13,\n",
       " (8, 17): 14,\n",
       " (9, 12): 15,\n",
       " (10, 12): 16,\n",
       " (11, 12): 17,\n",
       " (12, 13): 18,\n",
       " (13, 14): 19,\n",
       " (14, 15): 20,\n",
       " (15, 16): 21,\n",
       " (16, 17): 22,\n",
       " (17, 18): 23,\n",
       " (18, 17): 24,\n",
       " (19, 15): 25,\n",
       " (19, 16): 26,\n",
       " (20, 14): 27,\n",
       " (21, 12): 28,\n",
       " (21, 13): 29,\n",
       " (22, 10): 30,\n",
       " (22, 11): 31,\n",
       " (23, 6): 32,\n",
       " (23, 7): 33,\n",
       " (23, 8): 34,\n",
       " (23, 9): 35,\n",
       " (24, 5): 36}"
      ]
     },
     "execution_count": 23,
     "metadata": {},
     "output_type": "execute_result"
    }
   ],
   "source": [
    "nodes_dict_train[k]"
   ]
  },
  {
   "cell_type": "code",
   "execution_count": 24,
   "metadata": {},
   "outputs": [
    {
     "data": {
      "image/png": "[encoded data removed]",
      "text/plain": [
       "<Figure size 640x480 with 1 Axes>"
      ]
     },
     "metadata": {},
     "output_type": "display_data"
    }
   ],
   "source": [
    "pos = {(i, j): (j, -i) for i, j in graphs_train[k].nodes()}\n",
    "nx.draw(graphs_train[k], pos, with_labels=True, font_size=7)\n",
    "plt.show()"
   ]
  },
  {
   "cell_type": "code",
   "execution_count": 25,
   "metadata": {},
   "outputs": [
    {
     "data": {
      "text/plain": [
       "<37x37 sparse array of type '<class 'numpy.intc'>'\n",
       "\twith 74 stored elements in Compressed Sparse Row format>"
      ]
     },
     "execution_count": 25,
     "metadata": {},
     "output_type": "execute_result"
    }
   ],
   "source": [
    "sparse_graphs_train[k]"
   ]
  },
  {
   "cell_type": "code",
   "execution_count": 26,
   "metadata": {},
   "outputs": [
    {
     "data": {
      "text/plain": [
       "<matplotlib.image.AxesImage at 0x22ba8e38a90>"
      ]
     },
     "execution_count": 26,
     "metadata": {},
     "output_type": "execute_result"
    },
    {
     "data": {
      "image/png": "[encoded data removed]",
      "text/plain": [
       "<Figure size 640x480 with 1 Axes>"
      ]
     },
     "metadata": {},
     "output_type": "display_data"
    }
   ],
   "source": [
    "plt.imshow(sparse_graphs_train[k].todense(), cmap='viridis')"
   ]
  },
  {
   "cell_type": "code",
   "execution_count": 27,
   "metadata": {},
   "outputs": [],
   "source": [
    "# Old Method of Creating Edge Index\n",
    "def create_edge_index(sparse_graph):\n",
    "    edges = []\n",
    "    edge_from = []\n",
    "    edge_to = []\n",
    "    num_nodes = sparse_graph.shape[0]\n",
    "    for i in range(num_nodes):\n",
    "        for j in range(i + 1, num_nodes):\n",
    "            if sparse_graph[i, j] == 1:\n",
    "                edge_from.append(i)\n",
    "                edge_to.append(j)\n",
    "                # edge_from.append(j)\n",
    "                # edge_to.append(i)\n",
    "    edges.append(edge_from)\n",
    "    edges.append(edge_to)\n",
    "    return np.array(edges)"
   ]
  },
  {
   "cell_type": "code",
   "execution_count": 28,
   "metadata": {},
   "outputs": [],
   "source": [
    "def create_edge_index(graph, nodes_dict):\n",
    "    edges = []\n",
    "    edge_from = []\n",
    "    edge_to = []\n",
    "    for (i, j) in graph.edges():\n",
    "        edge_from.append(nodes_dict[i])\n",
    "        edge_to.append(nodes_dict[j])\n",
    "        # edge_from.append(nodes_dict[j])\n",
    "        # edge_to.append(nodes_dict[i])\n",
    "    edges.append(edge_from)\n",
    "    edges.append(edge_to)\n",
    "    return np.array(edges)\n"
   ]
  },
  {
   "cell_type": "code",
   "execution_count": 29,
   "metadata": {},
   "outputs": [
    {
     "data": {
      "text/plain": [
       "EdgeView([((5, 21), (5, 22)), ((5, 21), (6, 20)), ((6, 17), (6, 18)), ((6, 17), (7, 16)), ((6, 18), (6, 19)), ((6, 19), (6, 20)), ((7, 9), (8, 10)), ((7, 13), (7, 14)), ((7, 13), (8, 12)), ((7, 14), (7, 15)), ((7, 15), (7, 16)), ((7, 16), (8, 17)), ((8, 10), (8, 11)), ((8, 11), (8, 12)), ((8, 11), (9, 12)), ((8, 12), (9, 12)), ((9, 12), (10, 12)), ((10, 12), (11, 12)), ((11, 12), (12, 13)), ((12, 13), (13, 14)), ((13, 14), (14, 15)), ((14, 15), (15, 16)), ((15, 16), (16, 17)), ((16, 17), (17, 18)), ((17, 18), (18, 17)), ((18, 17), (19, 16)), ((19, 15), (19, 16)), ((19, 15), (20, 14)), ((20, 14), (21, 13)), ((21, 12), (21, 13)), ((21, 12), (22, 11)), ((22, 10), (22, 11)), ((22, 10), (23, 9)), ((23, 6), (23, 7)), ((23, 6), (24, 5)), ((23, 7), (23, 8)), ((23, 8), (23, 9))])"
      ]
     },
     "execution_count": 29,
     "metadata": {},
     "output_type": "execute_result"
    }
   ],
   "source": [
    "graphs_train[k].edges()"
   ]
  },
  {
   "cell_type": "code",
   "execution_count": 30,
   "metadata": {},
   "outputs": [],
   "source": [
    "edges_index_list_train = [create_edge_index(graphs_train[i], nodes_dict_train[i]) for i in range(len(images_train))]\n",
    "edges_index_list_test = [create_edge_index(graphs_test[i], nodes_dict_test[i]) for i in range(len(images_test))]"
   ]
  },
  {
   "cell_type": "code",
   "execution_count": 31,
   "metadata": {},
   "outputs": [],
   "source": [
    "# edges_index_list_train = [create_edge_index(sparse_graphs_train[i]) for i in range(len(images_train))]\n",
    "# edges_index_list_test = [create_edge_index(sparse_graphs_test[i]) for i in range(len(images_test))]"
   ]
  },
  {
   "cell_type": "code",
   "execution_count": 32,
   "metadata": {},
   "outputs": [
    {
     "data": {
      "text/plain": [
       "array([[ 0,  0,  2,  2,  3,  4,  6,  7,  7,  8,  9, 10, 11, 12, 12, 13,\n",
       "        15, 16, 17, 18, 19, 20, 21, 22, 23, 24, 25, 25, 27, 28, 28, 30,\n",
       "        30, 32, 32, 33, 34],\n",
       "       [ 1,  5,  3, 10,  4,  5, 11,  8, 13,  9, 10, 14, 12, 13, 15, 15,\n",
       "        16, 17, 18, 19, 20, 21, 22, 23, 24, 26, 26, 27, 29, 29, 31, 31,\n",
       "        35, 33, 36, 34, 35]])"
      ]
     },
     "execution_count": 32,
     "metadata": {},
     "output_type": "execute_result"
    }
   ],
   "source": [
    "edges_index_list_train[k]"
   ]
  },
  {
   "cell_type": "code",
   "execution_count": 33,
   "metadata": {},
   "outputs": [],
   "source": [
    "import torch\n",
    "import torch.nn as nn\n",
    "import torch.nn.functional as F\n",
    "from torch_geometric.nn import GraphConv, global_mean_pool, global_add_pool\n",
    "from torch_geometric.data import Data, Dataset\n",
    "from torch_geometric.loader import DataLoader\n"
   ]
  },
  {
   "cell_type": "markdown",
   "metadata": {},
   "source": [
    "# Making Dataset"
   ]
  },
  {
   "cell_type": "code",
   "execution_count": 34,
   "metadata": {},
   "outputs": [],
   "source": [
    "class CustomGraphDataset(Dataset):\n",
    "    def __init__(self, data_list):\n",
    "        super(CustomGraphDataset, self).__init__()\n",
    "        self.data_list = data_list\n",
    "\n",
    "    def __len__(self):\n",
    "        return len(self.data_list)\n",
    "\n",
    "    def __getitem__(self, idx):\n",
    "        return self.data_list[idx]\n",
    "\n",
    "    # Additional abstract methods to implement\n",
    "    def get(self, idx):\n",
    "        # Implement logic to retrieve data at the given index\n",
    "        return self.data_list[idx]\n",
    "\n",
    "    def len(self):\n",
    "        # Implement logic to return the length of the dataset\n",
    "        return len(self.data_list)"
   ]
  },
  {
   "cell_type": "code",
   "execution_count": 35,
   "metadata": {},
   "outputs": [],
   "source": [
    "def create_custom_data_instance(node_features, edges, label):\n",
    "    x = torch.tensor(node_features, dtype=torch.float)\n",
    "    edge_index = torch.tensor(edges, dtype=torch.long)\n",
    "    y = torch.tensor([label], dtype=torch.long)\n",
    "    return Data(x=x, edge_index=edge_index, y=y)"
   ]
  },
  {
   "cell_type": "code",
   "execution_count": 36,
   "metadata": {},
   "outputs": [],
   "source": [
    "data_list_train = [create_custom_data_instance(node_features_list_train[i], edges_index_list_train[i], y_train[i]) for i in range(len(images_train))]\n",
    "custom_dataset_train = CustomGraphDataset(data_list_train)\n",
    "\n",
    "data_list_test = [create_custom_data_instance(node_features_list_test[i], edges_index_list_test[i], y_test[i]) for i in range(len(images_test))]\n",
    "custom_dataset_test = CustomGraphDataset(data_list_test)"
   ]
  },
  {
   "cell_type": "code",
   "execution_count": 37,
   "metadata": {},
   "outputs": [],
   "source": [
    "num_features = custom_dataset_train.num_features\n",
    "num_classes = custom_dataset_train.num_classes"
   ]
  },
  {
   "cell_type": "code",
   "execution_count": 38,
   "metadata": {},
   "outputs": [],
   "source": [
    "# dataset = TUDataset(root='data/TUDataset', name='ENZYMES', transform=NormalizeFeatures())\n",
    "# Split the dataset into training and testing sets\n",
    "# train_dataset, test_dataset = train_test_split(dataset, test_size=0.2, random_state=42)\n",
    "\n",
    "train_dataset, test_dataset = custom_dataset_train, custom_dataset_test\n"
   ]
  },
  {
   "cell_type": "code",
   "execution_count": 39,
   "metadata": {},
   "outputs": [],
   "source": [
    "# Use PyTorch DataLoader to handle batching\n",
    "train_loader = DataLoader(train_dataset, batch_size=32, shuffle=True)\n",
    "test_loader = DataLoader(test_dataset, batch_size=32, shuffle=False)"
   ]
  },
  {
   "cell_type": "code",
   "execution_count": 40,
   "metadata": {},
   "outputs": [
    {
     "data": {
      "text/plain": [
       "CustomGraphDataset(60000)"
      ]
     },
     "execution_count": 40,
     "metadata": {},
     "output_type": "execute_result"
    }
   ],
   "source": [
    "train_dataset"
   ]
  },
  {
   "cell_type": "code",
   "execution_count": 41,
   "metadata": {},
   "outputs": [
    {
     "data": {
      "text/plain": [
       "CustomGraphDataset(10000)"
      ]
     },
     "execution_count": 41,
     "metadata": {},
     "output_type": "execute_result"
    }
   ],
   "source": [
    "test_dataset"
   ]
  },
  {
   "cell_type": "code",
   "execution_count": 42,
   "metadata": {},
   "outputs": [
    {
     "data": {
      "text/plain": [
       "Data(x=[37, 2], edge_index=[2, 37], y=[1])"
      ]
     },
     "execution_count": 42,
     "metadata": {},
     "output_type": "execute_result"
    }
   ],
   "source": [
    "train_dataset[k]"
   ]
  },
  {
   "cell_type": "code",
   "execution_count": 43,
   "metadata": {},
   "outputs": [
    {
     "name": "stdout",
     "output_type": "stream",
     "text": [
      "Number of Features: 2, Number of Classes: 10\n"
     ]
    }
   ],
   "source": [
    "print(f'Number of Features: {num_features}, Number of Classes: {num_classes}')"
   ]
  },
  {
   "cell_type": "markdown",
   "metadata": {},
   "source": [
    "Graph Neural Network for Graph Classification"
   ]
  },
  {
   "cell_type": "code",
   "execution_count": 44,
   "metadata": {},
   "outputs": [],
   "source": [
    "class GCNClassifier(nn.Module):\n",
    "    def __init__(self, input_dim, hidden_dim, output_dim):\n",
    "        super(GCNClassifier, self).__init__()\n",
    "        self.conv1 = GraphConv(input_dim, hidden_dim[0])\n",
    "        self.conv2 = GraphConv(hidden_dim[0], hidden_dim[1])\n",
    "        self.conv3 = GraphConv(hidden_dim[1], hidden_dim[2])\n",
    "        self.conv4 = GraphConv(hidden_dim[2], output_dim)\n",
    "\n",
    "    def forward(self, data):\n",
    "        x, edge_index, batch = data.x, data.edge_index, data.batch\n",
    "        x = F.relu(self.conv1(x, edge_index))\n",
    "        # x = F.dropout(x, p=0.2)\n",
    "        x = F.relu(self.conv2(x, edge_index))\n",
    "        # x = F.dropout(x, p=0.2)\n",
    "        x = F.relu(self.conv3(x, edge_index))\n",
    "        # x = F.dropout(x, p=0.2)\n",
    "        x = F.relu(self.conv4(x, edge_index))\n",
    "        # x = F.dropout(x, p=0.2)\n",
    "        x = global_mean_pool(x, batch)\n",
    "        # x = global_add_pool(x, batch)\n",
    "        return F.log_softmax(x, dim=1)"
   ]
  },
  {
   "cell_type": "code",
   "execution_count": 54,
   "metadata": {},
   "outputs": [],
   "source": [
    "# Instantiate the Graph Autoencoder model\n",
    "input_dim = num_features\n",
    "hidden_dim = [32, 16, 16]\n",
    "output_dim = num_classes\n",
    "gcnClassifier = GCNClassifier(input_dim, hidden_dim, output_dim)\n",
    "# model = GraphAutoencoder(input_dim, hidden_dim)\n",
    "\n",
    "# Define the optimizer\n",
    "optimizer = torch.optim.Adam(gcnClassifier.parameters(), lr=0.005)\n",
    "criterion = nn.CrossEntropyLoss()\n"
   ]
  },
  {
   "cell_type": "code",
   "execution_count": 55,
   "metadata": {},
   "outputs": [
    {
     "name": "stdout",
     "output_type": "stream",
     "text": [
      "Epoch 1/10, Loss: 0.9046063423156738\n",
      "Epoch 2/10, Loss: 0.5039863586425781\n",
      "Epoch 3/10, Loss: 0.7515885829925537\n",
      "Epoch 4/10, Loss: 0.3865933418273926\n",
      "Epoch 5/10, Loss: 0.47595763206481934\n",
      "Epoch 6/10, Loss: 0.20699754357337952\n",
      "Epoch 7/10, Loss: 0.4167621433734894\n",
      "Epoch 8/10, Loss: 0.3690468668937683\n",
      "Epoch 9/10, Loss: 0.30821692943573\n",
      "Epoch 10/10, Loss: 0.20996583998203278\n"
     ]
    }
   ],
   "source": [
    "# Training loop\n",
    "num_epochs = 10\n",
    "for epoch in range(num_epochs):\n",
    "    gcnClassifier.train()\n",
    "    for data in train_loader:\n",
    "        optimizer.zero_grad()\n",
    "        output = gcnClassifier(data)\n",
    "        loss = criterion(output, data.y)\n",
    "        loss.backward()\n",
    "        optimizer.step()\n",
    "\n",
    "    print(f'Epoch {epoch + 1}/{num_epochs}, Loss: {loss.item()}')"
   ]
  },
  {
   "cell_type": "code",
   "execution_count": 56,
   "metadata": {},
   "outputs": [
    {
     "name": "stdout",
     "output_type": "stream",
     "text": [
      "Test Accuracy: 92.18%\n"
     ]
    }
   ],
   "source": [
    "# Evaluation\n",
    "gcnClassifier.eval()\n",
    "correct = 0\n",
    "total = 0\n",
    "\n",
    "with torch.no_grad():\n",
    "    for data in test_loader:\n",
    "        output = gcnClassifier(data)\n",
    "        _, predicted = torch.max(output, 1)\n",
    "        total += data.y.size(0)\n",
    "        correct += (predicted == data.y).sum().item()\n",
    "\n",
    "accuracy = correct / total\n",
    "print(f'Test Accuracy: {accuracy * 100:.2f}%')"
   ]
  },
  {
   "cell_type": "markdown",
   "metadata": {},
   "source": [
    "Graph Autoencoder using GNN\n"
   ]
  },
  {
   "cell_type": "code",
   "execution_count": 57,
   "metadata": {},
   "outputs": [],
   "source": [
    "class GraphAutoencoder(nn.Module):\n",
    "    def __init__(self, input_dim, hidden_dim, latent_dim):\n",
    "        super(GraphAutoencoder, self).__init__()\n",
    "\n",
    "        # Encoder layers\n",
    "        self.conv1 = GraphConv(input_dim, hidden_dim[0])\n",
    "        self.conv2 = GraphConv(hidden_dim[0], hidden_dim[1])\n",
    "        self.conv3 = GraphConv(hidden_dim[1], hidden_dim[2])\n",
    "        self.conv4 = GraphConv(hidden_dim[2], latent_dim)\n",
    "\n",
    "        # Decoder layers\n",
    "        self.t_conv1 = GraphConv(latent_dim, hidden_dim[2])\n",
    "        self.t_conv2 = GraphConv(hidden_dim[2], hidden_dim[1])\n",
    "        self.t_conv3 = GraphConv(hidden_dim[1], hidden_dim[0])\n",
    "        self.t_conv4 = GraphConv(hidden_dim[0], input_dim)\n",
    "\n",
    "    def encode(self, x, edge_index):\n",
    "        x = self.conv1(x, edge_index)\n",
    "        x = self.conv2(x, edge_index)\n",
    "        x = self.conv3(x, edge_index)\n",
    "        x = self.conv4(x, edge_index)\n",
    "        return x\n",
    "\n",
    "    def decode(self, x, edge_index):\n",
    "        x = self.t_conv1(x, edge_index)\n",
    "        x = self.t_conv2(x, edge_index)\n",
    "        x = self.t_conv3(x, edge_index)\n",
    "        x = self.t_conv4(x, edge_index)\n",
    "        return x\n",
    "\n",
    "    def forward(self, x, edge_index):\n",
    "        z = self.encode(x, edge_index)\n",
    "        x_reconstructed = self.decode(z, edge_index)\n",
    "        return x_reconstructed, z  # Returning z (embeddings) as well"
   ]
  },
  {
   "cell_type": "code",
   "execution_count": 58,
   "metadata": {},
   "outputs": [],
   "source": [
    "# Instantiate the Graph Autoencoder model\n",
    "input_dim = num_features\n",
    "hidden_dim = [16, 8, 4]\n",
    "latent_dim = 1\n",
    "autoencoder = GraphAutoencoder(input_dim, hidden_dim, latent_dim)\n",
    "\n",
    "# Define the optimizer and Mean Squared Error (MSE) Loss\n",
    "optimizer = torch.optim.Adam(autoencoder.parameters(), lr=0.001)\n",
    "reconstruction_criterion = nn.CrossEntropyLoss()\n",
    "validation_criterion = nn.MSELoss()"
   ]
  },
  {
   "cell_type": "code",
   "execution_count": 59,
   "metadata": {},
   "outputs": [
    {
     "name": "stdout",
     "output_type": "stream",
     "text": [
      "Autoencoder - Epoch 1/10, Reconstruction Loss: 18.34115982055664\n",
      "Autoencoder - Epoch 2/10, Reconstruction Loss: 18.212230682373047\n",
      "Autoencoder - Epoch 3/10, Reconstruction Loss: 18.259193420410156\n",
      "Autoencoder - Epoch 4/10, Reconstruction Loss: 18.228046417236328\n",
      "Autoencoder - Epoch 5/10, Reconstruction Loss: 18.290010452270508\n",
      "Autoencoder - Epoch 6/10, Reconstruction Loss: 18.237083435058594\n",
      "Autoencoder - Epoch 7/10, Reconstruction Loss: 18.48660659790039\n",
      "Autoencoder - Epoch 8/10, Reconstruction Loss: 18.40268898010254\n",
      "Autoencoder - Epoch 9/10, Reconstruction Loss: 18.396461486816406\n",
      "Autoencoder - Epoch 10/10, Reconstruction Loss: 18.28270721435547\n"
     ]
    }
   ],
   "source": [
    "# Early stopping parameters\n",
    "patience = 5\n",
    "best_val_loss = float('inf')\n",
    "counter = 0\n",
    "\n",
    "# Training with early stopping\n",
    "num_epochs = 10\n",
    "for epoch in range(num_epochs):\n",
    "    autoencoder.train()\n",
    "    # Training\n",
    "    for data in train_loader:\n",
    "        optimizer.zero_grad()\n",
    "        x = data.x\n",
    "        edge_index = data.edge_index\n",
    "        reconstructed_x, _ = autoencoder(x, edge_index)\n",
    "\n",
    "        # Reconstruction loss\n",
    "        reconstruction_loss = reconstruction_criterion(reconstructed_x, x)\n",
    "\n",
    "        # Total loss\n",
    "        reconstruction_loss.backward()\n",
    "\n",
    "        optimizer.step()\n",
    "\n",
    "    print(f'Autoencoder - Epoch {epoch + 1}/{num_epochs}, Reconstruction Loss: {reconstruction_loss.item()}')\n"
   ]
  },
  {
   "cell_type": "code",
   "execution_count": 60,
   "metadata": {},
   "outputs": [],
   "source": [
    "    # # Validation\n",
    "    # autoencoder.eval()\n",
    "    # with torch.no_grad():\n",
    "    #     val_losses = []\n",
    "    #     for data in val_loader:\n",
    "    #         output, _ = autoencoder(data.x, data.edge_index)\n",
    "    #         val_loss = validation_criterion(output, data.x)\n",
    "    #         val_losses.append(val_loss.item())\n",
    "\n",
    "    #     avg_val_loss = sum(val_losses) / len(val_losses)\n",
    "    #     print(f'Validation - Epoch {epoch + 1}/{epochs}, Validation Loss: {avg_val_loss}')\n",
    "\n",
    "    #     # Early stopping check\n",
    "    #     if avg_val_loss < best_val_loss:\n",
    "    #         best_val_loss = avg_val_loss\n",
    "    #         counter = 0\n",
    "    #     else:\n",
    "    #         counter += 1\n",
    "    #         if counter >= patience:\n",
    "    #             print(f'Early stopping after {epoch + 1} epochs.')\n",
    "    #             break"
   ]
  },
  {
   "cell_type": "code",
   "execution_count": 61,
   "metadata": {},
   "outputs": [],
   "source": [
    "autoencoder.eval()\n",
    "reconstructed, embeddings = autoencoder(train_dataset[k].x, train_dataset[k].edge_index)\n"
   ]
  },
  {
   "cell_type": "code",
   "execution_count": 62,
   "metadata": {},
   "outputs": [
    {
     "data": {
      "text/plain": [
       "tensor([[ 5., 21.],\n",
       "        [ 5., 22.],\n",
       "        [ 6., 17.],\n",
       "        [ 6., 18.],\n",
       "        [ 6., 19.],\n",
       "        [ 6., 20.],\n",
       "        [ 7.,  9.],\n",
       "        [ 7., 13.],\n",
       "        [ 7., 14.],\n",
       "        [ 7., 15.],\n",
       "        [ 7., 16.],\n",
       "        [ 8., 10.],\n",
       "        [ 8., 11.],\n",
       "        [ 8., 12.],\n",
       "        [ 8., 17.],\n",
       "        [ 9., 12.],\n",
       "        [10., 12.],\n",
       "        [11., 12.],\n",
       "        [12., 13.],\n",
       "        [13., 14.],\n",
       "        [14., 15.],\n",
       "        [15., 16.],\n",
       "        [16., 17.],\n",
       "        [17., 18.],\n",
       "        [18., 17.],\n",
       "        [19., 15.],\n",
       "        [19., 16.],\n",
       "        [20., 14.],\n",
       "        [21., 12.],\n",
       "        [21., 13.],\n",
       "        [22., 10.],\n",
       "        [22., 11.],\n",
       "        [23.,  6.],\n",
       "        [23.,  7.],\n",
       "        [23.,  8.],\n",
       "        [23.,  9.],\n",
       "        [24.,  5.]])"
      ]
     },
     "execution_count": 62,
     "metadata": {},
     "output_type": "execute_result"
    }
   ],
   "source": [
    "train_dataset[k].x"
   ]
  },
  {
   "cell_type": "code",
   "execution_count": 63,
   "metadata": {},
   "outputs": [
    {
     "data": {
      "text/plain": [
       "tensor([[-0.6865,  0.6751],\n",
       "        [-0.8678,  0.5392],\n",
       "        [-0.5240,  0.4425],\n",
       "        [-0.6680,  0.3478],\n",
       "        [-0.8796,  0.1846],\n",
       "        [-0.8952,  0.1961],\n",
       "        [-0.2336,  0.0271],\n",
       "        [-0.3614,  0.2100],\n",
       "        [-0.4681,  0.1564],\n",
       "        [-0.6038,  0.0774],\n",
       "        [-0.6397,  0.0651],\n",
       "        [-0.2761, -0.0441],\n",
       "        [-0.3439, -0.0480],\n",
       "        [-0.3699, -0.0546],\n",
       "        [-0.7692, -0.0840],\n",
       "        [-0.4101, -0.2461],\n",
       "        [-0.1415, -0.0447],\n",
       "        [-0.2049, -0.1634],\n",
       "        [-0.2351, -0.1678],\n",
       "        [-0.1731, -0.0930],\n",
       "        [-0.1967, -0.1105],\n",
       "        [-0.1901, -0.1021],\n",
       "        [-0.1889, -0.0983],\n",
       "        [-0.1941, -0.1013],\n",
       "        [-0.1304, -0.1922],\n",
       "        [-0.0086, -0.2947],\n",
       "        [-0.0496, -0.2736],\n",
       "        [ 0.0611, -0.3958],\n",
       "        [ 0.1567, -0.5312],\n",
       "        [ 0.2486, -0.3679],\n",
       "        [ 0.2553, -0.6724],\n",
       "        [ 0.3272, -0.5282],\n",
       "        [ 0.4179, -0.9049],\n",
       "        [ 0.4863, -0.7563],\n",
       "        [ 0.7109, -0.4275],\n",
       "        [ 0.5441, -0.5127],\n",
       "        [ 0.5850, -0.8974]], grad_fn=<AddBackward0>)"
      ]
     },
     "execution_count": 63,
     "metadata": {},
     "output_type": "execute_result"
    }
   ],
   "source": [
    "reconstructed"
   ]
  },
  {
   "cell_type": "code",
   "execution_count": 64,
   "metadata": {},
   "outputs": [
    {
     "data": {
      "text/plain": [
       "tensor([[-5.0545],\n",
       "        [-4.4695],\n",
       "        [-3.5478],\n",
       "        [-3.2384],\n",
       "        [-3.3331],\n",
       "        [-2.8649],\n",
       "        [-0.8562],\n",
       "        [-2.0411],\n",
       "        [-2.0074],\n",
       "        [-2.1676],\n",
       "        [-1.9679],\n",
       "        [-0.7152],\n",
       "        [-0.9863],\n",
       "        [-1.0551],\n",
       "        [-2.1876],\n",
       "        [-0.8225],\n",
       "        [-0.9025],\n",
       "        [-0.3585],\n",
       "        [-0.3594],\n",
       "        [-0.4868],\n",
       "        [-0.5014],\n",
       "        [-0.5218],\n",
       "        [-0.5231],\n",
       "        [-0.5245],\n",
       "        [ 0.0666],\n",
       "        [ 1.2292],\n",
       "        [ 0.2538],\n",
       "        [ 1.5506],\n",
       "        [ 2.7616],\n",
       "        [ 1.3923],\n",
       "        [ 3.6759],\n",
       "        [ 2.0516],\n",
       "        [ 5.1826],\n",
       "        [ 3.8625],\n",
       "        [ 3.3631],\n",
       "        [ 1.9953],\n",
       "        [ 4.7768]], grad_fn=<AddBackward0>)"
      ]
     },
     "execution_count": 64,
     "metadata": {},
     "output_type": "execute_result"
    }
   ],
   "source": [
    "embeddings"
   ]
  },
  {
   "cell_type": "code",
   "execution_count": 65,
   "metadata": {},
   "outputs": [],
   "source": [
    "def create_embeddings(dataset):\n",
    "    # Extract learned embeddings from the autoencoder\n",
    "    autoencoder.eval()\n",
    "    embeddings_list = []\n",
    "\n",
    "    with torch.no_grad():\n",
    "        for data in dataset:\n",
    "            x = data.x\n",
    "            edge_index = data.edge_index\n",
    "            _, embeddings = autoencoder(x, edge_index)\n",
    "            embeddings_list.append(embeddings.detach().cpu())\n",
    "    return embeddings_list"
   ]
  },
  {
   "cell_type": "code",
   "execution_count": 66,
   "metadata": {},
   "outputs": [],
   "source": [
    "embeddings_train = create_embeddings(train_dataset)\n",
    "embeddings_test = create_embeddings(test_dataset)"
   ]
  },
  {
   "cell_type": "code",
   "execution_count": 67,
   "metadata": {},
   "outputs": [
    {
     "name": "stdout",
     "output_type": "stream",
     "text": [
      "60000 10000\n"
     ]
    }
   ],
   "source": [
    "print(len(embeddings_train), len(embeddings_test))"
   ]
  },
  {
   "cell_type": "code",
   "execution_count": 68,
   "metadata": {},
   "outputs": [],
   "source": [
    "embeddings_train_dataset = [Data(x = embeddings_train[i], y = train_dataset[i].y) for i in range(len(train_dataset))]\n",
    "embeddings_test_dataset = [Data(x = embeddings_test[i], y = test_dataset[i].y) for i in range(len(test_dataset))]"
   ]
  },
  {
   "cell_type": "code",
   "execution_count": 69,
   "metadata": {},
   "outputs": [
    {
     "name": "stdout",
     "output_type": "stream",
     "text": [
      "60000 10000\n"
     ]
    }
   ],
   "source": [
    "print(len(embeddings_train_dataset), len(embeddings_test_dataset))"
   ]
  },
  {
   "cell_type": "code",
   "execution_count": 70,
   "metadata": {},
   "outputs": [
    {
     "data": {
      "text/plain": [
       "Data(x=[37, 1], y=[1])"
      ]
     },
     "execution_count": 70,
     "metadata": {},
     "output_type": "execute_result"
    }
   ],
   "source": [
    "embeddings_train_dataset[k]"
   ]
  },
  {
   "cell_type": "code",
   "execution_count": 71,
   "metadata": {},
   "outputs": [],
   "source": [
    "embeddings_train_loader = DataLoader(embeddings_train_dataset, batch_size=32, shuffle=True)\n",
    "embeddings_test_loader = DataLoader(embeddings_test_dataset, batch_size=32, shuffle=False)"
   ]
  },
  {
   "cell_type": "markdown",
   "metadata": {},
   "source": [
    "Neural Network For Classification"
   ]
  },
  {
   "cell_type": "code",
   "execution_count": 72,
   "metadata": {},
   "outputs": [],
   "source": [
    "# Define a downstream graph classification model using the learned embeddings\n",
    "class GraphClassifier(nn.Module):\n",
    "    def __init__(self, input_dim, hidden_dim, output_dim):\n",
    "        super(GraphClassifier, self).__init__()\n",
    "        self.conv1 = nn.Linear(input_dim, hidden_dim[0])\n",
    "        self.conv2 = nn.Linear(hidden_dim[0], hidden_dim[1])\n",
    "        self.conv3 = nn.Linear(hidden_dim[1], hidden_dim[2])\n",
    "        self.conv4 = nn.Linear(hidden_dim[2], output_dim)\n",
    "\n",
    "    def forward(self, data):\n",
    "        x, batch = data.x, data.batch\n",
    "        x = F.relu(self.conv1(x))\n",
    "        # x = F.dropout(x, p=0.2)\n",
    "        x = F.relu(self.conv2(x))\n",
    "        x = F.relu(self.conv3(x))\n",
    "        x = F.relu(self.conv4(x))\n",
    "        # x = F.dropout(x, p=0.2)\n",
    "        x = global_mean_pool(x, batch)\n",
    "        # x = global_add_pool(x, batch)\n",
    "        return F.log_softmax(x, dim=1)"
   ]
  },
  {
   "cell_type": "code",
   "execution_count": 82,
   "metadata": {},
   "outputs": [],
   "source": [
    "# Instantiate the Graph Classifier model\n",
    "hidden_dim = [32, 16, 16]\n",
    "classifier = GraphClassifier(latent_dim, hidden_dim, num_classes)\n",
    "\n",
    "# Define the optimizer and Cross-Entropy Loss\n",
    "optimizer_classifier = torch.optim.Adam(classifier.parameters(), lr=0.01)\n",
    "classification_criterion = nn.CrossEntropyLoss()"
   ]
  },
  {
   "cell_type": "code",
   "execution_count": 83,
   "metadata": {},
   "outputs": [
    {
     "name": "stdout",
     "output_type": "stream",
     "text": [
      "Classifier - Epoch 1/15, Classification Loss: 2.2122366428375244\n",
      "Classifier - Epoch 2/15, Classification Loss: 2.142601728439331\n",
      "Classifier - Epoch 3/15, Classification Loss: 1.7573027610778809\n",
      "Classifier - Epoch 4/15, Classification Loss: 2.1105575561523438\n",
      "Classifier - Epoch 5/15, Classification Loss: 2.191000461578369\n",
      "Classifier - Epoch 6/15, Classification Loss: 2.1908788681030273\n",
      "Classifier - Epoch 7/15, Classification Loss: 2.1530251502990723\n",
      "Classifier - Epoch 8/15, Classification Loss: 2.163705825805664\n",
      "Classifier - Epoch 9/15, Classification Loss: 2.2136497497558594\n",
      "Classifier - Epoch 10/15, Classification Loss: 2.1768815517425537\n",
      "Classifier - Epoch 11/15, Classification Loss: 1.9594223499298096\n",
      "Classifier - Epoch 12/15, Classification Loss: 2.043494939804077\n",
      "Classifier - Epoch 13/15, Classification Loss: 2.2303268909454346\n",
      "Classifier - Epoch 14/15, Classification Loss: 1.7972735166549683\n",
      "Classifier - Epoch 15/15, Classification Loss: 1.8278604745864868\n"
     ]
    }
   ],
   "source": [
    "# Training loop for the classifier\n",
    "num_epochs = 15\n",
    "for epoch in range(num_epochs):\n",
    "    classifier.train()\n",
    "    optimizer_classifier.zero_grad()\n",
    "    for data in embeddings_train_loader:\n",
    "        optimizer_classifier.zero_grad()\n",
    "        \n",
    "        # Forward pass using the learned embeddings\n",
    "        logits = classifier(data)\n",
    "        # Classification loss\n",
    "        classification_loss = classification_criterion(logits, data.y)\n",
    "\n",
    "        # Backward pass and optimization\n",
    "        classification_loss.backward()\n",
    "        optimizer_classifier.step()\n",
    "    print(f'Classifier - Epoch {epoch + 1}/{num_epochs}, Classification Loss: {classification_loss.item()}')"
   ]
  },
  {
   "cell_type": "code",
   "execution_count": 84,
   "metadata": {},
   "outputs": [
    {
     "name": "stdout",
     "output_type": "stream",
     "text": [
      "Test Accuracy: 31.89%\n"
     ]
    }
   ],
   "source": [
    "# Evaluation\n",
    "classifier.eval()\n",
    "correct = 0\n",
    "total = 0\n",
    "\n",
    "with torch.no_grad():\n",
    "    for data in embeddings_test_loader:\n",
    "        output = classifier(data)\n",
    "        _, predicted = torch.max(output, 1)\n",
    "        # print(predicted)\n",
    "        total += data.y.size(0)\n",
    "        correct += (predicted == data.y).sum().item()\n",
    "\n",
    "accuracy = correct / total\n",
    "print(f'Test Accuracy: {accuracy * 100:.2f}%')"
   ]
  }
 ],
 "metadata": {
  "kernelspec": {
   "display_name": "Python 3",
   "language": "python",
   "name": "python3"
  },
  "language_info": {
   "codemirror_mode": {
    "name": "ipython",
    "version": 3
   },
   "file_extension": ".py",
   "mimetype": "text/x-python",
   "name": "python",
   "nbconvert_exporter": "python",
   "pygments_lexer": "ipython3",
   "version": "3.11.2"
  }
 },
 "nbformat": 4,
 "nbformat_minor": 2
}
