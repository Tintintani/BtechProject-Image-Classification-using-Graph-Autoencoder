{
 "cells": [
  {
   "cell_type": "markdown",
   "metadata": {},
   "source": [
    "# Imports"
   ]
  },
  {
   "cell_type": "code",
   "execution_count": 1,
   "metadata": {},
   "outputs": [],
   "source": [
    "import numpy as np\n",
    "import matplotlib.pyplot as plt\n",
    "import seaborn as sns\n",
    "from skimage.morphology import skeletonize\n",
    "from sklearn.model_selection import train_test_split\n",
    "from sklearn.metrics import classification_report, confusion_matrix\n",
    "import cv2\n",
    "import tensorflow as tf\n",
    "import networkx as nx\n",
    "from extra_keras_datasets import usps"
   ]
  },
  {
   "cell_type": "markdown",
   "metadata": {},
   "source": [
    "# Datasets"
   ]
  },
  {
   "cell_type": "code",
   "execution_count": 2,
   "metadata": {},
   "outputs": [],
   "source": [
    "datasets = {\n",
    "    \"mnist\": {\"dataloader\": tf.keras.datasets.mnist.load_data, \"edge_detection\": False, \"scale\": False},\n",
    "    \"fashion_mnist\": {\"dataloader\": tf.keras.datasets.fashion_mnist.load_data, \"edge_detection\": True, \"scale\": False},\n",
    "    \"usps\": {\"dataloader\": usps.load_data, \"edge_detection\": False, \"scale\": True},\n",
    "}"
   ]
  },
  {
   "cell_type": "code",
   "execution_count": 3,
   "metadata": {},
   "outputs": [],
   "source": [
    "current_dataset = datasets[\"usps\"]"
   ]
  },
  {
   "cell_type": "code",
   "execution_count": 4,
   "metadata": {},
   "outputs": [],
   "source": [
    "import ssl\n",
    "ssl._create_default_https_context = ssl._create_unverified_context"
   ]
  },
  {
   "cell_type": "code",
   "execution_count": 5,
   "metadata": {},
   "outputs": [
    {
     "name": "stderr",
     "output_type": "stream",
     "text": [
      "INFO:root:Loading dataset = usps\n",
      "WARNING:root:Please cite the following paper when using or referencing this Extra Keras Dataset:\n",
      "WARNING:root:Hull, J. J. (1994). A database for handwritten text recognition research. IEEE Transactions on pattern analysis and machine intelligence, 16(5), 550-554.\n"
     ]
    }
   ],
   "source": [
    "# Load  dataset\n",
    "(x_train, y_train), (x_test, y_test) = current_dataset[\"dataloader\"]()"
   ]
  },
  {
   "cell_type": "code",
   "execution_count": 6,
   "metadata": {},
   "outputs": [],
   "source": [
    "images_train = x_train\n",
    "images_test = x_test"
   ]
  },
  {
   "cell_type": "code",
   "execution_count": 7,
   "metadata": {},
   "outputs": [],
   "source": [
    "k = 0"
   ]
  },
  {
   "cell_type": "markdown",
   "metadata": {},
   "source": [
    "### Viewing an image"
   ]
  },
  {
   "cell_type": "code",
   "execution_count": 8,
   "metadata": {},
   "outputs": [],
   "source": [
    "def show_image(image):\n",
    "  plt.figure(figsize=(2, 2))\n",
    "  plt.imshow(image, interpolation='nearest', cmap='gray')\n",
    "  plt.show()"
   ]
  },
  {
   "cell_type": "code",
   "execution_count": 9,
   "metadata": {},
   "outputs": [
    {
     "data": {
      "image/png": "[encoded data removed]",
      "text/plain": [
       "<Figure size 200x200 with 1 Axes>"
      ]
     },
     "metadata": {},
     "output_type": "display_data"
    }
   ],
   "source": [
    "show_image(images_train[k])"
   ]
  },
  {
   "cell_type": "markdown",
   "metadata": {},
   "source": [
    "# Preprocessing Images"
   ]
  },
  {
   "cell_type": "code",
   "execution_count": 10,
   "metadata": {},
   "outputs": [],
   "source": [
    "def scale(images):\n",
    "  return ((images + 1) / 2.0) * 255.0"
   ]
  },
  {
   "cell_type": "code",
   "execution_count": 11,
   "metadata": {},
   "outputs": [],
   "source": [
    "if current_dataset[\"scale\"]:\n",
    "  images_train = scale(images_train)\n",
    "  images_test = scale(images_test)"
   ]
  },
  {
   "cell_type": "code",
   "execution_count": 12,
   "metadata": {},
   "outputs": [],
   "source": [
    "def convert_edgedetection(images):\n",
    "    edge_detection = []\n",
    "    for image in images:\n",
    "        if image.shape[-1] == 3:\n",
    "            image = cv2.cvtColor(image, cv2.COLOR_BGR2GRAY) \n",
    "        \n",
    "        # Apply Gaussian blur to reduce noise and smoothen edges \n",
    "        blurred = cv2.GaussianBlur(src=image, ksize=(3, 3), sigmaX=1, sigmaY=1) \n",
    "      \n",
    "        # Perform Canny edge detection \n",
    "        edges = cv2.Canny(blurred, 225, 250)\n",
    "        edge_detection.append(edges)\n",
    "    return edge_detection"
   ]
  },
  {
   "cell_type": "code",
   "execution_count": 13,
   "metadata": {},
   "outputs": [],
   "source": [
    "if current_dataset[\"edge_detection\"]:\n",
    "  edge_detection_train = convert_edgedetection(images_train)\n",
    "  edge_detection_test = convert_edgedetection(images_test)\n",
    "  images_train = edge_detection_train\n",
    "  images_test = edge_detection_test"
   ]
  },
  {
   "cell_type": "code",
   "execution_count": 14,
   "metadata": {},
   "outputs": [
    {
     "data": {
      "image/png": "[encoded data removed]",
      "text/plain": [
       "<Figure size 200x200 with 1 Axes>"
      ]
     },
     "metadata": {},
     "output_type": "display_data"
    }
   ],
   "source": [
    "show_image(images_train[k])"
   ]
  },
  {
   "cell_type": "code",
   "execution_count": 15,
   "metadata": {},
   "outputs": [],
   "source": [
    "def get_threshold(image):\n",
    "  count = 0\n",
    "  sum = 0\n",
    "  med = np.median(image)\n",
    "  for row in image:\n",
    "    for x in row:\n",
    "      if x != 0 and x >= med:\n",
    "        sum += x\n",
    "        count += 1\n",
    "  \n",
    "  return int(sum / count)"
   ]
  },
  {
   "cell_type": "code",
   "execution_count": 16,
   "metadata": {},
   "outputs": [
    {
     "data": {
      "text/plain": [
       "160"
      ]
     },
     "execution_count": 16,
     "metadata": {},
     "output_type": "execute_result"
    }
   ],
   "source": [
    "get_threshold(images_train[k])"
   ]
  },
  {
   "cell_type": "code",
   "execution_count": 17,
   "metadata": {},
   "outputs": [],
   "source": [
    "def convert_binary(images):\n",
    "    binary_images = []\n",
    "    for image in images:\n",
    "        _, thresholded = cv2.threshold(image, max(get_threshold(image) - 1, 0), 255, cv2.THRESH_BINARY)\n",
    "        binary_images.append(thresholded)\n",
    "    return binary_images"
   ]
  },
  {
   "cell_type": "code",
   "execution_count": 18,
   "metadata": {},
   "outputs": [],
   "source": [
    "binary_images_train = convert_binary(images_train)\n",
    "binary_images_test = convert_binary(images_test)"
   ]
  },
  {
   "cell_type": "code",
   "execution_count": 19,
   "metadata": {},
   "outputs": [
    {
     "data": {
      "image/png": "[encoded data removed]",
      "text/plain": [
       "<Figure size 200x200 with 1 Axes>"
      ]
     },
     "metadata": {},
     "output_type": "display_data"
    }
   ],
   "source": [
    "show_image(binary_images_train[k])"
   ]
  },
  {
   "cell_type": "code",
   "execution_count": 20,
   "metadata": {},
   "outputs": [],
   "source": [
    "def convert_skeletonize(binary_images):\n",
    "    skeletonized_images = []\n",
    "    for binary_image in binary_images:\n",
    "        skeletonized_image = skeletonize(binary_image)\n",
    "        skeletonized_images.append(skeletonized_image.astype(np.uint8))\n",
    "    return skeletonized_images"
   ]
  },
  {
   "cell_type": "code",
   "execution_count": 21,
   "metadata": {},
   "outputs": [],
   "source": [
    "skeletonized_images_train = convert_skeletonize(binary_images_train)\n",
    "skeletonized_images_test = convert_skeletonize(binary_images_test)"
   ]
  },
  {
   "cell_type": "code",
   "execution_count": 22,
   "metadata": {},
   "outputs": [
    {
     "data": {
      "image/png": "[encoded data removed]",
      "text/plain": [
       "<Figure size 200x200 with 1 Axes>"
      ]
     },
     "metadata": {},
     "output_type": "display_data"
    }
   ],
   "source": [
    "show_image(skeletonized_images_train[k])"
   ]
  },
  {
   "cell_type": "markdown",
   "metadata": {},
   "source": [
    "# Creating Graph"
   ]
  },
  {
   "cell_type": "code",
   "execution_count": 23,
   "metadata": {},
   "outputs": [],
   "source": [
    "def create_nodes(skeletonized_images):\n",
    "    nodes_list = []\n",
    "    node_features_list = []\n",
    "    for skeletonized_image in skeletonized_images:\n",
    "        nodes = []\n",
    "        features = []\n",
    "        for i in range(skeletonized_image.shape[0]):\n",
    "            for j in range(skeletonized_image.shape[1]):\n",
    "                if skeletonized_image[i, j] == 1:\n",
    "                    nodes.append((i, j))\n",
    "                    features.append([i, j])\n",
    "        nodes_list.append(nodes)\n",
    "        node_features_list.append(features)\n",
    "    return nodes_list, node_features_list"
   ]
  },
  {
   "cell_type": "code",
   "execution_count": 24,
   "metadata": {},
   "outputs": [],
   "source": [
    "nodes_list_train, node_features_list_train = create_nodes(skeletonized_images_train)\n",
    "nodes_list_test, node_features_list_test = create_nodes(skeletonized_images_test)"
   ]
  },
  {
   "cell_type": "code",
   "execution_count": 25,
   "metadata": {},
   "outputs": [
    {
     "data": {
      "text/plain": [
       "[(1, 8), (2, 7), (3, 7), (4, 6), (5, 5)]"
      ]
     },
     "execution_count": 25,
     "metadata": {},
     "output_type": "execute_result"
    }
   ],
   "source": [
    "nodes_list_train[k][:5]"
   ]
  },
  {
   "cell_type": "code",
   "execution_count": 26,
   "metadata": {},
   "outputs": [
    {
     "data": {
      "text/plain": [
       "[[1, 8], [2, 7], [3, 7], [4, 6], [5, 5]]"
      ]
     },
     "execution_count": 26,
     "metadata": {},
     "output_type": "execute_result"
    }
   ],
   "source": [
    "node_features_list_train[k][:5]"
   ]
  },
  {
   "cell_type": "code",
   "execution_count": 27,
   "metadata": {},
   "outputs": [],
   "source": [
    "def create_graph(nodes_list, skeletonized_images):\n",
    "    graphs = []\n",
    "    for nodes, image in zip(nodes_list, skeletonized_images):\n",
    "        # Create a graph\n",
    "        G = nx.Graph()\n",
    "\n",
    "        # Add nodes for white pixels\n",
    "        G.add_nodes_from(nodes)\n",
    "        for i, j in nodes:\n",
    "            for x in range(-1, 2):\n",
    "                for y in range(-1, 2):\n",
    "                    if 0 <= i + x < image.shape[0] and 0 <= j + y < image.shape[1] and (x != 0 or y != 0) and image[i + x, j + y] == 1:\n",
    "                        G.add_edge((i, j), (i + x, j + y))\n",
    "        graphs.append(G)\n",
    "    return graphs"
   ]
  },
  {
   "cell_type": "code",
   "execution_count": 28,
   "metadata": {},
   "outputs": [],
   "source": [
    "graphs_train = create_graph(nodes_list_train, skeletonized_images_train)\n",
    "graphs_test = create_graph(nodes_list_test, skeletonized_images_test)"
   ]
  },
  {
   "cell_type": "code",
   "execution_count": 29,
   "metadata": {},
   "outputs": [],
   "source": [
    "nodes_dict_train = [{value: index for index, value in enumerate(list)} for list in nodes_list_train]\n",
    "nodes_dict_test = [{value: index for index, value in enumerate(list)} for list in nodes_list_test]"
   ]
  },
  {
   "cell_type": "code",
   "execution_count": 30,
   "metadata": {},
   "outputs": [
    {
     "data": {
      "text/plain": [
       "{(1, 8): 0,\n",
       " (2, 7): 1,\n",
       " (3, 7): 2,\n",
       " (4, 6): 3,\n",
       " (5, 5): 4,\n",
       " (6, 4): 5,\n",
       " (7, 4): 6,\n",
       " (8, 3): 7,\n",
       " (8, 9): 8,\n",
       " (8, 10): 9,\n",
       " (8, 11): 10,\n",
       " (9, 3): 11,\n",
       " (9, 8): 12,\n",
       " (9, 12): 13,\n",
       " (10, 3): 14,\n",
       " (10, 7): 15,\n",
       " (10, 12): 16,\n",
       " (11, 3): 17,\n",
       " (11, 7): 18,\n",
       " (11, 12): 19,\n",
       " (12, 4): 20,\n",
       " (12, 5): 21,\n",
       " (12, 6): 22,\n",
       " (12, 7): 23,\n",
       " (12, 10): 24,\n",
       " (12, 11): 25,\n",
       " (13, 8): 26,\n",
       " (13, 9): 27}"
      ]
     },
     "execution_count": 30,
     "metadata": {},
     "output_type": "execute_result"
    }
   ],
   "source": [
    "nodes_dict_train[k]"
   ]
  },
  {
   "cell_type": "code",
   "execution_count": 31,
   "metadata": {},
   "outputs": [
    {
     "data": {
      "image/png": "[encoded data removed]",
      "text/plain": [
       "<Figure size 640x480 with 1 Axes>"
      ]
     },
     "metadata": {},
     "output_type": "display_data"
    }
   ],
   "source": [
    "pos = {(i, j): (j, -i) for i, j in graphs_train[k].nodes()}\n",
    "nx.draw(graphs_train[k], pos, with_labels=True, font_size=7)\n",
    "plt.show()"
   ]
  },
  {
   "cell_type": "code",
   "execution_count": 32,
   "metadata": {},
   "outputs": [],
   "source": [
    "def create_edge_index(graph, nodes_dict):\n",
    "    edges = []\n",
    "    edge_from = []\n",
    "    edge_to = []\n",
    "    for (i, j) in graph.edges():\n",
    "        edge_from.append(nodes_dict[i])\n",
    "        edge_to.append(nodes_dict[j])\n",
    "    edges.append(edge_from)\n",
    "    edges.append(edge_to)\n",
    "    return np.array(edges)\n"
   ]
  },
  {
   "cell_type": "code",
   "execution_count": 33,
   "metadata": {},
   "outputs": [
    {
     "data": {
      "text/plain": [
       "EdgeView([((1, 8), (2, 7)), ((2, 7), (3, 7)), ((3, 7), (4, 6)), ((4, 6), (5, 5)), ((5, 5), (6, 4)), ((6, 4), (7, 4)), ((7, 4), (8, 3)), ((8, 3), (9, 3)), ((8, 9), (8, 10)), ((8, 9), (9, 8)), ((8, 10), (8, 11)), ((8, 11), (9, 12)), ((9, 3), (10, 3)), ((9, 8), (10, 7)), ((9, 12), (10, 12)), ((10, 3), (11, 3)), ((10, 7), (11, 7)), ((10, 12), (11, 12)), ((11, 3), (12, 4)), ((11, 7), (12, 6)), ((11, 7), (12, 7)), ((11, 12), (12, 11)), ((12, 4), (12, 5)), ((12, 5), (12, 6)), ((12, 6), (12, 7)), ((12, 7), (13, 8)), ((12, 10), (12, 11)), ((12, 10), (13, 9)), ((13, 8), (13, 9))])"
      ]
     },
     "execution_count": 33,
     "metadata": {},
     "output_type": "execute_result"
    }
   ],
   "source": [
    "graphs_train[k].edges()"
   ]
  },
  {
   "cell_type": "code",
   "execution_count": 34,
   "metadata": {},
   "outputs": [],
   "source": [
    "edges_index_list_train = [create_edge_index(graphs_train[i], nodes_dict_train[i]) for i in range(len(images_train))]\n",
    "edges_index_list_test = [create_edge_index(graphs_test[i], nodes_dict_test[i]) for i in range(len(images_test))]"
   ]
  },
  {
   "cell_type": "code",
   "execution_count": 35,
   "metadata": {},
   "outputs": [
    {
     "data": {
      "text/plain": [
       "array([[ 0,  1,  2,  3,  4,  5,  6,  7,  8,  8,  9, 10, 11, 12, 13, 14,\n",
       "        15, 16, 17, 18, 18, 19, 20, 21, 22, 23, 24, 24, 26],\n",
       "       [ 1,  2,  3,  4,  5,  6,  7, 11,  9, 12, 10, 13, 14, 15, 16, 17,\n",
       "        18, 19, 20, 22, 23, 25, 21, 22, 23, 26, 25, 27, 27]])"
      ]
     },
     "execution_count": 35,
     "metadata": {},
     "output_type": "execute_result"
    }
   ],
   "source": [
    "edges_index_list_train[k]"
   ]
  },
  {
   "cell_type": "code",
   "execution_count": 36,
   "metadata": {},
   "outputs": [],
   "source": [
    "import torch\n",
    "import torch.nn as nn\n",
    "import torch.nn.functional as F\n",
    "from torch_geometric.nn import GraphConv, global_mean_pool\n",
    "from torch_geometric.data import Data, Dataset\n",
    "from torch_geometric.loader import DataLoader"
   ]
  },
  {
   "cell_type": "markdown",
   "metadata": {},
   "source": [
    "# Making Dataset"
   ]
  },
  {
   "cell_type": "code",
   "execution_count": 37,
   "metadata": {},
   "outputs": [],
   "source": [
    "class CustomGraphDataset(Dataset):\n",
    "    def __init__(self, data_list):\n",
    "        super(CustomGraphDataset, self).__init__()\n",
    "        self.data_list = data_list\n",
    "\n",
    "    def __len__(self):\n",
    "        return len(self.data_list)\n",
    "\n",
    "    def __getitem__(self, idx):\n",
    "        return self.data_list[idx]\n",
    "\n",
    "    # Additional abstract methods to implement\n",
    "    def get(self, idx):\n",
    "        # Implement logic to retrieve data at the given index\n",
    "        return self.data_list[idx]\n",
    "\n",
    "    def len(self):\n",
    "        # Implement logic to return the length of the dataset\n",
    "        return len(self.data_list)"
   ]
  },
  {
   "cell_type": "code",
   "execution_count": 38,
   "metadata": {},
   "outputs": [],
   "source": [
    "def create_custom_data_instance(node_features, edges, label):\n",
    "    x = torch.tensor(node_features, dtype=torch.float)\n",
    "    edge_index = torch.tensor(edges, dtype=torch.long)\n",
    "    y = torch.tensor([label], dtype=torch.long)\n",
    "    return Data(x=x, edge_index=edge_index, y=y)"
   ]
  },
  {
   "cell_type": "code",
   "execution_count": 39,
   "metadata": {},
   "outputs": [],
   "source": [
    "data_list_train = [create_custom_data_instance(node_features_list_train[i], edges_index_list_train[i], y_train[i]) for i in range(len(images_train))]\n",
    "custom_dataset_train = CustomGraphDataset(data_list_train)\n",
    "\n",
    "data_list_test = [create_custom_data_instance(node_features_list_test[i], edges_index_list_test[i], y_test[i]) for i in range(len(images_test))]\n",
    "custom_dataset_test = CustomGraphDataset(data_list_test)"
   ]
  },
  {
   "cell_type": "code",
   "execution_count": 40,
   "metadata": {},
   "outputs": [],
   "source": [
    "num_features = custom_dataset_train.num_features\n",
    "num_classes = custom_dataset_train.num_classes"
   ]
  },
  {
   "cell_type": "code",
   "execution_count": 41,
   "metadata": {},
   "outputs": [],
   "source": [
    "train_dataset, val_dataset = train_test_split(custom_dataset_train, test_size=0.2, random_state=42)\n",
    "test_dataset = custom_dataset_test"
   ]
  },
  {
   "cell_type": "code",
   "execution_count": 42,
   "metadata": {},
   "outputs": [],
   "source": [
    "# Use PyTorch DataLoader to handle batching\n",
    "val_loader = DataLoader(val_dataset, batch_size=32, shuffle=False)\n",
    "train_loader = DataLoader(train_dataset, batch_size=32, shuffle=True)\n",
    "test_loader = DataLoader(test_dataset, batch_size=32, shuffle=False)"
   ]
  },
  {
   "cell_type": "code",
   "execution_count": 43,
   "metadata": {},
   "outputs": [
    {
     "data": {
      "text/plain": [
       "5832"
      ]
     },
     "execution_count": 43,
     "metadata": {},
     "output_type": "execute_result"
    }
   ],
   "source": [
    "len(train_dataset)"
   ]
  },
  {
   "cell_type": "code",
   "execution_count": 44,
   "metadata": {},
   "outputs": [
    {
     "data": {
      "text/plain": [
       "CustomGraphDataset(2007)"
      ]
     },
     "execution_count": 44,
     "metadata": {},
     "output_type": "execute_result"
    }
   ],
   "source": [
    "test_dataset"
   ]
  },
  {
   "cell_type": "code",
   "execution_count": 45,
   "metadata": {},
   "outputs": [
    {
     "data": {
      "text/plain": [
       "Data(x=[30, 2], edge_index=[2, 33], y=[1])"
      ]
     },
     "execution_count": 45,
     "metadata": {},
     "output_type": "execute_result"
    }
   ],
   "source": [
    "train_dataset[k]"
   ]
  },
  {
   "cell_type": "code",
   "execution_count": 46,
   "metadata": {},
   "outputs": [
    {
     "name": "stdout",
     "output_type": "stream",
     "text": [
      "Number of Features: 2, Number of Classes: 10\n"
     ]
    }
   ],
   "source": [
    "print(f'Number of Features: {num_features}, Number of Classes: {num_classes}')"
   ]
  },
  {
   "cell_type": "markdown",
   "metadata": {},
   "source": [
    "Graph Neural Network for Graph Classification"
   ]
  },
  {
   "cell_type": "code",
   "execution_count": 47,
   "metadata": {},
   "outputs": [],
   "source": [
    "class GCNClassifier(nn.Module):\n",
    "    def __init__(self, input_dim, hidden_dim, output_dim):\n",
    "        super(GCNClassifier, self).__init__()\n",
    "        self.conv1 = GraphConv(input_dim, hidden_dim[0])\n",
    "        self.conv2 = GraphConv(hidden_dim[0], hidden_dim[1])\n",
    "        self.conv3 = GraphConv(hidden_dim[1], hidden_dim[2])\n",
    "        self.conv4 = GraphConv(hidden_dim[2], output_dim)\n",
    "\n",
    "    def forward(self, data):\n",
    "        x, edge_index, batch = data.x, data.edge_index, data.batch\n",
    "        x = F.relu(self.conv1(x, edge_index))\n",
    "        # x = F.dropout(x, p=0.2)\n",
    "        x = F.relu(self.conv2(x, edge_index))\n",
    "        # x = F.dropout(x, p=0.2)\n",
    "        x = F.relu(self.conv3(x, edge_index))\n",
    "        # x = F.dropout(x, p=0.2)\n",
    "        x = F.relu(self.conv4(x, edge_index))\n",
    "        # x = F.dropout(x, p=0.2)\n",
    "        x = global_mean_pool(x, batch)\n",
    "        # x = global_add_pool(x, batch)\n",
    "        return F.log_softmax(x, dim=1)"
   ]
  },
  {
   "cell_type": "code",
   "execution_count": 48,
   "metadata": {},
   "outputs": [],
   "source": [
    "# Instantiate the Graph Neural Network model\n",
    "input_dim = num_features\n",
    "hidden_dim = [32, 16, 16]\n",
    "output_dim = num_classes\n",
    "gcnClassifier = GCNClassifier(input_dim, hidden_dim, output_dim)\n",
    "\n",
    "# Define the optimizer\n",
    "optimizer = torch.optim.Adam(gcnClassifier.parameters(), lr=0.005)\n",
    "criterion = nn.CrossEntropyLoss()"
   ]
  },
  {
   "cell_type": "code",
   "execution_count": 49,
   "metadata": {},
   "outputs": [
    {
     "name": "stdout",
     "output_type": "stream",
     "text": [
      "Epoch 1/100, Loss: 0.8024153709411621, Validation Loss: 0.7367369701033053\n",
      "Epoch 2/100, Loss: 0.6022447943687439, Validation Loss: 0.6183513085479322\n",
      "Epoch 3/100, Loss: 0.09150639921426773, Validation Loss: 0.5564723205955132\n",
      "Epoch 4/100, Loss: 0.6323089003562927, Validation Loss: 0.4867845900032831\n",
      "Epoch 5/100, Loss: 0.3852585256099701, Validation Loss: 0.47072042978328205\n",
      "Epoch 6/100, Loss: 0.24733474850654602, Validation Loss: 0.4297575761118661\n",
      "Epoch 7/100, Loss: 0.07592655718326569, Validation Loss: 0.4684043285315451\n",
      "Epoch 8/100, Loss: 1.0108888149261475, Validation Loss: 0.42663342278936633\n",
      "Epoch 9/100, Loss: 0.2679463028907776, Validation Loss: 0.4581036156286364\n",
      "Epoch 10/100, Loss: 0.7414358258247375, Validation Loss: 0.3996303826570511\n",
      "Epoch 11/100, Loss: 0.09228310734033585, Validation Loss: 0.4229593034023824\n",
      "Epoch 12/100, Loss: 0.2772780954837799, Validation Loss: 0.3561469570774099\n",
      "Epoch 13/100, Loss: 0.9966683983802795, Validation Loss: 0.3348712772130966\n",
      "Epoch 14/100, Loss: 0.14596012234687805, Validation Loss: 0.38953362389103224\n",
      "Epoch 15/100, Loss: 0.039983540773391724, Validation Loss: 0.3404891630229743\n",
      "Epoch 16/100, Loss: 0.7995131015777588, Validation Loss: 0.3292906835027363\n",
      "Epoch 17/100, Loss: 0.6654415130615234, Validation Loss: 0.30314479970737646\n",
      "Epoch 18/100, Loss: 1.195412516593933, Validation Loss: 0.30084308981895447\n",
      "Epoch 19/100, Loss: 0.6636478900909424, Validation Loss: 0.32381938009158423\n",
      "Epoch 20/100, Loss: 0.17761892080307007, Validation Loss: 0.26614207960665226\n",
      "Epoch 21/100, Loss: 0.20451392233371735, Validation Loss: 0.2514439757265475\n",
      "Epoch 22/100, Loss: 0.12625864148139954, Validation Loss: 0.25499613858435466\n",
      "Epoch 23/100, Loss: 0.3399949371814728, Validation Loss: 0.2777137457514587\n",
      "Epoch 24/100, Loss: 0.6570457220077515, Validation Loss: 0.2523493772453588\n",
      "Epoch 25/100, Loss: 0.3938254714012146, Validation Loss: 0.2579707022675354\n",
      "Epoch 26/100, Loss: 0.421532541513443, Validation Loss: 0.2236250624384569\n",
      "Epoch 27/100, Loss: 0.23801645636558533, Validation Loss: 0.23509752223997013\n",
      "Epoch 28/100, Loss: 0.3224337697029114, Validation Loss: 0.2690902140153491\n",
      "Epoch 29/100, Loss: 0.6748608350753784, Validation Loss: 0.2471763409026291\n",
      "Epoch 30/100, Loss: 0.22643283009529114, Validation Loss: 0.2294889792152073\n",
      "Epoch 31/100, Loss: 0.03667288273572922, Validation Loss: 0.22324164883921976\n",
      "Epoch 32/100, Loss: 0.26657819747924805, Validation Loss: 0.23285163007676601\n",
      "Epoch 33/100, Loss: 0.07699088752269745, Validation Loss: 0.22934590733569601\n",
      "Epoch 34/100, Loss: 0.0426521934568882, Validation Loss: 0.2527987400636725\n",
      "Epoch 35/100, Loss: 0.05523776262998581, Validation Loss: 0.23974143997158692\n",
      "Epoch 36/100, Loss: 0.03578619658946991, Validation Loss: 0.22174076322952044\n",
      "Epoch 37/100, Loss: 0.010030797682702541, Validation Loss: 0.21171519512553577\n",
      "Epoch 38/100, Loss: 0.6234789490699768, Validation Loss: 0.1991079416854874\n",
      "Epoch 39/100, Loss: 0.03522714599967003, Validation Loss: 0.22659026163265758\n",
      "Epoch 40/100, Loss: 0.12380329519510269, Validation Loss: 0.21484776780657147\n",
      "Epoch 41/100, Loss: 0.050069794058799744, Validation Loss: 0.20011945421119098\n",
      "Epoch 42/100, Loss: 0.013593576848506927, Validation Loss: 0.20531098313791596\n",
      "Epoch 43/100, Loss: 0.5721333622932434, Validation Loss: 0.195397369199149\n",
      "Epoch 44/100, Loss: 0.014180448837578297, Validation Loss: 0.20682824945644193\n",
      "Epoch 45/100, Loss: 0.034389737993478775, Validation Loss: 0.22398935262437747\n",
      "Epoch 46/100, Loss: 0.020405184477567673, Validation Loss: 0.2326841488804506\n",
      "Epoch 47/100, Loss: 0.005925930105149746, Validation Loss: 0.2334199868466543\n",
      "Epoch 48/100, Loss: 0.09413811564445496, Validation Loss: 0.21190963422312684\n",
      "Epoch 49/100, Loss: 0.04421641677618027, Validation Loss: 0.21872096747645867\n",
      "Epoch 50/100, Loss: 0.08820423483848572, Validation Loss: 0.19233048755837523\n",
      "Epoch 51/100, Loss: 0.03150380775332451, Validation Loss: 0.19723483361303806\n",
      "Epoch 52/100, Loss: 0.050619084388017654, Validation Loss: 0.21530524507650864\n",
      "Epoch 53/100, Loss: 0.4899034798145294, Validation Loss: 0.27062644639416883\n",
      "Epoch 54/100, Loss: 0.042053863406181335, Validation Loss: 0.191923969708707\n",
      "Epoch 55/100, Loss: 0.23413723707199097, Validation Loss: 0.2029575025257857\n",
      "Epoch 56/100, Loss: 0.017079932615160942, Validation Loss: 0.18958369670840708\n",
      "Epoch 57/100, Loss: 0.4050308167934418, Validation Loss: 0.19168566102566925\n",
      "Epoch 58/100, Loss: 0.19964833557605743, Validation Loss: 0.20432520096959628\n",
      "Epoch 59/100, Loss: 0.905157744884491, Validation Loss: 0.23256369254997242\n",
      "Epoch 60/100, Loss: 0.0033150759991258383, Validation Loss: 0.177913349405255\n",
      "Epoch 61/100, Loss: 0.07569698244333267, Validation Loss: 0.20795730641111732\n",
      "Epoch 62/100, Loss: 0.009492291137576103, Validation Loss: 0.206726025628007\n",
      "Epoch 63/100, Loss: 0.025692783296108246, Validation Loss: 0.19269330589019734\n",
      "Epoch 64/100, Loss: 0.007768771145492792, Validation Loss: 0.19623326360369506\n",
      "Epoch 65/100, Loss: 0.002990074921399355, Validation Loss: 0.22205732738518197\n",
      "Epoch 66/100, Loss: 0.050500448793172836, Validation Loss: 0.1894348808159323\n",
      "Epoch 67/100, Loss: 0.047857679426670074, Validation Loss: 0.20489624183139074\n",
      "Epoch 68/100, Loss: 0.12392570823431015, Validation Loss: 0.1926891010902498\n",
      "Epoch 69/100, Loss: 0.07961098104715347, Validation Loss: 0.18258660782695466\n",
      "Epoch 70/100, Loss: 0.24506418406963348, Validation Loss: 0.21115464198848474\n",
      "Early stopping! at Epoch: 70\n"
     ]
    }
   ],
   "source": [
    "# Training loop\n",
    "num_epochs = 100  # Increase the number of epochs\n",
    "patience = 10  # Number of epochs to wait for improvement before stopping\n",
    "best_val_loss = float('inf')\n",
    "epochs_no_improve = 0\n",
    "\n",
    "for epoch in range(num_epochs):\n",
    "    gcnClassifier.train()\n",
    "    for data in train_loader:\n",
    "        optimizer.zero_grad()\n",
    "        output = gcnClassifier(data)\n",
    "        loss = criterion(output, data.y)\n",
    "        loss.backward()\n",
    "        optimizer.step()\n",
    "\n",
    "    # Validation\n",
    "    gcnClassifier.eval()\n",
    "    val_loss = 0\n",
    "    for data in val_loader:\n",
    "        output = gcnClassifier(data)\n",
    "        val_loss += criterion(output, data.y).item()\n",
    "    val_loss /= len(val_loader)\n",
    "\n",
    "    print(f'Epoch {epoch + 1}/{num_epochs}, Loss: {loss.item()}, Validation Loss: {val_loss}')\n",
    "\n",
    "    # Check for early stopping\n",
    "    if val_loss < best_val_loss:\n",
    "        best_val_loss = val_loss\n",
    "        epochs_no_improve = 0\n",
    "    else:\n",
    "        epochs_no_improve += 1\n",
    "        if epochs_no_improve == patience:\n",
    "            print(f'Early stopping! at Epoch: {epoch + 1}')\n",
    "            break"
   ]
  },
  {
   "cell_type": "code",
   "execution_count": 54,
   "metadata": {},
   "outputs": [
    {
     "name": "stdout",
     "output_type": "stream",
     "text": [
      "Classification Report:\n",
      "               precision    recall  f1-score   support\n",
      "\n",
      "           0     0.9797    0.9387    0.9587       359\n",
      "           1     0.9296    0.9508    0.9401       264\n",
      "           2     0.9137    0.9091    0.9114       198\n",
      "           3     0.8861    0.8434    0.8642       166\n",
      "           4     0.9211    0.8750    0.8974       200\n",
      "           5     0.8547    0.9187    0.8855       160\n",
      "           6     0.9176    0.9176    0.9176       170\n",
      "           7     0.9556    0.8776    0.9149       147\n",
      "           8     0.7089    0.9096    0.7968       166\n",
      "           9     0.8797    0.7853    0.8299       177\n",
      "\n",
      "    accuracy                         0.8994      2007\n",
      "   macro avg     0.8947    0.8926    0.8917      2007\n",
      "weighted avg     0.9048    0.8994    0.9004      2007\n",
      "\n"
     ]
    }
   ],
   "source": [
    "# Evaluation\n",
    "gcnClassifier.eval()\n",
    "correct = 0\n",
    "total = 0\n",
    "all_predicted = []\n",
    "all_labels = []\n",
    "\n",
    "with torch.no_grad():\n",
    "    for data in test_loader:\n",
    "        output = gcnClassifier(data)\n",
    "        _, predicted = torch.max(output, 1)\n",
    "        total += data.y.size(0)\n",
    "        correct += (predicted == data.y).sum().item()\n",
    "\n",
    "        # Collect predictions and ground truth for later metric calculation\n",
    "        all_predicted.extend(predicted.cpu().numpy())\n",
    "        all_labels.extend(data.y.cpu().numpy())\n",
    "\n",
    "# Print classification report\n",
    "print(\"Classification Report:\\n\", classification_report(all_labels, all_predicted, zero_division=1, digits=4))"
   ]
  },
  {
   "cell_type": "code",
   "execution_count": 55,
   "metadata": {},
   "outputs": [
    {
     "data": {
      "image/png": "[encoded data removed]",
      "text/plain": [
       "<Figure size 800x600 with 2 Axes>"
      ]
     },
     "metadata": {},
     "output_type": "display_data"
    }
   ],
   "source": [
    "# Calculate confusion matrix\n",
    "conf_matrix = confusion_matrix(all_labels, all_predicted)\n",
    "\n",
    "# Plot confusion matrix\n",
    "plt.figure(figsize=(8, 6))\n",
    "sns.heatmap(conf_matrix, annot=True, fmt=\"d\", cmap=\"Blues\", xticklabels=range(num_classes), yticklabels=range(num_classes))\n",
    "plt.xlabel(\"Predicted label\")\n",
    "plt.ylabel(\"True label\")\n",
    "plt.title(\"Confusion Matrix\")\n",
    "plt.show()"
   ]
  }
 ],
 "metadata": {
  "kernelspec": {
   "display_name": "Python 3",
   "language": "python",
   "name": "python3"
  },
  "language_info": {
   "codemirror_mode": {
    "name": "ipython",
    "version": 3
   },
   "file_extension": ".py",
   "mimetype": "text/x-python",
   "name": "python",
   "nbconvert_exporter": "python",
   "pygments_lexer": "ipython3",
   "version": "3.11.8"
  }
 },
 "nbformat": 4,
 "nbformat_minor": 2
}
