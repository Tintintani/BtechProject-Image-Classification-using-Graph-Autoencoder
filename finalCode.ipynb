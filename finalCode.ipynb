{
 "cells": [
  {
   "cell_type": "markdown",
   "metadata": {},
   "source": [
    "# Imports"
   ]
  },
  {
   "cell_type": "code",
   "execution_count": 1,
   "metadata": {},
   "outputs": [],
   "source": [
    "import numpy as np\n",
    "import matplotlib.pyplot as plt\n",
    "import seaborn as sns\n",
    "from skimage.morphology import skeletonize\n",
    "from sklearn.model_selection import train_test_split\n",
    "from sklearn.metrics import classification_report, confusion_matrix\n",
    "import cv2\n",
    "import tensorflow as tf\n",
    "import networkx as nx\n",
    "from extra_keras_datasets import usps"
   ]
  },
  {
   "cell_type": "markdown",
   "metadata": {},
   "source": [
    "# Datasets"
   ]
  },
  {
   "cell_type": "code",
   "execution_count": 2,
   "metadata": {},
   "outputs": [],
   "source": [
    "datasets = {\n",
    "    \"mnist\": {\"dataloader\": tf.keras.datasets.mnist.load_data, \"edge_detection\": False, \"scale\": False},\n",
    "    \"fashion_mnist\": {\"dataloader\": tf.keras.datasets.fashion_mnist.load_data, \"edge_detection\": True, \"scale\": False},\n",
    "    \"usps\": {\"dataloader\": usps.load_data, \"edge_detection\": False, \"scale\": True},\n",
    "}"
   ]
  },
  {
   "cell_type": "code",
   "execution_count": 3,
   "metadata": {},
   "outputs": [],
   "source": [
    "current_dataset = datasets[\"fashion_mnist\"]"
   ]
  },
  {
   "cell_type": "code",
   "execution_count": 4,
   "metadata": {},
   "outputs": [],
   "source": [
    "import ssl\n",
    "ssl._create_default_https_context = ssl._create_unverified_context"
   ]
  },
  {
   "cell_type": "code",
   "execution_count": 5,
   "metadata": {},
   "outputs": [],
   "source": [
    "# Load  dataset\n",
    "(x_train, y_train), (x_test, y_test) = current_dataset[\"dataloader\"]()"
   ]
  },
  {
   "cell_type": "code",
   "execution_count": 6,
   "metadata": {},
   "outputs": [],
   "source": [
    "images_train = x_train\n",
    "images_test = x_test"
   ]
  },
  {
   "cell_type": "code",
   "execution_count": 7,
   "metadata": {},
   "outputs": [],
   "source": [
    "k = 0"
   ]
  },
  {
   "cell_type": "markdown",
   "metadata": {},
   "source": [
    "### Viewing an image"
   ]
  },
  {
   "cell_type": "code",
   "execution_count": 8,
   "metadata": {},
   "outputs": [],
   "source": [
    "def show_image(image):\n",
    "  plt.figure(figsize=(2, 2))\n",
    "  plt.imshow(image, interpolation='nearest', cmap='gray')\n",
    "  plt.show()"
   ]
  },
  {
   "cell_type": "code",
   "execution_count": 9,
   "metadata": {},
   "outputs": [
    {
     "data": {
      "image/png": "[encoded data removed]",
      "text/plain": [
       "<Figure size 200x200 with 1 Axes>"
      ]
     },
     "metadata": {},
     "output_type": "display_data"
    }
   ],
   "source": [
    "show_image(images_train[k])"
   ]
  },
  {
   "cell_type": "markdown",
   "metadata": {},
   "source": [
    "# Preprocessing Images"
   ]
  },
  {
   "cell_type": "code",
   "execution_count": 10,
   "metadata": {},
   "outputs": [],
   "source": [
    "def scale(images):\n",
    "  return ((images + 1) / 2.0) * 255.0"
   ]
  },
  {
   "cell_type": "code",
   "execution_count": 11,
   "metadata": {},
   "outputs": [],
   "source": [
    "if current_dataset[\"scale\"]:\n",
    "  images_train = scale(images_train)\n",
    "  images_test = scale(images_test)"
   ]
  },
  {
   "cell_type": "code",
   "execution_count": 12,
   "metadata": {},
   "outputs": [],
   "source": [
    "def convert_edgedetection(images):\n",
    "    edge_detection = []\n",
    "    for image in images:\n",
    "        if image.shape[-1] == 3:\n",
    "            image = cv2.cvtColor(image, cv2.COLOR_BGR2GRAY) \n",
    "        \n",
    "        # Apply Gaussian blur to reduce noise and smoothen edges \n",
    "        blurred = cv2.GaussianBlur(src=image, ksize=(3, 3), sigmaX=1, sigmaY=1) \n",
    "      \n",
    "        # Perform Canny edge detection \n",
    "        edges = cv2.Canny(blurred, 225, 250)\n",
    "        edge_detection.append(edges)\n",
    "    return edge_detection"
   ]
  },
  {
   "cell_type": "code",
   "execution_count": 13,
   "metadata": {},
   "outputs": [],
   "source": [
    "if current_dataset[\"edge_detection\"]:\n",
    "  edge_detection_train = convert_edgedetection(images_train)\n",
    "  edge_detection_test = convert_edgedetection(images_test)\n",
    "  images_train = edge_detection_train\n",
    "  images_test = edge_detection_test"
   ]
  },
  {
   "cell_type": "code",
   "execution_count": 14,
   "metadata": {},
   "outputs": [
    {
     "data": {
      "image/png": "[encoded data removed]",
      "text/plain": [
       "<Figure size 200x200 with 1 Axes>"
      ]
     },
     "metadata": {},
     "output_type": "display_data"
    }
   ],
   "source": [
    "show_image(images_train[k])"
   ]
  },
  {
   "cell_type": "code",
   "execution_count": 15,
   "metadata": {},
   "outputs": [],
   "source": [
    "def get_threshold(image):\n",
    "  count = 0\n",
    "  sum = 0\n",
    "  med = np.median(image)\n",
    "  for row in image:\n",
    "    for x in row:\n",
    "      if x != 0 and x >= med:\n",
    "        sum += x\n",
    "        count += 1\n",
    "  \n",
    "  return int(sum / count)"
   ]
  },
  {
   "cell_type": "code",
   "execution_count": 16,
   "metadata": {},
   "outputs": [
    {
     "data": {
      "text/plain": [
       "255"
      ]
     },
     "execution_count": 16,
     "metadata": {},
     "output_type": "execute_result"
    }
   ],
   "source": [
    "get_threshold(images_train[k])"
   ]
  },
  {
   "cell_type": "code",
   "execution_count": 17,
   "metadata": {},
   "outputs": [],
   "source": [
    "def convert_binary(images):\n",
    "    binary_images = []\n",
    "    for image in images:\n",
    "        _, thresholded = cv2.threshold(image, max(get_threshold(image) - 1, 0), 255, cv2.THRESH_BINARY)\n",
    "        binary_images.append(thresholded)\n",
    "    return binary_images"
   ]
  },
  {
   "cell_type": "code",
   "execution_count": 18,
   "metadata": {},
   "outputs": [],
   "source": [
    "binary_images_train = convert_binary(images_train)\n",
    "binary_images_test = convert_binary(images_test)"
   ]
  },
  {
   "cell_type": "code",
   "execution_count": 19,
   "metadata": {},
   "outputs": [
    {
     "data": {
      "image/png": "[encoded data removed]",
      "text/plain": [
       "<Figure size 200x200 with 1 Axes>"
      ]
     },
     "metadata": {},
     "output_type": "display_data"
    }
   ],
   "source": [
    "show_image(binary_images_train[k])"
   ]
  },
  {
   "cell_type": "code",
   "execution_count": 20,
   "metadata": {},
   "outputs": [],
   "source": [
    "def convert_skeletonize(binary_images):\n",
    "    skeletonized_images = []\n",
    "    for binary_image in binary_images:\n",
    "        skeletonized_image = skeletonize(binary_image)\n",
    "        skeletonized_images.append(skeletonized_image.astype(np.uint8))\n",
    "    return skeletonized_images"
   ]
  },
  {
   "cell_type": "code",
   "execution_count": 21,
   "metadata": {},
   "outputs": [],
   "source": [
    "skeletonized_images_train = convert_skeletonize(binary_images_train)\n",
    "skeletonized_images_test = convert_skeletonize(binary_images_test)"
   ]
  },
  {
   "cell_type": "code",
   "execution_count": 22,
   "metadata": {},
   "outputs": [
    {
     "data": {
      "image/png": "[encoded data removed]",
      "text/plain": [
       "<Figure size 200x200 with 1 Axes>"
      ]
     },
     "metadata": {},
     "output_type": "display_data"
    }
   ],
   "source": [
    "show_image(skeletonized_images_train[k])"
   ]
  },
  {
   "cell_type": "markdown",
   "metadata": {},
   "source": [
    "# Creating Graph"
   ]
  },
  {
   "cell_type": "code",
   "execution_count": 23,
   "metadata": {},
   "outputs": [],
   "source": [
    "def create_nodes(skeletonized_images):\n",
    "    nodes_list = []\n",
    "    node_features_list = []\n",
    "    for skeletonized_image in skeletonized_images:\n",
    "        nodes = []\n",
    "        features = []\n",
    "        for i in range(skeletonized_image.shape[0]):\n",
    "            for j in range(skeletonized_image.shape[1]):\n",
    "                if skeletonized_image[i, j] == 1:\n",
    "                    nodes.append((i, j))\n",
    "                    features.append([i, j])\n",
    "        nodes_list.append(nodes)\n",
    "        node_features_list.append(features)\n",
    "    return nodes_list, node_features_list"
   ]
  },
  {
   "cell_type": "code",
   "execution_count": 24,
   "metadata": {},
   "outputs": [],
   "source": [
    "nodes_list_train, node_features_list_train = create_nodes(skeletonized_images_train)\n",
    "nodes_list_test, node_features_list_test = create_nodes(skeletonized_images_test)"
   ]
  },
  {
   "cell_type": "code",
   "execution_count": 25,
   "metadata": {},
   "outputs": [
    {
     "data": {
      "text/plain": [
       "[(4, 15), (4, 16), (4, 17), (5, 14), (5, 18)]"
      ]
     },
     "execution_count": 25,
     "metadata": {},
     "output_type": "execute_result"
    }
   ],
   "source": [
    "nodes_list_train[k][:5]"
   ]
  },
  {
   "cell_type": "code",
   "execution_count": 26,
   "metadata": {},
   "outputs": [
    {
     "data": {
      "text/plain": [
       "[[4, 15], [4, 16], [4, 17], [5, 14], [5, 18]]"
      ]
     },
     "execution_count": 26,
     "metadata": {},
     "output_type": "execute_result"
    }
   ],
   "source": [
    "node_features_list_train[k][:5]"
   ]
  },
  {
   "cell_type": "code",
   "execution_count": 27,
   "metadata": {},
   "outputs": [],
   "source": [
    "def create_graph(nodes_list, skeletonized_images):\n",
    "    graphs = []\n",
    "    for nodes, image in zip(nodes_list, skeletonized_images):\n",
    "        # Create a graph\n",
    "        G = nx.Graph()\n",
    "\n",
    "        # Add nodes for white pixels\n",
    "        G.add_nodes_from(nodes)\n",
    "        for i, j in nodes:\n",
    "            for x in range(-1, 2):\n",
    "                for y in range(-1, 2):\n",
    "                    if 0 <= i + x < image.shape[0] and 0 <= j + y < image.shape[1] and (x != 0 or y != 0) and image[i + x, j + y] == 1:\n",
    "                        G.add_edge((i, j), (i + x, j + y))\n",
    "        graphs.append(G)\n",
    "    return graphs"
   ]
  },
  {
   "cell_type": "code",
   "execution_count": 28,
   "metadata": {},
   "outputs": [],
   "source": [
    "graphs_train = create_graph(nodes_list_train, skeletonized_images_train)\n",
    "graphs_test = create_graph(nodes_list_test, skeletonized_images_test)"
   ]
  },
  {
   "cell_type": "code",
   "execution_count": 29,
   "metadata": {},
   "outputs": [],
   "source": [
    "nodes_dict_train = [{value: index for index, value in enumerate(list)} for list in nodes_list_train]\n",
    "nodes_dict_test = [{value: index for index, value in enumerate(list)} for list in nodes_list_test]"
   ]
  },
  {
   "cell_type": "code",
   "execution_count": 30,
   "metadata": {},
   "outputs": [
    {
     "data": {
      "text/plain": [
       "{(4, 15): 0,\n",
       " (4, 16): 1,\n",
       " (4, 17): 2,\n",
       " (5, 14): 3,\n",
       " (5, 18): 4,\n",
       " (5, 19): 5,\n",
       " (5, 20): 6,\n",
       " (6, 13): 7,\n",
       " (6, 21): 8,\n",
       " (6, 23): 9,\n",
       " (6, 24): 10,\n",
       " (6, 25): 11,\n",
       " (7, 13): 12,\n",
       " (7, 22): 13,\n",
       " (7, 26): 14,\n",
       " (8, 13): 15,\n",
       " (8, 26): 16,\n",
       " (9, 13): 17,\n",
       " (9, 26): 18,\n",
       " (10, 13): 19,\n",
       " (10, 26): 20,\n",
       " (11, 12): 21,\n",
       " (11, 26): 22,\n",
       " (12, 12): 23,\n",
       " (12, 26): 24,\n",
       " (13, 12): 25,\n",
       " (13, 26): 26,\n",
       " (14, 11): 27,\n",
       " (14, 26): 28,\n",
       " (15, 9): 29,\n",
       " (15, 10): 30,\n",
       " (15, 26): 31,\n",
       " (16, 4): 32,\n",
       " (16, 5): 33,\n",
       " (16, 6): 34,\n",
       " (16, 7): 35,\n",
       " (16, 8): 36,\n",
       " (16, 26): 37,\n",
       " (17, 2): 38,\n",
       " (17, 3): 39,\n",
       " (17, 14): 40,\n",
       " (17, 26): 41,\n",
       " (18, 1): 42,\n",
       " (18, 15): 43,\n",
       " (18, 16): 44,\n",
       " (18, 26): 45,\n",
       " (19, 1): 46,\n",
       " (19, 13): 47,\n",
       " (19, 26): 48,\n",
       " (20, 1): 49,\n",
       " (20, 14): 50,\n",
       " (20, 15): 51,\n",
       " (20, 16): 52,\n",
       " (20, 26): 53,\n",
       " (21, 1): 54,\n",
       " (21, 26): 55,\n",
       " (22, 2): 56,\n",
       " (23, 3): 57,\n",
       " (23, 26): 58,\n",
       " (23, 27): 59,\n",
       " (24, 4): 60,\n",
       " (24, 5): 61,\n",
       " (24, 15): 62,\n",
       " (24, 16): 63,\n",
       " (24, 17): 64,\n",
       " (24, 18): 65,\n",
       " (24, 19): 66,\n",
       " (24, 20): 67,\n",
       " (24, 21): 68,\n",
       " (24, 22): 69,\n",
       " (24, 23): 70,\n",
       " (24, 24): 71,\n",
       " (24, 25): 72,\n",
       " (25, 6): 73,\n",
       " (25, 7): 74,\n",
       " (25, 8): 75,\n",
       " (25, 9): 76,\n",
       " (25, 10): 77,\n",
       " (25, 11): 78,\n",
       " (25, 12): 79,\n",
       " (25, 13): 80,\n",
       " (25, 14): 81}"
      ]
     },
     "execution_count": 30,
     "metadata": {},
     "output_type": "execute_result"
    }
   ],
   "source": [
    "nodes_dict_train[k]"
   ]
  },
  {
   "cell_type": "code",
   "execution_count": 31,
   "metadata": {},
   "outputs": [
    {
     "data": {
      "image/png": "[encoded data removed]",
      "text/plain": [
       "<Figure size 640x480 with 1 Axes>"
      ]
     },
     "metadata": {},
     "output_type": "display_data"
    }
   ],
   "source": [
    "pos = {(i, j): (j, -i) for i, j in graphs_train[k].nodes()}\n",
    "nx.draw(graphs_train[k], pos, with_labels=True, font_size=7)\n",
    "plt.show()"
   ]
  },
  {
   "cell_type": "code",
   "execution_count": 32,
   "metadata": {},
   "outputs": [],
   "source": [
    "def create_edge_index(graph, nodes_dict):\n",
    "    edges = []\n",
    "    edge_from = []\n",
    "    edge_to = []\n",
    "    for (i, j) in graph.edges():\n",
    "        edge_from.append(nodes_dict[i])\n",
    "        edge_to.append(nodes_dict[j])\n",
    "    edges.append(edge_from)\n",
    "    edges.append(edge_to)\n",
    "    return np.array(edges)\n"
   ]
  },
  {
   "cell_type": "code",
   "execution_count": 33,
   "metadata": {},
   "outputs": [
    {
     "data": {
      "text/plain": [
       "EdgeView([((4, 15), (4, 16)), ((4, 15), (5, 14)), ((4, 16), (4, 17)), ((4, 17), (5, 18)), ((5, 14), (6, 13)), ((5, 18), (5, 19)), ((5, 19), (5, 20)), ((5, 20), (6, 21)), ((6, 13), (7, 13)), ((6, 21), (7, 22)), ((6, 23), (6, 24)), ((6, 23), (7, 22)), ((6, 24), (6, 25)), ((6, 25), (7, 26)), ((7, 13), (8, 13)), ((7, 26), (8, 26)), ((8, 13), (9, 13)), ((8, 26), (9, 26)), ((9, 13), (10, 13)), ((9, 26), (10, 26)), ((10, 13), (11, 12)), ((10, 26), (11, 26)), ((11, 12), (12, 12)), ((11, 26), (12, 26)), ((12, 12), (13, 12)), ((12, 26), (13, 26)), ((13, 12), (14, 11)), ((13, 26), (14, 26)), ((14, 11), (15, 10)), ((14, 26), (15, 26)), ((15, 9), (15, 10)), ((15, 9), (16, 8)), ((15, 26), (16, 26)), ((16, 4), (16, 5)), ((16, 4), (17, 3)), ((16, 5), (16, 6)), ((16, 6), (16, 7)), ((16, 7), (16, 8)), ((16, 26), (17, 26)), ((17, 2), (17, 3)), ((17, 2), (18, 1)), ((17, 14), (18, 15)), ((17, 26), (18, 26)), ((18, 1), (19, 1)), ((18, 15), (18, 16)), ((18, 26), (19, 26)), ((19, 1), (20, 1)), ((19, 13), (20, 14)), ((19, 26), (20, 26)), ((20, 1), (21, 1)), ((20, 14), (20, 15)), ((20, 15), (20, 16)), ((20, 26), (21, 26)), ((21, 1), (22, 2)), ((22, 2), (23, 3)), ((23, 3), (24, 4)), ((23, 26), (23, 27)), ((23, 26), (24, 25)), ((24, 4), (24, 5)), ((24, 5), (25, 6)), ((24, 15), (24, 16)), ((24, 15), (25, 14)), ((24, 16), (24, 17)), ((24, 17), (24, 18)), ((24, 18), (24, 19)), ((24, 19), (24, 20)), ((24, 20), (24, 21)), ((24, 21), (24, 22)), ((24, 22), (24, 23)), ((24, 23), (24, 24)), ((24, 24), (24, 25)), ((25, 6), (25, 7)), ((25, 7), (25, 8)), ((25, 8), (25, 9)), ((25, 9), (25, 10)), ((25, 10), (25, 11)), ((25, 11), (25, 12)), ((25, 12), (25, 13)), ((25, 13), (25, 14))])"
      ]
     },
     "execution_count": 33,
     "metadata": {},
     "output_type": "execute_result"
    }
   ],
   "source": [
    "graphs_train[k].edges()"
   ]
  },
  {
   "cell_type": "code",
   "execution_count": 34,
   "metadata": {},
   "outputs": [],
   "source": [
    "edges_index_list_train = [create_edge_index(graphs_train[i], nodes_dict_train[i]) for i in range(len(images_train))]\n",
    "edges_index_list_test = [create_edge_index(graphs_test[i], nodes_dict_test[i]) for i in range(len(images_test))]"
   ]
  },
  {
   "cell_type": "code",
   "execution_count": 35,
   "metadata": {},
   "outputs": [
    {
     "data": {
      "text/plain": [
       "array([[ 0,  0,  1,  2,  3,  4,  5,  6,  7,  8,  9,  9, 10, 11, 12, 14,\n",
       "        15, 16, 17, 18, 19, 20, 21, 22, 23, 24, 25, 26, 27, 28, 29, 29,\n",
       "        31, 32, 32, 33, 34, 35, 37, 38, 38, 40, 41, 42, 43, 45, 46, 47,\n",
       "        48, 49, 50, 51, 53, 54, 56, 57, 58, 58, 60, 61, 62, 62, 63, 64,\n",
       "        65, 66, 67, 68, 69, 70, 71, 73, 74, 75, 76, 77, 78, 79, 80],\n",
       "       [ 1,  3,  2,  4,  7,  5,  6,  8, 12, 13, 10, 13, 11, 14, 15, 16,\n",
       "        17, 18, 19, 20, 21, 22, 23, 24, 25, 26, 27, 28, 30, 31, 30, 36,\n",
       "        37, 33, 39, 34, 35, 36, 41, 39, 42, 43, 45, 46, 44, 48, 49, 50,\n",
       "        53, 54, 51, 52, 55, 56, 57, 60, 59, 72, 61, 73, 63, 81, 64, 65,\n",
       "        66, 67, 68, 69, 70, 71, 72, 74, 75, 76, 77, 78, 79, 80, 81]])"
      ]
     },
     "execution_count": 35,
     "metadata": {},
     "output_type": "execute_result"
    }
   ],
   "source": [
    "edges_index_list_train[k]"
   ]
  },
  {
   "cell_type": "code",
   "execution_count": 36,
   "metadata": {},
   "outputs": [],
   "source": [
    "import torch\n",
    "import torch.nn as nn\n",
    "import torch.nn.functional as F\n",
    "from torch_geometric.nn import GraphConv, global_mean_pool\n",
    "from torch_geometric.data import Data, Dataset\n",
    "from torch_geometric.loader import DataLoader"
   ]
  },
  {
   "cell_type": "markdown",
   "metadata": {},
   "source": [
    "# Making Dataset"
   ]
  },
  {
   "cell_type": "code",
   "execution_count": 37,
   "metadata": {},
   "outputs": [],
   "source": [
    "class CustomGraphDataset(Dataset):\n",
    "    def __init__(self, data_list):\n",
    "        super(CustomGraphDataset, self).__init__()\n",
    "        self.data_list = data_list\n",
    "\n",
    "    def __len__(self):\n",
    "        return len(self.data_list)\n",
    "\n",
    "    def __getitem__(self, idx):\n",
    "        return self.data_list[idx]\n",
    "\n",
    "    # Additional abstract methods to implement\n",
    "    def get(self, idx):\n",
    "        # Implement logic to retrieve data at the given index\n",
    "        return self.data_list[idx]\n",
    "\n",
    "    def len(self):\n",
    "        # Implement logic to return the length of the dataset\n",
    "        return len(self.data_list)"
   ]
  },
  {
   "cell_type": "code",
   "execution_count": 38,
   "metadata": {},
   "outputs": [],
   "source": [
    "def create_custom_data_instance(node_features, edges, label):\n",
    "    x = torch.tensor(node_features, dtype=torch.float)\n",
    "    edge_index = torch.tensor(edges, dtype=torch.long)\n",
    "    y = torch.tensor([label], dtype=torch.long)\n",
    "    return Data(x=x, edge_index=edge_index, y=y)"
   ]
  },
  {
   "cell_type": "code",
   "execution_count": 39,
   "metadata": {},
   "outputs": [],
   "source": [
    "data_list_train = [create_custom_data_instance(node_features_list_train[i], edges_index_list_train[i], y_train[i]) for i in range(len(images_train))]\n",
    "custom_dataset_train = CustomGraphDataset(data_list_train)\n",
    "\n",
    "data_list_test = [create_custom_data_instance(node_features_list_test[i], edges_index_list_test[i], y_test[i]) for i in range(len(images_test))]\n",
    "custom_dataset_test = CustomGraphDataset(data_list_test)"
   ]
  },
  {
   "cell_type": "code",
   "execution_count": 40,
   "metadata": {},
   "outputs": [],
   "source": [
    "num_features = custom_dataset_train.num_features\n",
    "num_classes = custom_dataset_train.num_classes"
   ]
  },
  {
   "cell_type": "code",
   "execution_count": 41,
   "metadata": {},
   "outputs": [],
   "source": [
    "train_dataset, val_dataset = train_test_split(custom_dataset_train, test_size=0.2, random_state=42)\n",
    "test_dataset = custom_dataset_test"
   ]
  },
  {
   "cell_type": "code",
   "execution_count": 42,
   "metadata": {},
   "outputs": [],
   "source": [
    "# Use PyTorch DataLoader to handle batching\n",
    "val_loader = DataLoader(val_dataset, batch_size=32, shuffle=False)\n",
    "train_loader = DataLoader(train_dataset, batch_size=32, shuffle=True)\n",
    "test_loader = DataLoader(test_dataset, batch_size=32, shuffle=False)"
   ]
  },
  {
   "cell_type": "code",
   "execution_count": 43,
   "metadata": {},
   "outputs": [
    {
     "data": {
      "text/plain": [
       "48000"
      ]
     },
     "execution_count": 43,
     "metadata": {},
     "output_type": "execute_result"
    }
   ],
   "source": [
    "len(train_dataset)"
   ]
  },
  {
   "cell_type": "code",
   "execution_count": 44,
   "metadata": {},
   "outputs": [
    {
     "data": {
      "text/plain": [
       "CustomGraphDataset(10000)"
      ]
     },
     "execution_count": 44,
     "metadata": {},
     "output_type": "execute_result"
    }
   ],
   "source": [
    "test_dataset"
   ]
  },
  {
   "cell_type": "code",
   "execution_count": 45,
   "metadata": {},
   "outputs": [
    {
     "data": {
      "text/plain": [
       "Data(x=[59, 2], edge_index=[2, 56], y=[1])"
      ]
     },
     "execution_count": 45,
     "metadata": {},
     "output_type": "execute_result"
    }
   ],
   "source": [
    "train_dataset[k]"
   ]
  },
  {
   "cell_type": "code",
   "execution_count": 46,
   "metadata": {},
   "outputs": [
    {
     "name": "stdout",
     "output_type": "stream",
     "text": [
      "Number of Features: 2, Number of Classes: 10\n"
     ]
    }
   ],
   "source": [
    "print(f'Number of Features: {num_features}, Number of Classes: {num_classes}')"
   ]
  },
  {
   "cell_type": "markdown",
   "metadata": {},
   "source": [
    "Graph Neural Network for Graph Classification"
   ]
  },
  {
   "cell_type": "code",
   "execution_count": 47,
   "metadata": {},
   "outputs": [],
   "source": [
    "class GCNClassifier(nn.Module):\n",
    "    def __init__(self, input_dim, hidden_dim, output_dim):\n",
    "        super(GCNClassifier, self).__init__()\n",
    "        self.conv1 = GraphConv(input_dim, hidden_dim[0])\n",
    "        self.conv2 = GraphConv(hidden_dim[0], hidden_dim[1])\n",
    "        self.conv3 = GraphConv(hidden_dim[1], hidden_dim[2])\n",
    "        self.conv4 = GraphConv(hidden_dim[2], output_dim)\n",
    "\n",
    "    def forward(self, data):\n",
    "        x, edge_index, batch = data.x, data.edge_index, data.batch\n",
    "        x = F.relu(self.conv1(x, edge_index))\n",
    "        # x = F.dropout(x, p=0.2)\n",
    "        x = F.relu(self.conv2(x, edge_index))\n",
    "        # x = F.dropout(x, p=0.2)\n",
    "        x = F.relu(self.conv3(x, edge_index))\n",
    "        # x = F.dropout(x, p=0.2)\n",
    "        x = F.relu(self.conv4(x, edge_index))\n",
    "        # x = F.dropout(x, p=0.2)\n",
    "        x = global_mean_pool(x, batch)\n",
    "        # x = global_add_pool(x, batch)\n",
    "        return F.log_softmax(x, dim=1)"
   ]
  },
  {
   "cell_type": "code",
   "execution_count": 48,
   "metadata": {},
   "outputs": [],
   "source": [
    "# Instantiate the Graph Neural Network model\n",
    "input_dim = num_features\n",
    "hidden_dim = [32, 16, 16]\n",
    "output_dim = num_classes\n",
    "gcnClassifier = GCNClassifier(input_dim, hidden_dim, output_dim)\n",
    "\n",
    "# Define the optimizer\n",
    "optimizer = torch.optim.Adam(gcnClassifier.parameters(), lr=0.005)\n",
    "criterion = nn.CrossEntropyLoss()"
   ]
  },
  {
   "cell_type": "code",
   "execution_count": 49,
   "metadata": {},
   "outputs": [
    {
     "name": "stdout",
     "output_type": "stream",
     "text": [
      "Epoch 1/100, Loss: 1.089284062385559, Validation Loss: 1.0372031327883402\n",
      "Epoch 2/100, Loss: 0.8766999244689941, Validation Loss: 0.9903282540639241\n",
      "Epoch 3/100, Loss: 0.8068247437477112, Validation Loss: 0.8115037542978922\n",
      "Epoch 4/100, Loss: 0.7562667727470398, Validation Loss: 0.7802649388313293\n",
      "Epoch 5/100, Loss: 0.6062224507331848, Validation Loss: 0.741684176603953\n",
      "Epoch 6/100, Loss: 0.8059094548225403, Validation Loss: 0.7214140484333038\n",
      "Epoch 7/100, Loss: 0.667644202709198, Validation Loss: 0.7341047462622324\n",
      "Epoch 8/100, Loss: 0.45048293471336365, Validation Loss: 0.7007648752530415\n",
      "Epoch 9/100, Loss: 1.2690857648849487, Validation Loss: 0.7048914379278819\n",
      "Epoch 10/100, Loss: 0.7905208468437195, Validation Loss: 0.6916249619325002\n",
      "Epoch 11/100, Loss: 0.818015992641449, Validation Loss: 0.7097348982095718\n",
      "Epoch 12/100, Loss: 0.691538393497467, Validation Loss: 0.6695269192059835\n",
      "Epoch 13/100, Loss: 1.2303634881973267, Validation Loss: 0.678155246257782\n",
      "Epoch 14/100, Loss: 0.7053593397140503, Validation Loss: 0.6752118589878082\n",
      "Epoch 15/100, Loss: 0.6857632398605347, Validation Loss: 0.6880671387513478\n",
      "Epoch 16/100, Loss: 0.4394364356994629, Validation Loss: 0.6882727442582448\n",
      "Epoch 17/100, Loss: 0.5448207259178162, Validation Loss: 0.651025497118632\n",
      "Epoch 18/100, Loss: 0.696992814540863, Validation Loss: 0.6645810734828314\n",
      "Epoch 19/100, Loss: 0.5059048533439636, Validation Loss: 0.6641276179154714\n",
      "Epoch 20/100, Loss: 0.467135488986969, Validation Loss: 0.6593451457818349\n",
      "Epoch 21/100, Loss: 0.449688583612442, Validation Loss: 0.6510925973653794\n",
      "Epoch 22/100, Loss: 0.35534366965293884, Validation Loss: 0.655172529856364\n",
      "Epoch 23/100, Loss: 0.5628042817115784, Validation Loss: 0.631122530857722\n",
      "Epoch 24/100, Loss: 0.7265777587890625, Validation Loss: 0.6561469272772471\n",
      "Epoch 25/100, Loss: 0.5647091269493103, Validation Loss: 0.646985954284668\n",
      "Epoch 26/100, Loss: 0.8472272157669067, Validation Loss: 0.6467827320893605\n",
      "Epoch 27/100, Loss: 0.7159563899040222, Validation Loss: 0.6301076454321544\n",
      "Epoch 28/100, Loss: 0.8744294047355652, Validation Loss: 0.6332516375382742\n",
      "Epoch 29/100, Loss: 0.6069251894950867, Validation Loss: 0.6494345052639643\n",
      "Epoch 30/100, Loss: 0.7874886393547058, Validation Loss: 0.6154509662389755\n",
      "Epoch 31/100, Loss: 0.7309842109680176, Validation Loss: 0.6523692212104797\n",
      "Epoch 32/100, Loss: 0.5603272318840027, Validation Loss: 0.6437145722707113\n",
      "Epoch 33/100, Loss: 0.5896763801574707, Validation Loss: 0.6418100256522496\n",
      "Epoch 34/100, Loss: 0.6659098267555237, Validation Loss: 0.6681832993030548\n",
      "Epoch 35/100, Loss: 0.5550114512443542, Validation Loss: 0.6069400759935379\n",
      "Epoch 36/100, Loss: 0.49874478578567505, Validation Loss: 0.6642412440776825\n",
      "Epoch 37/100, Loss: 0.9719229936599731, Validation Loss: 0.607804897069931\n",
      "Epoch 38/100, Loss: 0.5976417064666748, Validation Loss: 0.6113976461092631\n",
      "Epoch 39/100, Loss: 0.894721508026123, Validation Loss: 0.6221791505416234\n",
      "Epoch 40/100, Loss: 0.41787686944007874, Validation Loss: 0.630498731692632\n",
      "Epoch 41/100, Loss: 0.60635906457901, Validation Loss: 0.6308776959578196\n",
      "Epoch 42/100, Loss: 0.558427095413208, Validation Loss: 0.6109331618150076\n",
      "Epoch 43/100, Loss: 0.4943704605102539, Validation Loss: 0.631658259510994\n",
      "Epoch 44/100, Loss: 0.9522473216056824, Validation Loss: 0.6132705835898717\n",
      "Epoch 45/100, Loss: 0.7563533186912537, Validation Loss: 0.6514772022167842\n",
      "Early stopping! at Epoch: 45\n"
     ]
    }
   ],
   "source": [
    "# Training loop\n",
    "num_epochs = 100  # Increase the number of epochs\n",
    "patience = 10  # Number of epochs to wait for improvement before stopping\n",
    "best_val_loss = float('inf')\n",
    "epochs_no_improve = 0\n",
    "\n",
    "for epoch in range(num_epochs):\n",
    "    gcnClassifier.train()\n",
    "    for data in train_loader:\n",
    "        optimizer.zero_grad()\n",
    "        output = gcnClassifier(data)\n",
    "        loss = criterion(output, data.y)\n",
    "        loss.backward()\n",
    "        optimizer.step()\n",
    "\n",
    "    # Validation\n",
    "    gcnClassifier.eval()\n",
    "    val_loss = 0\n",
    "    for data in val_loader:\n",
    "        output = gcnClassifier(data)\n",
    "        val_loss += criterion(output, data.y).item()\n",
    "    val_loss /= len(val_loader)\n",
    "\n",
    "    print(f'Epoch {epoch + 1}/{num_epochs}, Loss: {loss.item()}, Validation Loss: {val_loss}')\n",
    "\n",
    "    # Check for early stopping\n",
    "    if val_loss < best_val_loss:\n",
    "        best_val_loss = val_loss\n",
    "        epochs_no_improve = 0\n",
    "    else:\n",
    "        epochs_no_improve += 1\n",
    "        if epochs_no_improve == patience:\n",
    "            print(f'Early stopping! at Epoch: {epoch + 1}')\n",
    "            break"
   ]
  },
  {
   "cell_type": "code",
   "execution_count": 50,
   "metadata": {},
   "outputs": [
    {
     "name": "stdout",
     "output_type": "stream",
     "text": [
      "Classification Report:\n",
      "               precision    recall  f1-score   support\n",
      "\n",
      "           0     0.7368    0.7390    0.7379      1000\n",
      "           1     0.9671    0.9400    0.9533      1000\n",
      "           2     0.5948    0.6460    0.6194      1000\n",
      "           3     0.7753    0.8110    0.7928      1000\n",
      "           4     0.4937    0.8240    0.6175      1000\n",
      "           5     0.9017    0.8530    0.8767      1000\n",
      "           6     0.6136    0.1350    0.2213      1000\n",
      "           7     0.8737    0.8650    0.8693      1000\n",
      "           8     0.8799    0.8790    0.8794      1000\n",
      "           9     0.8840    0.9450    0.9135      1000\n",
      "\n",
      "    accuracy                         0.7637     10000\n",
      "   macro avg     0.7721    0.7637    0.7481     10000\n",
      "weighted avg     0.7721    0.7637    0.7481     10000\n",
      "\n"
     ]
    }
   ],
   "source": [
    "# Evaluation\n",
    "gcnClassifier.eval()\n",
    "correct = 0\n",
    "total = 0\n",
    "all_predicted = []\n",
    "all_labels = []\n",
    "\n",
    "with torch.no_grad():\n",
    "    for data in test_loader:\n",
    "        output = gcnClassifier(data)\n",
    "        _, predicted = torch.max(output, 1)\n",
    "        total += data.y.size(0)\n",
    "        correct += (predicted == data.y).sum().item()\n",
    "\n",
    "        # Collect predictions and ground truth for later metric calculation\n",
    "        all_predicted.extend(predicted.cpu().numpy())\n",
    "        all_labels.extend(data.y.cpu().numpy())\n",
    "\n",
    "# Print classification report\n",
    "print(\"Classification Report:\\n\", classification_report(all_labels, all_predicted, zero_division=1, digits=4))"
   ]
  },
  {
   "cell_type": "code",
   "execution_count": 51,
   "metadata": {},
   "outputs": [
    {
     "data": {
      "image/png": "[encoded data removed]",
      "text/plain": [
       "<Figure size 800x600 with 2 Axes>"
      ]
     },
     "metadata": {},
     "output_type": "display_data"
    }
   ],
   "source": [
    "# Calculate confusion matrix\n",
    "conf_matrix = confusion_matrix(all_labels, all_predicted)\n",
    "\n",
    "# Plot confusion matrix\n",
    "plt.figure(figsize=(8, 6))\n",
    "sns.heatmap(conf_matrix, annot=True, fmt=\"d\", cmap=\"Blues\", xticklabels=range(num_classes), yticklabels=range(num_classes))\n",
    "plt.xlabel(\"Predicted label\")\n",
    "plt.ylabel(\"True label\")\n",
    "plt.title(\"Confusion Matrix\")\n",
    "plt.show()"
   ]
  }
 ],
 "metadata": {
  "kernelspec": {
   "display_name": "Python 3",
   "language": "python",
   "name": "python3"
  },
  "language_info": {
   "codemirror_mode": {
    "name": "ipython",
    "version": 3
   },
   "file_extension": ".py",
   "mimetype": "text/x-python",
   "name": "python",
   "nbconvert_exporter": "python",
   "pygments_lexer": "ipython3",
   "version": "3.11.8"
  }
 },
 "nbformat": 4,
 "nbformat_minor": 2
}
