{
 "cells": [
  {
   "cell_type": "markdown",
   "metadata": {},
   "source": [
    "# Imports"
   ]
  },
  {
   "cell_type": "code",
   "execution_count": 1,
   "metadata": {},
   "outputs": [],
   "source": [
    "import numpy as np\n",
    "import matplotlib.pyplot as plt\n",
    "import seaborn as sns\n",
    "from skimage.morphology import skeletonize\n",
    "from sklearn.model_selection import train_test_split\n",
    "from sklearn.metrics import classification_report, confusion_matrix\n",
    "import cv2\n",
    "import tensorflow as tf\n",
    "import networkx as nx\n",
    "from extra_keras_datasets import usps"
   ]
  },
  {
   "cell_type": "markdown",
   "metadata": {},
   "source": [
    "# Datasets"
   ]
  },
  {
   "cell_type": "code",
   "execution_count": 2,
   "metadata": {},
   "outputs": [],
   "source": [
    "datasets = {\n",
    "    \"mnist\": {\"dataloader\": tf.keras.datasets.mnist.load_data, \"edge_detection\": False, \"scale\": False},\n",
    "    \"fashion_mnist\": {\"dataloader\": tf.keras.datasets.fashion_mnist.load_data, \"edge_detection\": True, \"scale\": False},\n",
    "    \"usps\": {\"dataloader\": usps.load_data, \"edge_detection\": False, \"scale\": True},\n",
    "}"
   ]
  },
  {
   "cell_type": "code",
   "execution_count": 3,
   "metadata": {},
   "outputs": [],
   "source": [
    "current_dataset = datasets[\"mnist\"]"
   ]
  },
  {
   "cell_type": "code",
   "execution_count": 4,
   "metadata": {},
   "outputs": [],
   "source": [
    "import ssl\n",
    "ssl._create_default_https_context = ssl._create_unverified_context"
   ]
  },
  {
   "cell_type": "code",
   "execution_count": 5,
   "metadata": {},
   "outputs": [],
   "source": [
    "# Load  dataset\n",
    "(x_train, y_train), (x_test, y_test) = current_dataset[\"dataloader\"]()"
   ]
  },
  {
   "cell_type": "code",
   "execution_count": 6,
   "metadata": {},
   "outputs": [],
   "source": [
    "images_train = x_train\n",
    "images_test = x_test"
   ]
  },
  {
   "cell_type": "code",
   "execution_count": 7,
   "metadata": {},
   "outputs": [],
   "source": [
    "k = 0"
   ]
  },
  {
   "cell_type": "markdown",
   "metadata": {},
   "source": [
    "### Viewing an image"
   ]
  },
  {
   "cell_type": "code",
   "execution_count": 8,
   "metadata": {},
   "outputs": [],
   "source": [
    "def show_image(image):\n",
    "  plt.figure(figsize=(2, 2))\n",
    "  plt.imshow(image, interpolation='nearest', cmap='gray')\n",
    "  plt.show()"
   ]
  },
  {
   "cell_type": "code",
   "execution_count": 9,
   "metadata": {},
   "outputs": [
    {
     "data": {
      "image/png": "[encoded data removed]",
      "text/plain": [
       "<Figure size 200x200 with 1 Axes>"
      ]
     },
     "metadata": {},
     "output_type": "display_data"
    }
   ],
   "source": [
    "show_image(images_train[k])"
   ]
  },
  {
   "cell_type": "markdown",
   "metadata": {},
   "source": [
    "# Preprocessing Images"
   ]
  },
  {
   "cell_type": "code",
   "execution_count": 10,
   "metadata": {},
   "outputs": [],
   "source": [
    "def scale(images):\n",
    "  return ((images + 1) / 2.0) * 255.0"
   ]
  },
  {
   "cell_type": "code",
   "execution_count": 11,
   "metadata": {},
   "outputs": [],
   "source": [
    "if current_dataset[\"scale\"]:\n",
    "  images_train = scale(images_train)\n",
    "  images_test = scale(images_test)"
   ]
  },
  {
   "cell_type": "code",
   "execution_count": 12,
   "metadata": {},
   "outputs": [],
   "source": [
    "def convert_edgedetection(images):\n",
    "    edge_detection = []\n",
    "    for image in images:\n",
    "        if image.shape[-1] == 3:\n",
    "            image = cv2.cvtColor(image, cv2.COLOR_BGR2GRAY) \n",
    "        \n",
    "        # Apply Gaussian blur to reduce noise and smoothen edges \n",
    "        blurred = cv2.GaussianBlur(src=image, ksize=(3, 3), sigmaX=1, sigmaY=1) \n",
    "      \n",
    "        # Perform Canny edge detection \n",
    "        edges = cv2.Canny(blurred, 225, 250)\n",
    "        edge_detection.append(edges)\n",
    "    return edge_detection"
   ]
  },
  {
   "cell_type": "code",
   "execution_count": 13,
   "metadata": {},
   "outputs": [],
   "source": [
    "if current_dataset[\"edge_detection\"]:\n",
    "  edge_detection_train = convert_edgedetection(images_train)\n",
    "  edge_detection_test = convert_edgedetection(images_test)\n",
    "  images_train = edge_detection_train\n",
    "  images_test = edge_detection_test"
   ]
  },
  {
   "cell_type": "code",
   "execution_count": 14,
   "metadata": {},
   "outputs": [
    {
     "data": {
      "image/png": "[encoded data removed]",
      "text/plain": [
       "<Figure size 200x200 with 1 Axes>"
      ]
     },
     "metadata": {},
     "output_type": "display_data"
    }
   ],
   "source": [
    "show_image(images_train[k])"
   ]
  },
  {
   "cell_type": "code",
   "execution_count": 15,
   "metadata": {},
   "outputs": [],
   "source": [
    "def get_threshold(image):\n",
    "  count = 0\n",
    "  sum = 0\n",
    "  med = np.median(image)\n",
    "  for row in image:\n",
    "    for x in row:\n",
    "      if x != 0 and x >= med:\n",
    "        sum += x\n",
    "        count += 1\n",
    "  \n",
    "  return int(sum / count)"
   ]
  },
  {
   "cell_type": "code",
   "execution_count": 16,
   "metadata": {},
   "outputs": [
    {
     "data": {
      "text/plain": [
       "165"
      ]
     },
     "execution_count": 16,
     "metadata": {},
     "output_type": "execute_result"
    }
   ],
   "source": [
    "get_threshold(images_train[k])"
   ]
  },
  {
   "cell_type": "code",
   "execution_count": 17,
   "metadata": {},
   "outputs": [],
   "source": [
    "def convert_binary(images):\n",
    "    binary_images = []\n",
    "    for image in images:\n",
    "        _, thresholded = cv2.threshold(image, max(get_threshold(image) - 1, 0), 255, cv2.THRESH_BINARY)\n",
    "        binary_images.append(thresholded)\n",
    "    return binary_images"
   ]
  },
  {
   "cell_type": "code",
   "execution_count": 18,
   "metadata": {},
   "outputs": [],
   "source": [
    "binary_images_train = convert_binary(images_train)\n",
    "binary_images_test = convert_binary(images_test)"
   ]
  },
  {
   "cell_type": "code",
   "execution_count": 19,
   "metadata": {},
   "outputs": [
    {
     "data": {
      "image/png": "[encoded data removed]",
      "text/plain": [
       "<Figure size 200x200 with 1 Axes>"
      ]
     },
     "metadata": {},
     "output_type": "display_data"
    }
   ],
   "source": [
    "show_image(binary_images_train[k])"
   ]
  },
  {
   "cell_type": "code",
   "execution_count": 20,
   "metadata": {},
   "outputs": [],
   "source": [
    "def convert_skeletonize(binary_images):\n",
    "    skeletonized_images = []\n",
    "    for binary_image in binary_images:\n",
    "        skeletonized_image = skeletonize(binary_image)\n",
    "        skeletonized_images.append(skeletonized_image.astype(np.uint8))\n",
    "    return skeletonized_images"
   ]
  },
  {
   "cell_type": "code",
   "execution_count": 21,
   "metadata": {},
   "outputs": [],
   "source": [
    "skeletonized_images_train = convert_skeletonize(binary_images_train)\n",
    "skeletonized_images_test = convert_skeletonize(binary_images_test)"
   ]
  },
  {
   "cell_type": "code",
   "execution_count": 22,
   "metadata": {},
   "outputs": [
    {
     "data": {
      "image/png": "[encoded data removed]",
      "text/plain": [
       "<Figure size 200x200 with 1 Axes>"
      ]
     },
     "metadata": {},
     "output_type": "display_data"
    }
   ],
   "source": [
    "show_image(skeletonized_images_train[k])"
   ]
  },
  {
   "cell_type": "markdown",
   "metadata": {},
   "source": [
    "# Creating Graph"
   ]
  },
  {
   "cell_type": "code",
   "execution_count": 23,
   "metadata": {},
   "outputs": [],
   "source": [
    "def create_nodes(skeletonized_images):\n",
    "    nodes_list = []\n",
    "    node_features_list = []\n",
    "    for skeletonized_image in skeletonized_images:\n",
    "        nodes = []\n",
    "        features = []\n",
    "        for i in range(skeletonized_image.shape[0]):\n",
    "            for j in range(skeletonized_image.shape[1]):\n",
    "                if skeletonized_image[i, j] == 1:\n",
    "                    nodes.append((i, j))\n",
    "                    features.append([i, j])\n",
    "        nodes_list.append(nodes)\n",
    "        node_features_list.append(features)\n",
    "    return nodes_list, node_features_list"
   ]
  },
  {
   "cell_type": "code",
   "execution_count": 24,
   "metadata": {},
   "outputs": [],
   "source": [
    "nodes_list_train, node_features_list_train = create_nodes(skeletonized_images_train)\n",
    "nodes_list_test, node_features_list_test = create_nodes(skeletonized_images_test)"
   ]
  },
  {
   "cell_type": "code",
   "execution_count": 25,
   "metadata": {},
   "outputs": [
    {
     "data": {
      "text/plain": [
       "[(5, 21), (5, 22), (6, 16), (6, 17), (6, 18)]"
      ]
     },
     "execution_count": 25,
     "metadata": {},
     "output_type": "execute_result"
    }
   ],
   "source": [
    "nodes_list_train[k][:5]"
   ]
  },
  {
   "cell_type": "code",
   "execution_count": 26,
   "metadata": {},
   "outputs": [
    {
     "data": {
      "text/plain": [
       "[[5, 21], [5, 22], [6, 16], [6, 17], [6, 18]]"
      ]
     },
     "execution_count": 26,
     "metadata": {},
     "output_type": "execute_result"
    }
   ],
   "source": [
    "node_features_list_train[k][:5]"
   ]
  },
  {
   "cell_type": "code",
   "execution_count": 27,
   "metadata": {},
   "outputs": [],
   "source": [
    "def create_graph(nodes_list, skeletonized_images):\n",
    "    graphs = []\n",
    "    for nodes, image in zip(nodes_list, skeletonized_images):\n",
    "        # Create a graph\n",
    "        G = nx.Graph()\n",
    "\n",
    "        # Add nodes for white pixels\n",
    "        G.add_nodes_from(nodes)\n",
    "        for i, j in nodes:\n",
    "            for x in range(-1, 2):\n",
    "                for y in range(-1, 2):\n",
    "                    if 0 <= i + x < image.shape[0] and 0 <= j + y < image.shape[1] and (x != 0 or y != 0) and image[i + x, j + y] == 1:\n",
    "                        G.add_edge((i, j), (i + x, j + y))\n",
    "        graphs.append(G)\n",
    "    return graphs"
   ]
  },
  {
   "cell_type": "code",
   "execution_count": 28,
   "metadata": {},
   "outputs": [],
   "source": [
    "graphs_train = create_graph(nodes_list_train, skeletonized_images_train)\n",
    "graphs_test = create_graph(nodes_list_test, skeletonized_images_test)"
   ]
  },
  {
   "cell_type": "code",
   "execution_count": 29,
   "metadata": {},
   "outputs": [],
   "source": [
    "nodes_dict_train = [{value: index for index, value in enumerate(list)} for list in nodes_list_train]\n",
    "nodes_dict_test = [{value: index for index, value in enumerate(list)} for list in nodes_list_test]"
   ]
  },
  {
   "cell_type": "code",
   "execution_count": 30,
   "metadata": {},
   "outputs": [
    {
     "data": {
      "text/plain": [
       "{(5, 21): 0,\n",
       " (5, 22): 1,\n",
       " (6, 16): 2,\n",
       " (6, 17): 3,\n",
       " (6, 18): 4,\n",
       " (6, 19): 5,\n",
       " (6, 20): 6,\n",
       " (7, 8): 7,\n",
       " (7, 9): 8,\n",
       " (7, 10): 9,\n",
       " (7, 11): 10,\n",
       " (7, 13): 11,\n",
       " (7, 14): 12,\n",
       " (7, 15): 13,\n",
       " (8, 12): 14,\n",
       " (9, 12): 15,\n",
       " (10, 12): 16,\n",
       " (11, 12): 17,\n",
       " (12, 13): 18,\n",
       " (13, 14): 19,\n",
       " (14, 15): 20,\n",
       " (15, 16): 21,\n",
       " (16, 17): 22,\n",
       " (17, 18): 23,\n",
       " (18, 17): 24,\n",
       " (19, 16): 25,\n",
       " (20, 14): 26,\n",
       " (20, 15): 27,\n",
       " (21, 12): 28,\n",
       " (21, 13): 29,\n",
       " (22, 9): 30,\n",
       " (22, 10): 31,\n",
       " (22, 11): 32,\n",
       " (23, 5): 33,\n",
       " (23, 6): 34,\n",
       " (23, 7): 35,\n",
       " (23, 8): 36}"
      ]
     },
     "execution_count": 30,
     "metadata": {},
     "output_type": "execute_result"
    }
   ],
   "source": [
    "nodes_dict_train[k]"
   ]
  },
  {
   "cell_type": "code",
   "execution_count": 31,
   "metadata": {},
   "outputs": [
    {
     "data": {
      "image/png": "[encoded data removed]",
      "text/plain": [
       "<Figure size 640x480 with 1 Axes>"
      ]
     },
     "metadata": {},
     "output_type": "display_data"
    }
   ],
   "source": [
    "pos = {(i, j): (j, -i) for i, j in graphs_train[k].nodes()}\n",
    "nx.draw(graphs_train[k], pos, with_labels=True, font_size=7)\n",
    "plt.show()"
   ]
  },
  {
   "cell_type": "code",
   "execution_count": 32,
   "metadata": {},
   "outputs": [],
   "source": [
    "def create_edge_index(graph, nodes_dict):\n",
    "    edges = []\n",
    "    edge_from = []\n",
    "    edge_to = []\n",
    "    for (i, j) in graph.edges():\n",
    "        edge_from.append(nodes_dict[i])\n",
    "        edge_to.append(nodes_dict[j])\n",
    "    edges.append(edge_from)\n",
    "    edges.append(edge_to)\n",
    "    return np.array(edges)\n"
   ]
  },
  {
   "cell_type": "code",
   "execution_count": 33,
   "metadata": {},
   "outputs": [
    {
     "data": {
      "text/plain": [
       "EdgeView([((5, 21), (5, 22)), ((5, 21), (6, 20)), ((6, 16), (6, 17)), ((6, 16), (7, 15)), ((6, 17), (6, 18)), ((6, 18), (6, 19)), ((6, 19), (6, 20)), ((7, 8), (7, 9)), ((7, 9), (7, 10)), ((7, 10), (7, 11)), ((7, 11), (8, 12)), ((7, 13), (7, 14)), ((7, 13), (8, 12)), ((7, 14), (7, 15)), ((8, 12), (9, 12)), ((9, 12), (10, 12)), ((10, 12), (11, 12)), ((11, 12), (12, 13)), ((12, 13), (13, 14)), ((13, 14), (14, 15)), ((14, 15), (15, 16)), ((15, 16), (16, 17)), ((16, 17), (17, 18)), ((17, 18), (18, 17)), ((18, 17), (19, 16)), ((19, 16), (20, 15)), ((20, 14), (20, 15)), ((20, 14), (21, 13)), ((21, 12), (21, 13)), ((21, 12), (22, 11)), ((22, 9), (22, 10)), ((22, 9), (23, 8)), ((22, 10), (22, 11)), ((23, 5), (23, 6)), ((23, 6), (23, 7)), ((23, 7), (23, 8))])"
      ]
     },
     "execution_count": 33,
     "metadata": {},
     "output_type": "execute_result"
    }
   ],
   "source": [
    "graphs_train[k].edges()"
   ]
  },
  {
   "cell_type": "code",
   "execution_count": 34,
   "metadata": {},
   "outputs": [],
   "source": [
    "edges_index_list_train = [create_edge_index(graphs_train[i], nodes_dict_train[i]) for i in range(len(images_train))]\n",
    "edges_index_list_test = [create_edge_index(graphs_test[i], nodes_dict_test[i]) for i in range(len(images_test))]"
   ]
  },
  {
   "cell_type": "code",
   "execution_count": 35,
   "metadata": {},
   "outputs": [
    {
     "data": {
      "text/plain": [
       "array([[ 0,  0,  2,  2,  3,  4,  5,  7,  8,  9, 10, 11, 11, 12, 14, 15,\n",
       "        16, 17, 18, 19, 20, 21, 22, 23, 24, 25, 26, 26, 28, 28, 30, 30,\n",
       "        31, 33, 34, 35],\n",
       "       [ 1,  6,  3, 13,  4,  5,  6,  8,  9, 10, 14, 12, 14, 13, 15, 16,\n",
       "        17, 18, 19, 20, 21, 22, 23, 24, 25, 27, 27, 29, 29, 32, 31, 36,\n",
       "        32, 34, 35, 36]])"
      ]
     },
     "execution_count": 35,
     "metadata": {},
     "output_type": "execute_result"
    }
   ],
   "source": [
    "edges_index_list_train[k]"
   ]
  },
  {
   "cell_type": "code",
   "execution_count": 36,
   "metadata": {},
   "outputs": [],
   "source": [
    "import torch\n",
    "import torch.nn as nn\n",
    "import torch.nn.functional as F\n",
    "from torch_geometric.nn import GraphConv, global_mean_pool\n",
    "from torch_geometric.data import Data, Dataset\n",
    "from torch_geometric.loader import DataLoader"
   ]
  },
  {
   "cell_type": "markdown",
   "metadata": {},
   "source": [
    "# Making Dataset"
   ]
  },
  {
   "cell_type": "code",
   "execution_count": 37,
   "metadata": {},
   "outputs": [],
   "source": [
    "class CustomGraphDataset(Dataset):\n",
    "    def __init__(self, data_list):\n",
    "        super(CustomGraphDataset, self).__init__()\n",
    "        self.data_list = data_list\n",
    "\n",
    "    def __len__(self):\n",
    "        return len(self.data_list)\n",
    "\n",
    "    def __getitem__(self, idx):\n",
    "        return self.data_list[idx]\n",
    "\n",
    "    # Additional abstract methods to implement\n",
    "    def get(self, idx):\n",
    "        # Implement logic to retrieve data at the given index\n",
    "        return self.data_list[idx]\n",
    "\n",
    "    def len(self):\n",
    "        # Implement logic to return the length of the dataset\n",
    "        return len(self.data_list)"
   ]
  },
  {
   "cell_type": "code",
   "execution_count": 38,
   "metadata": {},
   "outputs": [],
   "source": [
    "def create_custom_data_instance(node_features, edges, label):\n",
    "    x = torch.tensor(node_features, dtype=torch.float)\n",
    "    edge_index = torch.tensor(edges, dtype=torch.long)\n",
    "    y = torch.tensor([label], dtype=torch.long)\n",
    "    return Data(x=x, edge_index=edge_index, y=y)"
   ]
  },
  {
   "cell_type": "code",
   "execution_count": 39,
   "metadata": {},
   "outputs": [],
   "source": [
    "data_list_train = [create_custom_data_instance(node_features_list_train[i], edges_index_list_train[i], y_train[i]) for i in range(len(images_train))]\n",
    "custom_dataset_train = CustomGraphDataset(data_list_train)\n",
    "\n",
    "data_list_test = [create_custom_data_instance(node_features_list_test[i], edges_index_list_test[i], y_test[i]) for i in range(len(images_test))]\n",
    "custom_dataset_test = CustomGraphDataset(data_list_test)"
   ]
  },
  {
   "cell_type": "code",
   "execution_count": 40,
   "metadata": {},
   "outputs": [],
   "source": [
    "num_features = custom_dataset_train.num_features\n",
    "num_classes = custom_dataset_train.num_classes"
   ]
  },
  {
   "cell_type": "code",
   "execution_count": 41,
   "metadata": {},
   "outputs": [],
   "source": [
    "train_dataset, val_dataset = train_test_split(custom_dataset_train, test_size=0.2, random_state=42)\n",
    "test_dataset = custom_dataset_test"
   ]
  },
  {
   "cell_type": "code",
   "execution_count": 42,
   "metadata": {},
   "outputs": [],
   "source": [
    "# Use PyTorch DataLoader to handle batching\n",
    "val_loader = DataLoader(val_dataset, batch_size=32, shuffle=False)\n",
    "train_loader = DataLoader(train_dataset, batch_size=32, shuffle=True)\n",
    "test_loader = DataLoader(test_dataset, batch_size=32, shuffle=False)"
   ]
  },
  {
   "cell_type": "code",
   "execution_count": 43,
   "metadata": {},
   "outputs": [
    {
     "data": {
      "text/plain": [
       "48000"
      ]
     },
     "execution_count": 43,
     "metadata": {},
     "output_type": "execute_result"
    }
   ],
   "source": [
    "len(train_dataset)"
   ]
  },
  {
   "cell_type": "code",
   "execution_count": 44,
   "metadata": {},
   "outputs": [
    {
     "data": {
      "text/plain": [
       "CustomGraphDataset(10000)"
      ]
     },
     "execution_count": 44,
     "metadata": {},
     "output_type": "execute_result"
    }
   ],
   "source": [
    "test_dataset"
   ]
  },
  {
   "cell_type": "code",
   "execution_count": 45,
   "metadata": {},
   "outputs": [
    {
     "data": {
      "text/plain": [
       "Data(x=[46, 2], edge_index=[2, 45], y=[1])"
      ]
     },
     "execution_count": 45,
     "metadata": {},
     "output_type": "execute_result"
    }
   ],
   "source": [
    "train_dataset[k]"
   ]
  },
  {
   "cell_type": "code",
   "execution_count": 46,
   "metadata": {},
   "outputs": [
    {
     "name": "stdout",
     "output_type": "stream",
     "text": [
      "Number of Features: 2, Number of Classes: 10\n"
     ]
    }
   ],
   "source": [
    "print(f'Number of Features: {num_features}, Number of Classes: {num_classes}')"
   ]
  },
  {
   "cell_type": "markdown",
   "metadata": {},
   "source": [
    "Graph Neural Network for Graph Classification"
   ]
  },
  {
   "cell_type": "code",
   "execution_count": 47,
   "metadata": {},
   "outputs": [],
   "source": [
    "class GCNClassifier(nn.Module):\n",
    "    def __init__(self, input_dim, hidden_dim, output_dim):\n",
    "        super(GCNClassifier, self).__init__()\n",
    "        self.conv1 = GraphConv(input_dim, hidden_dim[0])\n",
    "        self.conv2 = GraphConv(hidden_dim[0], hidden_dim[1])\n",
    "        self.conv3 = GraphConv(hidden_dim[1], hidden_dim[2])\n",
    "        self.conv4 = GraphConv(hidden_dim[2], output_dim)\n",
    "\n",
    "    def forward(self, data):\n",
    "        x, edge_index, batch = data.x, data.edge_index, data.batch\n",
    "        x = F.relu(self.conv1(x, edge_index))\n",
    "        # x = F.dropout(x, p=0.2)\n",
    "        x = F.relu(self.conv2(x, edge_index))\n",
    "        # x = F.dropout(x, p=0.2)\n",
    "        x = F.relu(self.conv3(x, edge_index))\n",
    "        # x = F.dropout(x, p=0.2)\n",
    "        x = F.relu(self.conv4(x, edge_index))\n",
    "        # x = F.dropout(x, p=0.2)\n",
    "        x = global_mean_pool(x, batch)\n",
    "        # x = global_add_pool(x, batch)\n",
    "        return F.log_softmax(x, dim=1)"
   ]
  },
  {
   "cell_type": "code",
   "execution_count": 48,
   "metadata": {},
   "outputs": [],
   "source": [
    "# Instantiate the Graph Neural Network model\n",
    "input_dim = num_features\n",
    "hidden_dim = [32, 16, 16]\n",
    "output_dim = num_classes\n",
    "gcnClassifier = GCNClassifier(input_dim, hidden_dim, output_dim)\n",
    "\n",
    "# Define the optimizer\n",
    "optimizer = torch.optim.Adam(gcnClassifier.parameters(), lr=0.005)\n",
    "criterion = nn.CrossEntropyLoss()"
   ]
  },
  {
   "cell_type": "code",
   "execution_count": 49,
   "metadata": {},
   "outputs": [
    {
     "name": "stdout",
     "output_type": "stream",
     "text": [
      "Epoch 1/100, Loss: 1.0164755582809448, Validation Loss: 0.8004661519527435\n",
      "Epoch 2/100, Loss: 0.40598198771476746, Validation Loss: 0.617433671037356\n",
      "Epoch 3/100, Loss: 0.43375247716903687, Validation Loss: 0.5745091695388158\n",
      "Epoch 4/100, Loss: 0.7064223885536194, Validation Loss: 0.513759817202886\n",
      "Epoch 5/100, Loss: 0.2707652449607849, Validation Loss: 0.3746686034897963\n",
      "Epoch 6/100, Loss: 0.16421014070510864, Validation Loss: 0.34190322063366574\n",
      "Epoch 7/100, Loss: 0.4017399251461029, Validation Loss: 0.2822390024960041\n",
      "Epoch 8/100, Loss: 0.07772443443536758, Validation Loss: 0.2518828268647194\n",
      "Epoch 9/100, Loss: 0.6147130727767944, Validation Loss: 0.28532846784591676\n",
      "Epoch 10/100, Loss: 0.31033509969711304, Validation Loss: 0.26805489416668815\n",
      "Epoch 11/100, Loss: 0.2570308744907379, Validation Loss: 0.23484445818761984\n",
      "Epoch 12/100, Loss: 0.2898053526878357, Validation Loss: 0.2222245929489533\n",
      "Epoch 13/100, Loss: 0.11242513358592987, Validation Loss: 0.19943697209159533\n",
      "Epoch 14/100, Loss: 0.9411675333976746, Validation Loss: 0.18528102112809816\n",
      "Epoch 15/100, Loss: 0.5858818292617798, Validation Loss: 0.2051435436407725\n",
      "Epoch 16/100, Loss: 0.19160744547843933, Validation Loss: 0.19122988216827314\n",
      "Epoch 17/100, Loss: 0.1825331747531891, Validation Loss: 0.22246813064813614\n",
      "Epoch 18/100, Loss: 0.19916512072086334, Validation Loss: 0.20366026197125514\n",
      "Epoch 19/100, Loss: 0.3000236749649048, Validation Loss: 0.1869568841084838\n",
      "Epoch 20/100, Loss: 0.2239660918712616, Validation Loss: 0.18680633666117985\n",
      "Epoch 21/100, Loss: 0.2157028317451477, Validation Loss: 0.20619807296742995\n",
      "Epoch 22/100, Loss: 0.2335619330406189, Validation Loss: 0.22347190971672534\n",
      "Epoch 23/100, Loss: 0.11889484524726868, Validation Loss: 0.16061818365566433\n",
      "Epoch 24/100, Loss: 0.05542631074786186, Validation Loss: 0.16571103355661035\n",
      "Epoch 25/100, Loss: 0.028370559215545654, Validation Loss: 0.17809369041273992\n",
      "Epoch 26/100, Loss: 0.15308831632137299, Validation Loss: 0.22595411696533363\n",
      "Epoch 27/100, Loss: 0.06976675242185593, Validation Loss: 0.1926049094007661\n",
      "Epoch 28/100, Loss: 0.1747741848230362, Validation Loss: 0.2168449265435338\n",
      "Epoch 29/100, Loss: 0.09644889831542969, Validation Loss: 0.19355879620090127\n",
      "Epoch 30/100, Loss: 0.03676455467939377, Validation Loss: 0.19775766537835202\n",
      "Epoch 31/100, Loss: 0.35132792592048645, Validation Loss: 0.1702808083606263\n",
      "Epoch 32/100, Loss: 0.16090300679206848, Validation Loss: 0.19156339027980965\n",
      "Epoch 33/100, Loss: 0.29033398628234863, Validation Loss: 0.1821290857444207\n",
      "Early stopping! at Epoch: 33\n"
     ]
    }
   ],
   "source": [
    "# Training loop\n",
    "num_epochs = 100  # Increase the number of epochs\n",
    "patience = 10  # Number of epochs to wait for improvement before stopping\n",
    "best_val_loss = float('inf')\n",
    "epochs_no_improve = 0\n",
    "\n",
    "for epoch in range(num_epochs):\n",
    "    gcnClassifier.train()\n",
    "    for data in train_loader:\n",
    "        optimizer.zero_grad()\n",
    "        output = gcnClassifier(data)\n",
    "        loss = criterion(output, data.y)\n",
    "        loss.backward()\n",
    "        optimizer.step()\n",
    "\n",
    "    # Validation\n",
    "    gcnClassifier.eval()\n",
    "    val_loss = 0\n",
    "    for data in val_loader:\n",
    "        output = gcnClassifier(data)\n",
    "        val_loss += criterion(output, data.y).item()\n",
    "    val_loss /= len(val_loader)\n",
    "\n",
    "    print(f'Epoch {epoch + 1}/{num_epochs}, Loss: {loss.item()}, Validation Loss: {val_loss}')\n",
    "\n",
    "    # Check for early stopping\n",
    "    if val_loss < best_val_loss:\n",
    "        best_val_loss = val_loss\n",
    "        epochs_no_improve = 0\n",
    "    else:\n",
    "        epochs_no_improve += 1\n",
    "        if epochs_no_improve == patience:\n",
    "            print(f'Early stopping! at Epoch: {epoch + 1}')\n",
    "            break"
   ]
  },
  {
   "cell_type": "code",
   "execution_count": 50,
   "metadata": {},
   "outputs": [
    {
     "name": "stdout",
     "output_type": "stream",
     "text": [
      "Classification Report:\n",
      "               precision    recall  f1-score   support\n",
      "\n",
      "           0     0.9665    0.9724    0.9695       980\n",
      "           1     0.9814    0.9762    0.9788      1135\n",
      "           2     0.9616    0.9215    0.9411      1032\n",
      "           3     0.9285    0.9644    0.9461      1010\n",
      "           4     0.9152    0.9786    0.9459       982\n",
      "           5     0.9555    0.9619    0.9587       892\n",
      "           6     0.9064    0.9708    0.9375       958\n",
      "           7     0.9628    0.9309    0.9466      1028\n",
      "           8     0.9531    0.8973    0.9244       974\n",
      "           9     0.9459    0.9019    0.9234      1009\n",
      "\n",
      "    accuracy                         0.9476     10000\n",
      "   macro avg     0.9477    0.9476    0.9472     10000\n",
      "weighted avg     0.9483    0.9476    0.9475     10000\n",
      "\n"
     ]
    }
   ],
   "source": [
    "# Evaluation\n",
    "gcnClassifier.eval()\n",
    "correct = 0\n",
    "total = 0\n",
    "all_predicted = []\n",
    "all_labels = []\n",
    "\n",
    "with torch.no_grad():\n",
    "    for data in test_loader:\n",
    "        output = gcnClassifier(data)\n",
    "        _, predicted = torch.max(output, 1)\n",
    "        total += data.y.size(0)\n",
    "        correct += (predicted == data.y).sum().item()\n",
    "\n",
    "        # Collect predictions and ground truth for later metric calculation\n",
    "        all_predicted.extend(predicted.cpu().numpy())\n",
    "        all_labels.extend(data.y.cpu().numpy())\n",
    "\n",
    "# Print classification report\n",
    "print(\"Classification Report:\\n\", classification_report(all_labels, all_predicted, zero_division=1, digits=4))"
   ]
  },
  {
   "cell_type": "code",
   "execution_count": 51,
   "metadata": {},
   "outputs": [
    {
     "data": {
      "image/png": "[encoded data removed]",
      "text/plain": [
       "<Figure size 800x600 with 2 Axes>"
      ]
     },
     "metadata": {},
     "output_type": "display_data"
    }
   ],
   "source": [
    "# Calculate confusion matrix\n",
    "conf_matrix = confusion_matrix(all_labels, all_predicted)\n",
    "\n",
    "# Plot confusion matrix\n",
    "plt.figure(figsize=(8, 6))\n",
    "sns.heatmap(conf_matrix, annot=True, fmt=\"d\", cmap=\"Blues\", xticklabels=range(num_classes), yticklabels=range(num_classes))\n",
    "plt.xlabel(\"Predicted label\")\n",
    "plt.ylabel(\"True label\")\n",
    "plt.title(\"Confusion Matrix\")\n",
    "plt.show()"
   ]
  }
 ],
 "metadata": {
  "kernelspec": {
   "display_name": "Python 3",
   "language": "python",
   "name": "python3"
  },
  "language_info": {
   "codemirror_mode": {
    "name": "ipython",
    "version": 3
   },
   "file_extension": ".py",
   "mimetype": "text/x-python",
   "name": "python",
   "nbconvert_exporter": "python",
   "pygments_lexer": "ipython3",
   "version": "3.11.8"
  }
 },
 "nbformat": 4,
 "nbformat_minor": 2
}
