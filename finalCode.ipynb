{
 "cells": [
  {
   "cell_type": "markdown",
   "metadata": {},
   "source": [
    "# Imports"
   ]
  },
  {
   "cell_type": "code",
   "execution_count": 1,
   "metadata": {},
   "outputs": [
    {
     "name": "stderr",
     "output_type": "stream",
     "text": [
      "2024-03-14 23:09:42.240654: I tensorflow/core/platform/cpu_feature_guard.cc:210] This TensorFlow binary is optimized to use available CPU instructions in performance-critical operations.\n",
      "To enable the following instructions: AVX2 AVX512F AVX512_VNNI FMA, in other operations, rebuild TensorFlow with the appropriate compiler flags.\n"
     ]
    }
   ],
   "source": [
    "import numpy as np\n",
    "import tensorflow as tf\n",
    "import cv2\n",
    "import matplotlib.pyplot as plt\n",
    "import networkx as nx\n",
    "from skimage.morphology import skeletonize\n",
    "from sklearn.model_selection import train_test_split\n",
    "from sklearn.metrics import classification_report\n",
    "from extra_keras_datasets import usps, emnist"
   ]
  },
  {
   "cell_type": "markdown",
   "metadata": {},
   "source": [
    "# Datasets"
   ]
  },
  {
   "cell_type": "code",
   "execution_count": 2,
   "metadata": {},
   "outputs": [],
   "source": [
    "datasets = {\n",
    "    \"mnist\": {\"dataloader\": tf.keras.datasets.mnist.load_data, \"edge_detection\": False, \"scale\": False},\n",
    "    \"fashion_mnist\": {\"dataloader\": tf.keras.datasets.fashion_mnist.load_data, \"edge_detection\": True, \"scale\": False},\n",
    "    \"usps\": {\"dataloader\": usps.load_data, \"edge_detection\": False, \"scale\": True},\n",
    "    \"emnist\": {\"dataloader\": emnist.load_data, \"edge_detection\": False, \"scale\": False},\n",
    "}"
   ]
  },
  {
   "cell_type": "code",
   "execution_count": 3,
   "metadata": {},
   "outputs": [],
   "source": [
    "current_dataset = datasets[\"usps\"]"
   ]
  },
  {
   "cell_type": "code",
   "execution_count": 4,
   "metadata": {},
   "outputs": [],
   "source": [
    "import ssl\n",
    "ssl._create_default_https_context = ssl._create_unverified_context"
   ]
  },
  {
   "cell_type": "code",
   "execution_count": 5,
   "metadata": {},
   "outputs": [
    {
     "name": "stderr",
     "output_type": "stream",
     "text": [
      "INFO:root:Loading dataset = usps\n",
      "WARNING:root:Please cite the following paper when using or referencing this Extra Keras Dataset:\n",
      "WARNING:root:Hull, J. J. (1994). A database for handwritten text recognition research. IEEE Transactions on pattern analysis and machine intelligence, 16(5), 550-554.\n"
     ]
    }
   ],
   "source": [
    "# Load  dataset\n",
    "(x_train, y_train), (x_test, y_test) = current_dataset[\"dataloader\"]()"
   ]
  },
  {
   "cell_type": "code",
   "execution_count": 6,
   "metadata": {},
   "outputs": [],
   "source": [
    "images_train = x_train\n",
    "images_test = x_test"
   ]
  },
  {
   "cell_type": "code",
   "execution_count": 7,
   "metadata": {},
   "outputs": [],
   "source": [
    "k = 0"
   ]
  },
  {
   "cell_type": "markdown",
   "metadata": {},
   "source": [
    "### Viewing an image"
   ]
  },
  {
   "cell_type": "code",
   "execution_count": 8,
   "metadata": {},
   "outputs": [],
   "source": [
    "def show_image(image):\n",
    "  plt.figure(figsize=(2, 2))\n",
    "  plt.imshow(image, interpolation='nearest', cmap='gray')\n",
    "  plt.show()"
   ]
  },
  {
   "cell_type": "code",
   "execution_count": 9,
   "metadata": {},
   "outputs": [
    {
     "data": {
      "image/png": "[encoded data removed]",
      "text/plain": [
       "<Figure size 200x200 with 1 Axes>"
      ]
     },
     "metadata": {},
     "output_type": "display_data"
    }
   ],
   "source": [
    "show_image(images_train[k])"
   ]
  },
  {
   "cell_type": "markdown",
   "metadata": {},
   "source": [
    "# Preprocessing Images"
   ]
  },
  {
   "cell_type": "code",
   "execution_count": 10,
   "metadata": {},
   "outputs": [],
   "source": [
    "def scale(images):\n",
    "  return ((images + 1) / 2.0) * 255.0"
   ]
  },
  {
   "cell_type": "code",
   "execution_count": 11,
   "metadata": {},
   "outputs": [],
   "source": [
    "if current_dataset[\"scale\"]:\n",
    "  images_train = scale(images_train)\n",
    "  images_test = scale(images_test)"
   ]
  },
  {
   "cell_type": "code",
   "execution_count": 12,
   "metadata": {},
   "outputs": [],
   "source": [
    "def convert_edgedetection(images):\n",
    "    edge_detection = []\n",
    "    for image in images:\n",
    "        if image.shape[-1] == 3:\n",
    "            image = cv2.cvtColor(image, cv2.COLOR_BGR2GRAY) \n",
    "        \n",
    "        # Apply Gaussian blur to reduce noise and smoothen edges \n",
    "        blurred = cv2.GaussianBlur(src=image, ksize=(3, 3), sigmaX=1, sigmaY=1) \n",
    "      \n",
    "        # Perform Canny edge detection \n",
    "        edges = cv2.Canny(blurred, 225, 250)\n",
    "        edge_detection.append(edges)\n",
    "    return edge_detection"
   ]
  },
  {
   "cell_type": "code",
   "execution_count": 13,
   "metadata": {},
   "outputs": [],
   "source": [
    "if current_dataset[\"edge_detection\"]:\n",
    "  edge_detection_train = convert_edgedetection(images_train)\n",
    "  edge_detection_test = convert_edgedetection(images_test)\n",
    "  images_train = edge_detection_train\n",
    "  images_test = edge_detection_test"
   ]
  },
  {
   "cell_type": "code",
   "execution_count": 14,
   "metadata": {},
   "outputs": [
    {
     "data": {
      "image/png": "[encoded data removed]",
      "text/plain": [
       "<Figure size 200x200 with 1 Axes>"
      ]
     },
     "metadata": {},
     "output_type": "display_data"
    }
   ],
   "source": [
    "show_image(images_train[k])"
   ]
  },
  {
   "cell_type": "code",
   "execution_count": 15,
   "metadata": {},
   "outputs": [],
   "source": [
    "def get_threshold(image):\n",
    "  count = 0\n",
    "  sum = 0\n",
    "  med = np.median(image)\n",
    "  for row in image:\n",
    "    for x in row:\n",
    "      if x != 0 and x >= med:\n",
    "        sum += x\n",
    "        count += 1\n",
    "  \n",
    "  return sum / count"
   ]
  },
  {
   "cell_type": "code",
   "execution_count": 16,
   "metadata": {},
   "outputs": [
    {
     "data": {
      "text/plain": [
       "160.17828287109376"
      ]
     },
     "execution_count": 16,
     "metadata": {},
     "output_type": "execute_result"
    }
   ],
   "source": [
    "get_threshold(images_train[k])"
   ]
  },
  {
   "cell_type": "code",
   "execution_count": 17,
   "metadata": {},
   "outputs": [],
   "source": [
    "def convert_binary(images):\n",
    "    binary_images = []\n",
    "    for image in images:\n",
    "        _, thresholded = cv2.threshold(image, get_threshold(image), 255, cv2.THRESH_BINARY)\n",
    "        binary_images.append(thresholded)\n",
    "    return binary_images"
   ]
  },
  {
   "cell_type": "code",
   "execution_count": 18,
   "metadata": {},
   "outputs": [],
   "source": [
    "binary_images_train = convert_binary(images_train)\n",
    "binary_images_test = convert_binary(images_test)"
   ]
  },
  {
   "cell_type": "code",
   "execution_count": 19,
   "metadata": {},
   "outputs": [
    {
     "data": {
      "image/png": "[encoded data removed]",
      "text/plain": [
       "<Figure size 200x200 with 1 Axes>"
      ]
     },
     "metadata": {},
     "output_type": "display_data"
    }
   ],
   "source": [
    "show_image(binary_images_train[k])"
   ]
  },
  {
   "cell_type": "code",
   "execution_count": 20,
   "metadata": {},
   "outputs": [],
   "source": [
    "def convert_skeletonize(binary_images):\n",
    "    skeletonized_images = []\n",
    "    for binary_image in binary_images:\n",
    "        skeletonized_image = skeletonize(binary_image)\n",
    "        skeletonized_images.append(skeletonized_image.astype(np.uint8))\n",
    "    return skeletonized_images"
   ]
  },
  {
   "cell_type": "code",
   "execution_count": 21,
   "metadata": {},
   "outputs": [],
   "source": [
    "skeletonized_images_train = convert_skeletonize(binary_images_train)\n",
    "skeletonized_images_test = convert_skeletonize(binary_images_test)"
   ]
  },
  {
   "cell_type": "code",
   "execution_count": 22,
   "metadata": {},
   "outputs": [
    {
     "data": {
      "image/png": "[encoded data removed]",
      "text/plain": [
       "<Figure size 200x200 with 1 Axes>"
      ]
     },
     "metadata": {},
     "output_type": "display_data"
    }
   ],
   "source": [
    "show_image(skeletonized_images_train[k])"
   ]
  },
  {
   "cell_type": "markdown",
   "metadata": {},
   "source": [
    "# Creating Graph"
   ]
  },
  {
   "cell_type": "code",
   "execution_count": 23,
   "metadata": {},
   "outputs": [],
   "source": [
    "def create_nodes(skeletonized_images):\n",
    "    nodes_list = []\n",
    "    node_features_list = []\n",
    "    for skeletonized_image in skeletonized_images:\n",
    "        nodes = []\n",
    "        features = []\n",
    "        for i in range(skeletonized_image.shape[0]):\n",
    "            for j in range(skeletonized_image.shape[1]):\n",
    "                if skeletonized_image[i, j] == 1:\n",
    "                    nodes.append((i, j))\n",
    "                    features.append([i, j])\n",
    "        nodes_list.append(nodes)\n",
    "        node_features_list.append(features)\n",
    "    return nodes_list, node_features_list"
   ]
  },
  {
   "cell_type": "code",
   "execution_count": 24,
   "metadata": {},
   "outputs": [],
   "source": [
    "nodes_list_train, node_features_list_train = create_nodes(skeletonized_images_train)\n",
    "nodes_list_test, node_features_list_test = create_nodes(skeletonized_images_test)"
   ]
  },
  {
   "cell_type": "code",
   "execution_count": 25,
   "metadata": {},
   "outputs": [
    {
     "data": {
      "text/plain": [
       "[(1, 8), (2, 7), (3, 7), (4, 6), (5, 5)]"
      ]
     },
     "execution_count": 25,
     "metadata": {},
     "output_type": "execute_result"
    }
   ],
   "source": [
    "nodes_list_train[k][:5]"
   ]
  },
  {
   "cell_type": "code",
   "execution_count": 26,
   "metadata": {},
   "outputs": [
    {
     "data": {
      "text/plain": [
       "[[1, 8], [2, 7], [3, 7], [4, 6], [5, 5]]"
      ]
     },
     "execution_count": 26,
     "metadata": {},
     "output_type": "execute_result"
    }
   ],
   "source": [
    "node_features_list_train[k][:5]"
   ]
  },
  {
   "cell_type": "code",
   "execution_count": 27,
   "metadata": {},
   "outputs": [],
   "source": [
    "def create_graph(nodes_list, skeletonized_images):\n",
    "    graphs = []\n",
    "    for nodes, image in zip(nodes_list, skeletonized_images):\n",
    "        # Create a graph\n",
    "        G = nx.Graph()\n",
    "\n",
    "        # Add nodes for white pixels\n",
    "        G.add_nodes_from(nodes)\n",
    "        for i, j in nodes:\n",
    "            for x in range(-1, 2):\n",
    "                for y in range(-1, 2):\n",
    "                    if 0 <= i + x < image.shape[0] and 0 <= j + y < image.shape[1] and (x != 0 or y != 0) and image[i + x, j + y] == 1:\n",
    "                        G.add_edge((i, j), (i + x, j + y))\n",
    "        graphs.append(G)\n",
    "    return graphs"
   ]
  },
  {
   "cell_type": "code",
   "execution_count": 28,
   "metadata": {},
   "outputs": [],
   "source": [
    "graphs_train = create_graph(nodes_list_train, skeletonized_images_train)\n",
    "graphs_test = create_graph(nodes_list_test, skeletonized_images_test)"
   ]
  },
  {
   "cell_type": "code",
   "execution_count": 29,
   "metadata": {},
   "outputs": [],
   "source": [
    "nodes_dict_train = [{value: index for index, value in enumerate(list)} for list in nodes_list_train]\n",
    "nodes_dict_test = [{value: index for index, value in enumerate(list)} for list in nodes_list_test]"
   ]
  },
  {
   "cell_type": "code",
   "execution_count": 30,
   "metadata": {},
   "outputs": [
    {
     "data": {
      "text/plain": [
       "{(1, 8): 0,\n",
       " (2, 7): 1,\n",
       " (3, 7): 2,\n",
       " (4, 6): 3,\n",
       " (5, 5): 4,\n",
       " (6, 4): 5,\n",
       " (7, 4): 6,\n",
       " (8, 3): 7,\n",
       " (8, 9): 8,\n",
       " (8, 10): 9,\n",
       " (8, 11): 10,\n",
       " (9, 3): 11,\n",
       " (9, 8): 12,\n",
       " (9, 12): 13,\n",
       " (10, 2): 14,\n",
       " (10, 7): 15,\n",
       " (10, 12): 16,\n",
       " (11, 3): 17,\n",
       " (11, 7): 18,\n",
       " (11, 12): 19,\n",
       " (12, 4): 20,\n",
       " (12, 5): 21,\n",
       " (12, 6): 22,\n",
       " (12, 7): 23,\n",
       " (12, 10): 24,\n",
       " (12, 11): 25,\n",
       " (13, 8): 26,\n",
       " (13, 9): 27}"
      ]
     },
     "execution_count": 30,
     "metadata": {},
     "output_type": "execute_result"
    }
   ],
   "source": [
    "nodes_dict_train[k]"
   ]
  },
  {
   "cell_type": "code",
   "execution_count": 31,
   "metadata": {},
   "outputs": [
    {
     "data": {
      "image/png": "[encoded data removed]",
      "text/plain": [
       "<Figure size 640x480 with 1 Axes>"
      ]
     },
     "metadata": {},
     "output_type": "display_data"
    }
   ],
   "source": [
    "pos = {(i, j): (j, -i) for i, j in graphs_train[k].nodes()}\n",
    "nx.draw(graphs_train[k], pos, with_labels=True, font_size=7)\n",
    "plt.show()"
   ]
  },
  {
   "cell_type": "code",
   "execution_count": 32,
   "metadata": {},
   "outputs": [],
   "source": [
    "def create_edge_index(graph, nodes_dict):\n",
    "    edges = []\n",
    "    edge_from = []\n",
    "    edge_to = []\n",
    "    for (i, j) in graph.edges():\n",
    "        edge_from.append(nodes_dict[i])\n",
    "        edge_to.append(nodes_dict[j])\n",
    "    edges.append(edge_from)\n",
    "    edges.append(edge_to)\n",
    "    return np.array(edges)\n"
   ]
  },
  {
   "cell_type": "code",
   "execution_count": 33,
   "metadata": {},
   "outputs": [
    {
     "data": {
      "text/plain": [
       "EdgeView([((1, 8), (2, 7)), ((2, 7), (3, 7)), ((3, 7), (4, 6)), ((4, 6), (5, 5)), ((5, 5), (6, 4)), ((6, 4), (7, 4)), ((7, 4), (8, 3)), ((8, 3), (9, 3)), ((8, 9), (8, 10)), ((8, 9), (9, 8)), ((8, 10), (8, 11)), ((8, 11), (9, 12)), ((9, 3), (10, 2)), ((9, 8), (10, 7)), ((9, 12), (10, 12)), ((10, 2), (11, 3)), ((10, 7), (11, 7)), ((10, 12), (11, 12)), ((11, 3), (12, 4)), ((11, 7), (12, 6)), ((11, 7), (12, 7)), ((11, 12), (12, 11)), ((12, 4), (12, 5)), ((12, 5), (12, 6)), ((12, 6), (12, 7)), ((12, 7), (13, 8)), ((12, 10), (12, 11)), ((12, 10), (13, 9)), ((13, 8), (13, 9))])"
      ]
     },
     "execution_count": 33,
     "metadata": {},
     "output_type": "execute_result"
    }
   ],
   "source": [
    "graphs_train[k].edges()"
   ]
  },
  {
   "cell_type": "code",
   "execution_count": 34,
   "metadata": {},
   "outputs": [],
   "source": [
    "edges_index_list_train = [create_edge_index(graphs_train[i], nodes_dict_train[i]) for i in range(len(images_train))]\n",
    "edges_index_list_test = [create_edge_index(graphs_test[i], nodes_dict_test[i]) for i in range(len(images_test))]"
   ]
  },
  {
   "cell_type": "code",
   "execution_count": 35,
   "metadata": {},
   "outputs": [
    {
     "data": {
      "text/plain": [
       "array([[ 0,  1,  2,  3,  4,  5,  6,  7,  8,  8,  9, 10, 11, 12, 13, 14,\n",
       "        15, 16, 17, 18, 18, 19, 20, 21, 22, 23, 24, 24, 26],\n",
       "       [ 1,  2,  3,  4,  5,  6,  7, 11,  9, 12, 10, 13, 14, 15, 16, 17,\n",
       "        18, 19, 20, 22, 23, 25, 21, 22, 23, 26, 25, 27, 27]])"
      ]
     },
     "execution_count": 35,
     "metadata": {},
     "output_type": "execute_result"
    }
   ],
   "source": [
    "edges_index_list_train[k]"
   ]
  },
  {
   "cell_type": "code",
   "execution_count": 36,
   "metadata": {},
   "outputs": [],
   "source": [
    "import torch\n",
    "import torch.nn as nn\n",
    "import torch.nn.functional as F\n",
    "from torch_geometric.nn import GraphConv, global_mean_pool, global_add_pool\n",
    "from torch_geometric.data import Data, Dataset\n",
    "from torch_geometric.loader import DataLoader\n"
   ]
  },
  {
   "cell_type": "markdown",
   "metadata": {},
   "source": [
    "# Making Dataset"
   ]
  },
  {
   "cell_type": "code",
   "execution_count": 37,
   "metadata": {},
   "outputs": [],
   "source": [
    "class CustomGraphDataset(Dataset):\n",
    "    def __init__(self, data_list):\n",
    "        super(CustomGraphDataset, self).__init__()\n",
    "        self.data_list = data_list\n",
    "\n",
    "    def __len__(self):\n",
    "        return len(self.data_list)\n",
    "\n",
    "    def __getitem__(self, idx):\n",
    "        return self.data_list[idx]\n",
    "\n",
    "    # Additional abstract methods to implement\n",
    "    def get(self, idx):\n",
    "        # Implement logic to retrieve data at the given index\n",
    "        return self.data_list[idx]\n",
    "\n",
    "    def len(self):\n",
    "        # Implement logic to return the length of the dataset\n",
    "        return len(self.data_list)"
   ]
  },
  {
   "cell_type": "code",
   "execution_count": 38,
   "metadata": {},
   "outputs": [],
   "source": [
    "def create_custom_data_instance(node_features, edges, label):\n",
    "    x = torch.tensor(node_features, dtype=torch.float)\n",
    "    edge_index = torch.tensor(edges, dtype=torch.long)\n",
    "    y = torch.tensor([label], dtype=torch.long)\n",
    "    return Data(x=x, edge_index=edge_index, y=y)"
   ]
  },
  {
   "cell_type": "code",
   "execution_count": 39,
   "metadata": {},
   "outputs": [],
   "source": [
    "data_list_train = [create_custom_data_instance(node_features_list_train[i], edges_index_list_train[i], y_train[i]) for i in range(len(images_train))]\n",
    "custom_dataset_train = CustomGraphDataset(data_list_train)\n",
    "\n",
    "data_list_test = [create_custom_data_instance(node_features_list_test[i], edges_index_list_test[i], y_test[i]) for i in range(len(images_test))]\n",
    "custom_dataset_test = CustomGraphDataset(data_list_test)"
   ]
  },
  {
   "cell_type": "code",
   "execution_count": 40,
   "metadata": {},
   "outputs": [],
   "source": [
    "num_features = custom_dataset_train.num_features\n",
    "num_classes = custom_dataset_train.num_classes"
   ]
  },
  {
   "cell_type": "code",
   "execution_count": 41,
   "metadata": {},
   "outputs": [],
   "source": [
    "train_dataset, test_dataset = custom_dataset_train, custom_dataset_test"
   ]
  },
  {
   "cell_type": "code",
   "execution_count": 42,
   "metadata": {},
   "outputs": [],
   "source": [
    "# Use PyTorch DataLoader to handle batching\n",
    "train_loader = DataLoader(train_dataset, batch_size=32, shuffle=True)\n",
    "test_loader = DataLoader(test_dataset, batch_size=32, shuffle=False)"
   ]
  },
  {
   "cell_type": "code",
   "execution_count": 43,
   "metadata": {},
   "outputs": [
    {
     "data": {
      "text/plain": [
       "CustomGraphDataset(7291)"
      ]
     },
     "execution_count": 43,
     "metadata": {},
     "output_type": "execute_result"
    }
   ],
   "source": [
    "train_dataset"
   ]
  },
  {
   "cell_type": "code",
   "execution_count": 44,
   "metadata": {},
   "outputs": [
    {
     "data": {
      "text/plain": [
       "CustomGraphDataset(2007)"
      ]
     },
     "execution_count": 44,
     "metadata": {},
     "output_type": "execute_result"
    }
   ],
   "source": [
    "test_dataset"
   ]
  },
  {
   "cell_type": "code",
   "execution_count": 45,
   "metadata": {},
   "outputs": [
    {
     "data": {
      "text/plain": [
       "Data(x=[28, 2], edge_index=[2, 29], y=[1])"
      ]
     },
     "execution_count": 45,
     "metadata": {},
     "output_type": "execute_result"
    }
   ],
   "source": [
    "train_dataset[k]"
   ]
  },
  {
   "cell_type": "code",
   "execution_count": 46,
   "metadata": {},
   "outputs": [
    {
     "name": "stdout",
     "output_type": "stream",
     "text": [
      "Number of Features: 2, Number of Classes: 10\n"
     ]
    }
   ],
   "source": [
    "print(f'Number of Features: {num_features}, Number of Classes: {num_classes}')"
   ]
  },
  {
   "cell_type": "markdown",
   "metadata": {},
   "source": [
    "Graph Neural Network for Graph Classification"
   ]
  },
  {
   "cell_type": "code",
   "execution_count": 47,
   "metadata": {},
   "outputs": [],
   "source": [
    "class GCNClassifier(nn.Module):\n",
    "    def __init__(self, input_dim, hidden_dim, output_dim):\n",
    "        super(GCNClassifier, self).__init__()\n",
    "        self.conv1 = GraphConv(input_dim, hidden_dim[0])\n",
    "        self.conv2 = GraphConv(hidden_dim[0], hidden_dim[1])\n",
    "        self.conv3 = GraphConv(hidden_dim[1], hidden_dim[2])\n",
    "        self.conv4 = GraphConv(hidden_dim[2], output_dim)\n",
    "\n",
    "    def forward(self, data):\n",
    "        x, edge_index, batch = data.x, data.edge_index, data.batch\n",
    "        x = F.relu(self.conv1(x, edge_index))\n",
    "        # x = F.dropout(x, p=0.2)\n",
    "        x = F.relu(self.conv2(x, edge_index))\n",
    "        # x = F.dropout(x, p=0.2)\n",
    "        x = F.relu(self.conv3(x, edge_index))\n",
    "        # x = F.dropout(x, p=0.2)\n",
    "        x = F.relu(self.conv4(x, edge_index))\n",
    "        # x = F.dropout(x, p=0.2)\n",
    "        x = global_mean_pool(x, batch)\n",
    "        # x = global_add_pool(x, batch)\n",
    "        return F.log_softmax(x, dim=1)"
   ]
  },
  {
   "cell_type": "code",
   "execution_count": 48,
   "metadata": {},
   "outputs": [],
   "source": [
    "# Instantiate the Graph Neural Network model\n",
    "input_dim = num_features\n",
    "hidden_dim = [32, 16, 16]\n",
    "output_dim = num_classes\n",
    "gcnClassifier = GCNClassifier(input_dim, hidden_dim, output_dim)\n",
    "\n",
    "# Define the optimizer\n",
    "optimizer = torch.optim.Adam(gcnClassifier.parameters(), lr=0.005)\n",
    "criterion = nn.CrossEntropyLoss()\n"
   ]
  },
  {
   "cell_type": "code",
   "execution_count": 51,
   "metadata": {},
   "outputs": [
    {
     "name": "stdout",
     "output_type": "stream",
     "text": [
      "GCN Classifier - Epoch 1/25, Loss: 0.3269762694835663\n",
      "GCN Classifier - Epoch 2/25, Loss: 0.3090212047100067\n",
      "GCN Classifier - Epoch 3/25, Loss: 0.37812772393226624\n",
      "GCN Classifier - Epoch 4/25, Loss: 0.32366716861724854\n",
      "GCN Classifier - Epoch 5/25, Loss: 0.20282094180583954\n",
      "GCN Classifier - Epoch 6/25, Loss: 0.21878603100776672\n",
      "GCN Classifier - Epoch 7/25, Loss: 0.5671237707138062\n",
      "GCN Classifier - Epoch 8/25, Loss: 0.993081271648407\n",
      "GCN Classifier - Epoch 9/25, Loss: 0.07481317222118378\n",
      "GCN Classifier - Epoch 10/25, Loss: 0.48499658703804016\n",
      "GCN Classifier - Epoch 11/25, Loss: 0.3148142397403717\n",
      "GCN Classifier - Epoch 12/25, Loss: 0.10248808562755585\n",
      "GCN Classifier - Epoch 13/25, Loss: 0.19138839840888977\n",
      "GCN Classifier - Epoch 14/25, Loss: 0.21761177480220795\n",
      "GCN Classifier - Epoch 15/25, Loss: 0.6746112704277039\n",
      "GCN Classifier - Epoch 16/25, Loss: 0.31406569480895996\n",
      "GCN Classifier - Epoch 17/25, Loss: 0.25198760628700256\n",
      "GCN Classifier - Epoch 18/25, Loss: 0.412485271692276\n",
      "GCN Classifier - Epoch 19/25, Loss: 0.40268656611442566\n",
      "GCN Classifier - Epoch 20/25, Loss: 0.07260589301586151\n",
      "GCN Classifier - Epoch 21/25, Loss: 0.29598090052604675\n",
      "GCN Classifier - Epoch 22/25, Loss: 0.07015758752822876\n",
      "GCN Classifier - Epoch 23/25, Loss: 0.7854642271995544\n",
      "GCN Classifier - Epoch 24/25, Loss: 0.996734082698822\n",
      "GCN Classifier - Epoch 25/25, Loss: 0.25922468304634094\n"
     ]
    }
   ],
   "source": [
    "# Training loop\n",
    "num_epochs = 25\n",
    "for epoch in range(num_epochs):\n",
    "    gcnClassifier.train()\n",
    "    for data in train_loader:\n",
    "        optimizer.zero_grad()\n",
    "        output = gcnClassifier(data)\n",
    "        loss = criterion(output, data.y)\n",
    "        loss.backward()\n",
    "        optimizer.step()\n",
    "\n",
    "    print(f'GCN Classifier - Epoch {epoch + 1}/{num_epochs}, Loss: {loss.item()}')"
   ]
  },
  {
   "cell_type": "code",
   "execution_count": 52,
   "metadata": {},
   "outputs": [
    {
     "name": "stdout",
     "output_type": "stream",
     "text": [
      "Classification Report:\n",
      "               precision    recall  f1-score   support\n",
      "\n",
      "           0       0.96      0.95      0.95       359\n",
      "           1       0.96      0.94      0.95       264\n",
      "           2       0.84      0.90      0.87       198\n",
      "           3       0.94      0.82      0.87       166\n",
      "           4       0.92      0.87      0.89       200\n",
      "           5       0.82      0.96      0.88       160\n",
      "           6       0.87      0.91      0.89       170\n",
      "           7       0.97      0.88      0.93       147\n",
      "           8       0.83      0.80      0.81       166\n",
      "           9       0.84      0.90      0.87       177\n",
      "\n",
      "    accuracy                           0.90      2007\n",
      "   macro avg       0.89      0.89      0.89      2007\n",
      "weighted avg       0.90      0.90      0.90      2007\n",
      "\n"
     ]
    }
   ],
   "source": [
    "# Evaluation\n",
    "gcnClassifier.eval()\n",
    "correct = 0\n",
    "total = 0\n",
    "all_predicted = []\n",
    "all_labels = []\n",
    "\n",
    "with torch.no_grad():\n",
    "    for data in test_loader:\n",
    "        output = gcnClassifier(data)\n",
    "        _, predicted = torch.max(output, 1)\n",
    "        total += data.y.size(0)\n",
    "        correct += (predicted == data.y).sum().item()\n",
    "\n",
    "        # Collect predictions and ground truth for later metric calculation\n",
    "        all_predicted.extend(predicted.cpu().numpy())\n",
    "        all_labels.extend(data.y.cpu().numpy())\n",
    "\n",
    "# Print classification report\n",
    "print(\"Classification Report:\\n\", classification_report(all_labels, all_predicted,zero_division=1))"
   ]
  }
 ],
 "metadata": {
  "kernelspec": {
   "display_name": "Python 3",
   "language": "python",
   "name": "python3"
  },
  "language_info": {
   "codemirror_mode": {
    "name": "ipython",
    "version": 3
   },
   "file_extension": ".py",
   "mimetype": "text/x-python",
   "name": "python",
   "nbconvert_exporter": "python",
   "pygments_lexer": "ipython3",
   "version": "3.12.1"
  }
 },
 "nbformat": 4,
 "nbformat_minor": 2
}
