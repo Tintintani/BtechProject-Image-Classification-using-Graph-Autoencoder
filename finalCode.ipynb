{
 "cells": [
  {
   "cell_type": "code",
   "execution_count": 233,
   "metadata": {},
   "outputs": [],
   "source": [
    "import numpy as np\n",
    "import tensorflow as tf\n",
    "import cv2\n",
    "import matplotlib.pyplot as plt\n",
    "import networkx as nx\n",
    "from skimage.morphology import skeletonize\n",
    "from sklearn.model_selection import train_test_split\n",
    "from sklearn.metrics import classification_report\n",
    "from extra_keras_datasets import usps"
   ]
  },
  {
   "cell_type": "code",
   "execution_count": 234,
   "metadata": {},
   "outputs": [],
   "source": [
    "import ssl\n",
    "ssl._create_default_https_context = ssl._create_unverified_context"
   ]
  },
  {
   "cell_type": "code",
   "execution_count": 235,
   "metadata": {},
   "outputs": [
    {
     "name": "stderr",
     "output_type": "stream",
     "text": [
      "INFO:root:Loading dataset = usps\n",
      "WARNING:root:Please cite the following paper when using or referencing this Extra Keras Dataset:\n",
      "WARNING:root:Hull, J. J. (1994). A database for handwritten text recognition research. IEEE Transactions on pattern analysis and machine intelligence, 16(5), 550-554.\n"
     ]
    }
   ],
   "source": [
    "# Load  dataset\n",
    "(x_train, y_train), (x_test, y_test) = usps.load_data()"
   ]
  },
  {
   "cell_type": "code",
   "execution_count": 236,
   "metadata": {},
   "outputs": [],
   "source": [
    "images_train = x_train\n",
    "images_test = x_test"
   ]
  },
  {
   "cell_type": "code",
   "execution_count": 237,
   "metadata": {},
   "outputs": [],
   "source": [
    "k = 0"
   ]
  },
  {
   "cell_type": "markdown",
   "metadata": {},
   "source": [
    "# Preprocessing Images"
   ]
  },
  {
   "cell_type": "code",
   "execution_count": 238,
   "metadata": {},
   "outputs": [
    {
     "data": {
      "text/plain": [
       "array([[-1.      , -1.      , -1.      , -0.999997, -0.999729, -0.989537,\n",
       "        -0.860165, -0.395924,  0.048299, -0.282151, -0.816919, -0.988564,\n",
       "        -0.999869, -1.      , -1.      , -1.      ],\n",
       "       [-1.      , -1.      , -0.999999, -0.999891, -0.996208, -0.94284 ,\n",
       "        -0.612719,  0.130807,  0.512043, -0.042048, -0.757812, -0.98488 ,\n",
       "        -0.999826, -1.      , -1.      , -1.      ],\n",
       "       [-1.      , -1.      , -0.999966, -0.998204, -0.967391, -0.759299,\n",
       "        -0.157237,  0.547667,  0.518198, -0.281962, -0.855431, -0.991616,\n",
       "        -0.999905, -1.      , -1.      , -1.      ],\n",
       "       [-1.      , -0.999992, -0.99941 , -0.984808, -0.842305, -0.336181,\n",
       "         0.3911  ,  0.669801,  0.190967, -0.612338, -0.953833, -0.997974,\n",
       "        -0.999952, -0.999993, -0.999999, -1.      ],\n",
       "       [-0.999997, -0.999761, -0.992584, -0.906488, -0.510188,  0.228024,\n",
       "         0.658376,  0.369046, -0.354771, -0.857943, -0.988937, -0.996565,\n",
       "        -0.997386, -0.999194, -0.999913, -0.999996],\n",
       "       [-0.999915, -0.996172, -0.939914, -0.637764,  0.036391,  0.600882,\n",
       "         0.47068 , -0.205086, -0.769205, -0.958925, -0.961879, -0.930081,\n",
       "        -0.940695, -0.97524 , -0.995259, -0.999721],\n",
       "       [-0.998873, -0.972844, -0.754619, -0.128134,  0.523403,  0.558224,\n",
       "        -0.062133, -0.686585, -0.907081, -0.835463, -0.635365, -0.469883,\n",
       "        -0.519076, -0.730843, -0.930867, -0.994955],\n",
       "       [-0.993207, -0.883268, -0.38903 ,  0.408439,  0.662488,  0.137973,\n",
       "        -0.568511, -0.831178, -0.664127, -0.270945,  0.185312,  0.463334,\n",
       "         0.389738, -0.078553, -0.716218, -0.970718],\n",
       "       [-0.97841 , -0.707657,  0.075752,  0.690322,  0.479359, -0.349942,\n",
       "        -0.763471, -0.527969,  0.005622,  0.416444,  0.590543,  0.723776,\n",
       "         0.81603 ,  0.428444, -0.481536, -0.930033],\n",
       "       [-0.948726, -0.530613,  0.404801,  0.752939,  0.237365, -0.532041,\n",
       "        -0.524943,  0.068914,  0.426092,  0.305651,  0.092792,  0.290125,\n",
       "         0.738523,  0.500729, -0.448919, -0.926371],\n",
       "       [-0.908792, -0.393714,  0.556562,  0.78516 ,  0.255793, -0.231201,\n",
       "         0.062146,  0.427411,  0.133882, -0.386782, -0.476996,  0.092452,\n",
       "         0.644324,  0.301967, -0.590833, -0.961141],\n",
       "       [-0.910257, -0.40129 ,  0.548529,  0.868739,  0.635357,  0.444132,\n",
       "         0.618432,  0.470268, -0.14543 , -0.459256, -0.290193,  0.346155,\n",
       "         0.598069, -0.007338, -0.744856, -0.983035],\n",
       "       [-0.948279, -0.565186,  0.301414,  0.820383,  0.903129,  0.88289 ,\n",
       "         0.871983,  0.629757,  0.337017,  0.380541,  0.532475,  0.707779,\n",
       "         0.435463, -0.360233, -0.875965, -0.992881],\n",
       "       [-0.983147, -0.805971, -0.245141,  0.434018,  0.835208,  0.955184,\n",
       "         0.958779,  0.892297,  0.846234,  0.887277,  0.87054 ,  0.62977 ,\n",
       "         0.002161, -0.690421, -0.962489, -0.998341],\n",
       "       [-0.997299, -0.955973, -0.744837, -0.252525,  0.311654,  0.633319,\n",
       "         0.801415,  0.902149,  0.919526,  0.819451,  0.558884,  0.049978,\n",
       "        -0.565535, -0.912456, -0.993863, -0.999857],\n",
       "       [-0.99984 , -0.995876, -0.957685, -0.814635, -0.547725, -0.214728,\n",
       "         0.131298,  0.384728,  0.433073,  0.193397, -0.237439, -0.649848,\n",
       "        -0.906359, -0.988672, -0.999475, -0.999994]])"
      ]
     },
     "execution_count": 238,
     "metadata": {},
     "output_type": "execute_result"
    }
   ],
   "source": [
    "x_train[k]"
   ]
  },
  {
   "cell_type": "code",
   "execution_count": 239,
   "metadata": {},
   "outputs": [],
   "source": [
    "images_train = (images_train + 1) * 128\n",
    "images_test = (images_test + 1) * 128"
   ]
  },
  {
   "cell_type": "code",
   "execution_count": 240,
   "metadata": {},
   "outputs": [
    {
     "data": {
      "image/png": "[encoded data removed]",
      "text/plain": [
       "<Figure size 200x200 with 1 Axes>"
      ]
     },
     "metadata": {},
     "output_type": "display_data"
    }
   ],
   "source": [
    "plt.figure(figsize=(2, 2))\n",
    "plt.imshow(images_train[k], interpolation='nearest', cmap='gray')\n",
    "plt.show()"
   ]
  },
  {
   "cell_type": "code",
   "execution_count": 241,
   "metadata": {},
   "outputs": [],
   "source": [
    "# def convert_edgedetection(images):\n",
    "#     edge_detection = []\n",
    "#     for image in images:\n",
    "#         if image.shape[-1] == 3:\n",
    "#             image = cv2.cvtColor(image, cv2.COLOR_BGR2GRAY) \n",
    "        \n",
    "#         # Apply Gaussian blur to reduce noise and smoothen edges \n",
    "#         blurred = cv2.GaussianBlur(src=image, ksize=(3, 3), sigmaX=1, sigmaY=1) \n",
    "      \n",
    "#         # Perform Canny edge detection \n",
    "#         edges = cv2.Canny(blurred, 225, 250)\n",
    "#         edge_detection.append(edges)\n",
    "#     return edge_detection"
   ]
  },
  {
   "cell_type": "code",
   "execution_count": 242,
   "metadata": {},
   "outputs": [],
   "source": [
    "# # edge_detection_train = convert_edgedetection(images_train)\n",
    "# edge_detection_test = convert_edgedetection(images_test)"
   ]
  },
  {
   "cell_type": "code",
   "execution_count": 243,
   "metadata": {},
   "outputs": [],
   "source": [
    "# plt.figure(figsize=(2, 2))\n",
    "# plt.imshow(edge_detection_train[k], interpolation='nearest', cmap='gray')\n",
    "# plt.show()"
   ]
  },
  {
   "cell_type": "code",
   "execution_count": 244,
   "metadata": {},
   "outputs": [],
   "source": [
    "# images_train = edge_detection_train\n",
    "# images_test = edge_detection_test"
   ]
  },
  {
   "cell_type": "code",
   "execution_count": 245,
   "metadata": {},
   "outputs": [],
   "source": [
    "def convert_binary(images):\n",
    "    binary_images = []\n",
    "    for image in images:\n",
    "        _, thresholded = cv2.threshold(image, 127, 255, cv2.THRESH_BINARY)\n",
    "        binary_images.append(thresholded)\n",
    "    return binary_images"
   ]
  },
  {
   "cell_type": "code",
   "execution_count": 246,
   "metadata": {},
   "outputs": [],
   "source": [
    "binary_images_train = convert_binary(images_train)\n",
    "binary_images_test = convert_binary(images_test)"
   ]
  },
  {
   "cell_type": "code",
   "execution_count": 247,
   "metadata": {},
   "outputs": [
    {
     "data": {
      "image/png": "[encoded data removed]",
      "text/plain": [
       "<Figure size 200x200 with 1 Axes>"
      ]
     },
     "metadata": {},
     "output_type": "display_data"
    }
   ],
   "source": [
    "plt.figure(figsize=(2, 2))\n",
    "plt.imshow(binary_images_train[k], cmap='gray')\n",
    "plt.show()"
   ]
  },
  {
   "cell_type": "code",
   "execution_count": 248,
   "metadata": {},
   "outputs": [],
   "source": [
    "def convert_skeletonize(binary_images):\n",
    "    skeletonized_images = []\n",
    "    for binary_image in binary_images:\n",
    "        skeletonized_image = skeletonize(binary_image)\n",
    "        skeletonized_images.append(skeletonized_image.astype(np.uint8))\n",
    "    return skeletonized_images"
   ]
  },
  {
   "cell_type": "code",
   "execution_count": 249,
   "metadata": {},
   "outputs": [],
   "source": [
    "skeletonized_images_train = convert_skeletonize(binary_images_train)\n",
    "skeletonized_images_test = convert_skeletonize(binary_images_test)"
   ]
  },
  {
   "cell_type": "code",
   "execution_count": 250,
   "metadata": {},
   "outputs": [
    {
     "data": {
      "image/png": "[encoded data removed]",
      "text/plain": [
       "<Figure size 200x200 with 1 Axes>"
      ]
     },
     "metadata": {},
     "output_type": "display_data"
    }
   ],
   "source": [
    "plt.figure(figsize=(2, 2))\n",
    "plt.imshow(skeletonized_images_train[k], cmap='gray')\n",
    "plt.show()"
   ]
  },
  {
   "cell_type": "markdown",
   "metadata": {},
   "source": [
    "# Creating Graph"
   ]
  },
  {
   "cell_type": "code",
   "execution_count": 251,
   "metadata": {},
   "outputs": [],
   "source": [
    "def create_nodes(skeletonized_images):\n",
    "    nodes_list = []\n",
    "    node_features_list = []\n",
    "    for skeletonized_image in skeletonized_images:\n",
    "        nodes = []\n",
    "        features = []\n",
    "        for i in range(skeletonized_image.shape[0]):\n",
    "            for j in range(skeletonized_image.shape[1]):\n",
    "                if skeletonized_image[i, j] == 1:\n",
    "                    nodes.append((i, j))\n",
    "                    features.append([i, j])\n",
    "        nodes_list.append(nodes)\n",
    "        node_features_list.append(features)\n",
    "    return nodes_list, node_features_list"
   ]
  },
  {
   "cell_type": "code",
   "execution_count": 252,
   "metadata": {},
   "outputs": [],
   "source": [
    "nodes_list_train, node_features_list_train = create_nodes(skeletonized_images_train)\n",
    "nodes_list_test, node_features_list_test = create_nodes(skeletonized_images_test)"
   ]
  },
  {
   "cell_type": "code",
   "execution_count": 253,
   "metadata": {},
   "outputs": [
    {
     "data": {
      "text/plain": [
       "[(0, 8),\n",
       " (1, 8),\n",
       " (2, 7),\n",
       " (3, 7),\n",
       " (4, 6),\n",
       " (5, 5),\n",
       " (6, 4),\n",
       " (7, 4),\n",
       " (8, 3),\n",
       " (8, 9),\n",
       " (8, 10),\n",
       " (8, 11),\n",
       " (9, 3),\n",
       " (9, 8),\n",
       " (9, 12),\n",
       " (10, 3),\n",
       " (10, 7),\n",
       " (10, 12),\n",
       " (11, 3),\n",
       " (11, 7),\n",
       " (11, 11),\n",
       " (12, 4),\n",
       " (12, 5),\n",
       " (12, 6),\n",
       " (12, 7),\n",
       " (12, 11),\n",
       " (13, 8),\n",
       " (13, 9),\n",
       " (13, 10)]"
      ]
     },
     "execution_count": 253,
     "metadata": {},
     "output_type": "execute_result"
    }
   ],
   "source": [
    "nodes_list_train[k]"
   ]
  },
  {
   "cell_type": "code",
   "execution_count": 254,
   "metadata": {},
   "outputs": [
    {
     "data": {
      "text/plain": [
       "[[0, 8],\n",
       " [1, 8],\n",
       " [2, 7],\n",
       " [3, 7],\n",
       " [4, 6],\n",
       " [5, 5],\n",
       " [6, 4],\n",
       " [7, 4],\n",
       " [8, 3],\n",
       " [8, 9],\n",
       " [8, 10],\n",
       " [8, 11],\n",
       " [9, 3],\n",
       " [9, 8],\n",
       " [9, 12],\n",
       " [10, 3],\n",
       " [10, 7],\n",
       " [10, 12],\n",
       " [11, 3],\n",
       " [11, 7],\n",
       " [11, 11],\n",
       " [12, 4],\n",
       " [12, 5],\n",
       " [12, 6],\n",
       " [12, 7],\n",
       " [12, 11],\n",
       " [13, 8],\n",
       " [13, 9],\n",
       " [13, 10]]"
      ]
     },
     "execution_count": 254,
     "metadata": {},
     "output_type": "execute_result"
    }
   ],
   "source": [
    "node_features_list_train[k]"
   ]
  },
  {
   "cell_type": "code",
   "execution_count": 271,
   "metadata": {},
   "outputs": [],
   "source": [
    "def create_graph(nodes_list, skeletonized_images):\n",
    "    graphs = []\n",
    "    sparse_graphs = []\n",
    "    for nodes, image in zip(nodes_list, skeletonized_images):\n",
    "        # Create a graph\n",
    "        G = nx.Graph()\n",
    "\n",
    "        # Add nodes for white pixels\n",
    "        G.add_nodes_from(nodes)\n",
    "        # print(G.nodes)\n",
    "        for i, j in nodes:\n",
    "            for x in range(-1, 2):\n",
    "                for y in range(-1, 2):\n",
    "                    if 0 <= i + x < image.shape[0] and 0 <= j + y < image.shape[1] and (x != 0 or y != 0) and image[i + x, j + y] == 1:\n",
    "                        G.add_edge((i, j), (i + x, j + y))\n",
    "        graphs.append(G)\n",
    "    return graphs"
   ]
  },
  {
   "cell_type": "code",
   "execution_count": 272,
   "metadata": {},
   "outputs": [],
   "source": [
    "graphs_train = create_graph(nodes_list_train, skeletonized_images_train)\n",
    "graphs_test = create_graph(nodes_list_test, skeletonized_images_test)"
   ]
  },
  {
   "cell_type": "code",
   "execution_count": 273,
   "metadata": {},
   "outputs": [],
   "source": [
    "nodes_dict_train = [{value: index for index, value in enumerate(list)} for list in nodes_list_train]\n",
    "nodes_dict_test = [{value: index for index, value in enumerate(list)} for list in nodes_list_test]"
   ]
  },
  {
   "cell_type": "code",
   "execution_count": 274,
   "metadata": {},
   "outputs": [
    {
     "data": {
      "text/plain": [
       "{(0, 8): 0,\n",
       " (1, 8): 1,\n",
       " (2, 7): 2,\n",
       " (3, 7): 3,\n",
       " (4, 6): 4,\n",
       " (5, 5): 5,\n",
       " (6, 4): 6,\n",
       " (7, 4): 7,\n",
       " (8, 3): 8,\n",
       " (8, 9): 9,\n",
       " (8, 10): 10,\n",
       " (8, 11): 11,\n",
       " (9, 3): 12,\n",
       " (9, 8): 13,\n",
       " (9, 12): 14,\n",
       " (10, 3): 15,\n",
       " (10, 7): 16,\n",
       " (10, 12): 17,\n",
       " (11, 3): 18,\n",
       " (11, 7): 19,\n",
       " (11, 11): 20,\n",
       " (12, 4): 21,\n",
       " (12, 5): 22,\n",
       " (12, 6): 23,\n",
       " (12, 7): 24,\n",
       " (12, 11): 25,\n",
       " (13, 8): 26,\n",
       " (13, 9): 27,\n",
       " (13, 10): 28}"
      ]
     },
     "execution_count": 274,
     "metadata": {},
     "output_type": "execute_result"
    }
   ],
   "source": [
    "nodes_dict_train[k]"
   ]
  },
  {
   "cell_type": "code",
   "execution_count": 275,
   "metadata": {},
   "outputs": [
    {
     "data": {
      "image/png": "[encoded data removed]",
      "text/plain": [
       "<Figure size 640x480 with 1 Axes>"
      ]
     },
     "metadata": {},
     "output_type": "display_data"
    }
   ],
   "source": [
    "pos = {(i, j): (j, -i) for i, j in graphs_train[k].nodes()}\n",
    "nx.draw(graphs_train[k], pos, with_labels=True, font_size=7)\n",
    "plt.show()"
   ]
  },
  {
   "cell_type": "code",
   "execution_count": null,
   "metadata": {},
   "outputs": [],
   "source": [
    "# # Old Method of Creating Edge Index\n",
    "# def create_edge_index(sparse_graph):\n",
    "#     edges = []\n",
    "#     edge_from = []\n",
    "#     edge_to = []\n",
    "#     num_nodes = sparse_graph.shape[0]\n",
    "#     for i in range(num_nodes):\n",
    "#         for j in range(i + 1, num_nodes):\n",
    "#             if sparse_graph[i, j] == 1:\n",
    "#                 edge_from.append(i)\n",
    "#                 edge_to.append(j)\n",
    "#                 # edge_from.append(j)\n",
    "#                 # edge_to.append(i)\n",
    "#     edges.append(edge_from)\n",
    "#     edges.append(edge_to)\n",
    "#     return np.array(edges)"
   ]
  },
  {
   "cell_type": "code",
   "execution_count": 276,
   "metadata": {},
   "outputs": [],
   "source": [
    "def create_edge_index(graph, nodes_dict):\n",
    "    edges = []\n",
    "    edge_from = []\n",
    "    edge_to = []\n",
    "    for (i, j) in graph.edges():\n",
    "        edge_from.append(nodes_dict[i])\n",
    "        edge_to.append(nodes_dict[j])\n",
    "        # edge_from.append(nodes_dict[j])\n",
    "        # edge_to.append(nodes_dict[i])\n",
    "    edges.append(edge_from)\n",
    "    edges.append(edge_to)\n",
    "    return np.array(edges)\n"
   ]
  },
  {
   "cell_type": "code",
   "execution_count": 277,
   "metadata": {},
   "outputs": [
    {
     "data": {
      "text/plain": [
       "EdgeView([((0, 8), (1, 8)), ((1, 8), (2, 7)), ((2, 7), (3, 7)), ((3, 7), (4, 6)), ((4, 6), (5, 5)), ((5, 5), (6, 4)), ((6, 4), (7, 4)), ((7, 4), (8, 3)), ((8, 3), (9, 3)), ((8, 9), (8, 10)), ((8, 9), (9, 8)), ((8, 10), (8, 11)), ((8, 11), (9, 12)), ((9, 3), (10, 3)), ((9, 8), (10, 7)), ((9, 12), (10, 12)), ((10, 3), (11, 3)), ((10, 7), (11, 7)), ((10, 12), (11, 11)), ((11, 3), (12, 4)), ((11, 7), (12, 6)), ((11, 7), (12, 7)), ((11, 11), (12, 11)), ((12, 4), (12, 5)), ((12, 5), (12, 6)), ((12, 6), (12, 7)), ((12, 7), (13, 8)), ((12, 11), (13, 10)), ((13, 8), (13, 9)), ((13, 9), (13, 10))])"
      ]
     },
     "execution_count": 277,
     "metadata": {},
     "output_type": "execute_result"
    }
   ],
   "source": [
    "graphs_train[k].edges()"
   ]
  },
  {
   "cell_type": "code",
   "execution_count": 278,
   "metadata": {},
   "outputs": [],
   "source": [
    "edges_index_list_train = [create_edge_index(graphs_train[i], nodes_dict_train[i]) for i in range(len(images_train))]\n",
    "edges_index_list_test = [create_edge_index(graphs_test[i], nodes_dict_test[i]) for i in range(len(images_test))]"
   ]
  },
  {
   "cell_type": "code",
   "execution_count": 279,
   "metadata": {},
   "outputs": [
    {
     "data": {
      "text/plain": [
       "array([[ 0,  1,  2,  3,  4,  5,  6,  7,  8,  9,  9, 10, 11, 12, 13, 14,\n",
       "        15, 16, 17, 18, 19, 19, 20, 21, 22, 23, 24, 25, 26, 27],\n",
       "       [ 1,  2,  3,  4,  5,  6,  7,  8, 12, 10, 13, 11, 14, 15, 16, 17,\n",
       "        18, 19, 20, 21, 23, 24, 25, 22, 23, 24, 26, 28, 27, 28]])"
      ]
     },
     "execution_count": 279,
     "metadata": {},
     "output_type": "execute_result"
    }
   ],
   "source": [
    "edges_index_list_train[k]"
   ]
  },
  {
   "cell_type": "code",
   "execution_count": 280,
   "metadata": {},
   "outputs": [],
   "source": [
    "import torch\n",
    "import torch.nn as nn\n",
    "import torch.nn.functional as F\n",
    "from torch_geometric.nn import GraphConv, global_mean_pool, global_add_pool\n",
    "from torch_geometric.data import Data, Dataset\n",
    "from torch_geometric.loader import DataLoader\n"
   ]
  },
  {
   "cell_type": "markdown",
   "metadata": {},
   "source": [
    "# Making Dataset"
   ]
  },
  {
   "cell_type": "code",
   "execution_count": 281,
   "metadata": {},
   "outputs": [],
   "source": [
    "class CustomGraphDataset(Dataset):\n",
    "    def __init__(self, data_list):\n",
    "        super(CustomGraphDataset, self).__init__()\n",
    "        self.data_list = data_list\n",
    "\n",
    "    def __len__(self):\n",
    "        return len(self.data_list)\n",
    "\n",
    "    def __getitem__(self, idx):\n",
    "        return self.data_list[idx]\n",
    "\n",
    "    # Additional abstract methods to implement\n",
    "    def get(self, idx):\n",
    "        # Implement logic to retrieve data at the given index\n",
    "        return self.data_list[idx]\n",
    "\n",
    "    def len(self):\n",
    "        # Implement logic to return the length of the dataset\n",
    "        return len(self.data_list)"
   ]
  },
  {
   "cell_type": "code",
   "execution_count": 282,
   "metadata": {},
   "outputs": [],
   "source": [
    "def create_custom_data_instance(node_features, edges, label):\n",
    "    x = torch.tensor(node_features, dtype=torch.float)\n",
    "    edge_index = torch.tensor(edges, dtype=torch.long)\n",
    "    y = torch.tensor([label], dtype=torch.long)\n",
    "    return Data(x=x, edge_index=edge_index, y=y)"
   ]
  },
  {
   "cell_type": "code",
   "execution_count": 283,
   "metadata": {},
   "outputs": [],
   "source": [
    "data_list_train = [create_custom_data_instance(node_features_list_train[i], edges_index_list_train[i], y_train[i]) for i in range(len(images_train))]\n",
    "custom_dataset_train = CustomGraphDataset(data_list_train)\n",
    "\n",
    "data_list_test = [create_custom_data_instance(node_features_list_test[i], edges_index_list_test[i], y_test[i]) for i in range(len(images_test))]\n",
    "custom_dataset_test = CustomGraphDataset(data_list_test)"
   ]
  },
  {
   "cell_type": "code",
   "execution_count": 284,
   "metadata": {},
   "outputs": [],
   "source": [
    "num_features = custom_dataset_train.num_features\n",
    "num_classes = custom_dataset_train.num_classes"
   ]
  },
  {
   "cell_type": "code",
   "execution_count": 285,
   "metadata": {},
   "outputs": [],
   "source": [
    "# dataset = TUDataset(root='data/TUDataset', name='ENZYMES', transform=NormalizeFeatures())\n",
    "# Split the dataset into training and testing sets\n",
    "# train_dataset, test_dataset = train_test_split(dataset, test_size=0.2, random_state=42)\n",
    "\n",
    "train_dataset, test_dataset = custom_dataset_train, custom_dataset_test\n"
   ]
  },
  {
   "cell_type": "code",
   "execution_count": 295,
   "metadata": {},
   "outputs": [],
   "source": [
    "# Use PyTorch DataLoader to handle batching\n",
    "train_loader = DataLoader(train_dataset, batch_size=32, shuffle=True)\n",
    "test_loader = DataLoader(test_dataset, batch_size=32, shuffle=False)"
   ]
  },
  {
   "cell_type": "code",
   "execution_count": 287,
   "metadata": {},
   "outputs": [
    {
     "data": {
      "text/plain": [
       "CustomGraphDataset(7291)"
      ]
     },
     "execution_count": 287,
     "metadata": {},
     "output_type": "execute_result"
    }
   ],
   "source": [
    "train_dataset"
   ]
  },
  {
   "cell_type": "code",
   "execution_count": 288,
   "metadata": {},
   "outputs": [
    {
     "data": {
      "text/plain": [
       "CustomGraphDataset(2007)"
      ]
     },
     "execution_count": 288,
     "metadata": {},
     "output_type": "execute_result"
    }
   ],
   "source": [
    "test_dataset"
   ]
  },
  {
   "cell_type": "code",
   "execution_count": 289,
   "metadata": {},
   "outputs": [
    {
     "data": {
      "text/plain": [
       "Data(x=[29, 2], edge_index=[2, 30], y=[1])"
      ]
     },
     "execution_count": 289,
     "metadata": {},
     "output_type": "execute_result"
    }
   ],
   "source": [
    "train_dataset[k]"
   ]
  },
  {
   "cell_type": "code",
   "execution_count": 290,
   "metadata": {},
   "outputs": [
    {
     "name": "stdout",
     "output_type": "stream",
     "text": [
      "Number of Features: 2, Number of Classes: 10\n"
     ]
    }
   ],
   "source": [
    "print(f'Number of Features: {num_features}, Number of Classes: {num_classes}')"
   ]
  },
  {
   "cell_type": "markdown",
   "metadata": {},
   "source": [
    "Graph Neural Network for Graph Classification"
   ]
  },
  {
   "cell_type": "code",
   "execution_count": 292,
   "metadata": {},
   "outputs": [],
   "source": [
    "class GCNClassifier(nn.Module):\n",
    "    def __init__(self, input_dim, hidden_dim, output_dim):\n",
    "        super(GCNClassifier, self).__init__()\n",
    "        self.conv1 = GraphConv(input_dim, hidden_dim[0])\n",
    "        self.conv2 = GraphConv(hidden_dim[0], hidden_dim[1])\n",
    "        self.conv3 = GraphConv(hidden_dim[1], hidden_dim[2])\n",
    "        self.conv4 = GraphConv(hidden_dim[2], output_dim)\n",
    "\n",
    "    def forward(self, data):\n",
    "        x, edge_index, batch = data.x, data.edge_index, data.batch\n",
    "        x = F.relu(self.conv1(x, edge_index))\n",
    "        # x = F.dropout(x, p=0.2)\n",
    "        x = F.relu(self.conv2(x, edge_index))\n",
    "        # x = F.dropout(x, p=0.2)\n",
    "        x = F.relu(self.conv3(x, edge_index))\n",
    "        # x = F.dropout(x, p=0.2)\n",
    "        x = F.relu(self.conv4(x, edge_index))\n",
    "        # x = F.dropout(x, p=0.2)\n",
    "        x = global_mean_pool(x, batch)\n",
    "        # x = global_add_pool(x, batch)\n",
    "        return F.log_softmax(x, dim=1)"
   ]
  },
  {
   "cell_type": "code",
   "execution_count": 293,
   "metadata": {},
   "outputs": [],
   "source": [
    "# Instantiate the Graph Autoencoder model\n",
    "input_dim = num_features\n",
    "hidden_dim = [32, 16, 16]\n",
    "output_dim = num_classes\n",
    "gcnClassifier = GCNClassifier(input_dim, hidden_dim, output_dim)\n",
    "# model = GraphAutoencoder(input_dim, hidden_dim)\n",
    "\n",
    "# Define the optimizer\n",
    "optimizer = torch.optim.Adam(gcnClassifier.parameters(), lr=0.005)\n",
    "criterion = nn.CrossEntropyLoss()\n"
   ]
  },
  {
   "cell_type": "code",
   "execution_count": 296,
   "metadata": {},
   "outputs": [
    {
     "name": "stdout",
     "output_type": "stream",
     "text": [
      "GCN Classifier - Epoch 1/20, Loss: 0.268501341342926\n",
      "GCN Classifier - Epoch 2/20, Loss: 0.5708197355270386\n",
      "GCN Classifier - Epoch 3/20, Loss: 0.6375022530555725\n",
      "GCN Classifier - Epoch 4/20, Loss: 1.986345648765564\n"
     ]
    },
    {
     "ename": "ValueError",
     "evalue": "Expected input batch_size (30) to match target batch_size (31).",
     "output_type": "error",
     "traceback": [
      "\u001b[1;31m---------------------------------------------------------------------------\u001b[0m",
      "\u001b[1;31mValueError\u001b[0m                                Traceback (most recent call last)",
      "Cell \u001b[1;32mIn[296], line 8\u001b[0m\n\u001b[0;32m      6\u001b[0m optimizer\u001b[38;5;241m.\u001b[39mzero_grad()\n\u001b[0;32m      7\u001b[0m output \u001b[38;5;241m=\u001b[39m gcnClassifier(data)\n\u001b[1;32m----> 8\u001b[0m loss \u001b[38;5;241m=\u001b[39m \u001b[43mcriterion\u001b[49m\u001b[43m(\u001b[49m\u001b[43moutput\u001b[49m\u001b[43m,\u001b[49m\u001b[43m \u001b[49m\u001b[43mdata\u001b[49m\u001b[38;5;241;43m.\u001b[39;49m\u001b[43my\u001b[49m\u001b[43m)\u001b[49m\n\u001b[0;32m      9\u001b[0m loss\u001b[38;5;241m.\u001b[39mbackward()\n\u001b[0;32m     10\u001b[0m optimizer\u001b[38;5;241m.\u001b[39mstep()\n",
      "File \u001b[1;32mc:\\Users\\Tanishq Arora\\AppData\\Local\\Programs\\Python\\Python311\\Lib\\site-packages\\torch\\nn\\modules\\module.py:1518\u001b[0m, in \u001b[0;36mModule._wrapped_call_impl\u001b[1;34m(self, *args, **kwargs)\u001b[0m\n\u001b[0;32m   1516\u001b[0m     \u001b[38;5;28;01mreturn\u001b[39;00m \u001b[38;5;28mself\u001b[39m\u001b[38;5;241m.\u001b[39m_compiled_call_impl(\u001b[38;5;241m*\u001b[39margs, \u001b[38;5;241m*\u001b[39m\u001b[38;5;241m*\u001b[39mkwargs)  \u001b[38;5;66;03m# type: ignore[misc]\u001b[39;00m\n\u001b[0;32m   1517\u001b[0m \u001b[38;5;28;01melse\u001b[39;00m:\n\u001b[1;32m-> 1518\u001b[0m     \u001b[38;5;28;01mreturn\u001b[39;00m \u001b[38;5;28;43mself\u001b[39;49m\u001b[38;5;241;43m.\u001b[39;49m\u001b[43m_call_impl\u001b[49m\u001b[43m(\u001b[49m\u001b[38;5;241;43m*\u001b[39;49m\u001b[43margs\u001b[49m\u001b[43m,\u001b[49m\u001b[43m \u001b[49m\u001b[38;5;241;43m*\u001b[39;49m\u001b[38;5;241;43m*\u001b[39;49m\u001b[43mkwargs\u001b[49m\u001b[43m)\u001b[49m\n",
      "File \u001b[1;32mc:\\Users\\Tanishq Arora\\AppData\\Local\\Programs\\Python\\Python311\\Lib\\site-packages\\torch\\nn\\modules\\module.py:1527\u001b[0m, in \u001b[0;36mModule._call_impl\u001b[1;34m(self, *args, **kwargs)\u001b[0m\n\u001b[0;32m   1522\u001b[0m \u001b[38;5;66;03m# If we don't have any hooks, we want to skip the rest of the logic in\u001b[39;00m\n\u001b[0;32m   1523\u001b[0m \u001b[38;5;66;03m# this function, and just call forward.\u001b[39;00m\n\u001b[0;32m   1524\u001b[0m \u001b[38;5;28;01mif\u001b[39;00m \u001b[38;5;129;01mnot\u001b[39;00m (\u001b[38;5;28mself\u001b[39m\u001b[38;5;241m.\u001b[39m_backward_hooks \u001b[38;5;129;01mor\u001b[39;00m \u001b[38;5;28mself\u001b[39m\u001b[38;5;241m.\u001b[39m_backward_pre_hooks \u001b[38;5;129;01mor\u001b[39;00m \u001b[38;5;28mself\u001b[39m\u001b[38;5;241m.\u001b[39m_forward_hooks \u001b[38;5;129;01mor\u001b[39;00m \u001b[38;5;28mself\u001b[39m\u001b[38;5;241m.\u001b[39m_forward_pre_hooks\n\u001b[0;32m   1525\u001b[0m         \u001b[38;5;129;01mor\u001b[39;00m _global_backward_pre_hooks \u001b[38;5;129;01mor\u001b[39;00m _global_backward_hooks\n\u001b[0;32m   1526\u001b[0m         \u001b[38;5;129;01mor\u001b[39;00m _global_forward_hooks \u001b[38;5;129;01mor\u001b[39;00m _global_forward_pre_hooks):\n\u001b[1;32m-> 1527\u001b[0m     \u001b[38;5;28;01mreturn\u001b[39;00m \u001b[43mforward_call\u001b[49m\u001b[43m(\u001b[49m\u001b[38;5;241;43m*\u001b[39;49m\u001b[43margs\u001b[49m\u001b[43m,\u001b[49m\u001b[43m \u001b[49m\u001b[38;5;241;43m*\u001b[39;49m\u001b[38;5;241;43m*\u001b[39;49m\u001b[43mkwargs\u001b[49m\u001b[43m)\u001b[49m\n\u001b[0;32m   1529\u001b[0m \u001b[38;5;28;01mtry\u001b[39;00m:\n\u001b[0;32m   1530\u001b[0m     result \u001b[38;5;241m=\u001b[39m \u001b[38;5;28;01mNone\u001b[39;00m\n",
      "File \u001b[1;32mc:\\Users\\Tanishq Arora\\AppData\\Local\\Programs\\Python\\Python311\\Lib\\site-packages\\torch\\nn\\modules\\loss.py:1179\u001b[0m, in \u001b[0;36mCrossEntropyLoss.forward\u001b[1;34m(self, input, target)\u001b[0m\n\u001b[0;32m   1178\u001b[0m \u001b[38;5;28;01mdef\u001b[39;00m \u001b[38;5;21mforward\u001b[39m(\u001b[38;5;28mself\u001b[39m, \u001b[38;5;28minput\u001b[39m: Tensor, target: Tensor) \u001b[38;5;241m-\u001b[39m\u001b[38;5;241m>\u001b[39m Tensor:\n\u001b[1;32m-> 1179\u001b[0m     \u001b[38;5;28;01mreturn\u001b[39;00m \u001b[43mF\u001b[49m\u001b[38;5;241;43m.\u001b[39;49m\u001b[43mcross_entropy\u001b[49m\u001b[43m(\u001b[49m\u001b[38;5;28;43minput\u001b[39;49m\u001b[43m,\u001b[49m\u001b[43m \u001b[49m\u001b[43mtarget\u001b[49m\u001b[43m,\u001b[49m\u001b[43m \u001b[49m\u001b[43mweight\u001b[49m\u001b[38;5;241;43m=\u001b[39;49m\u001b[38;5;28;43mself\u001b[39;49m\u001b[38;5;241;43m.\u001b[39;49m\u001b[43mweight\u001b[49m\u001b[43m,\u001b[49m\n\u001b[0;32m   1180\u001b[0m \u001b[43m                           \u001b[49m\u001b[43mignore_index\u001b[49m\u001b[38;5;241;43m=\u001b[39;49m\u001b[38;5;28;43mself\u001b[39;49m\u001b[38;5;241;43m.\u001b[39;49m\u001b[43mignore_index\u001b[49m\u001b[43m,\u001b[49m\u001b[43m \u001b[49m\u001b[43mreduction\u001b[49m\u001b[38;5;241;43m=\u001b[39;49m\u001b[38;5;28;43mself\u001b[39;49m\u001b[38;5;241;43m.\u001b[39;49m\u001b[43mreduction\u001b[49m\u001b[43m,\u001b[49m\n\u001b[0;32m   1181\u001b[0m \u001b[43m                           \u001b[49m\u001b[43mlabel_smoothing\u001b[49m\u001b[38;5;241;43m=\u001b[39;49m\u001b[38;5;28;43mself\u001b[39;49m\u001b[38;5;241;43m.\u001b[39;49m\u001b[43mlabel_smoothing\u001b[49m\u001b[43m)\u001b[49m\n",
      "File \u001b[1;32mc:\\Users\\Tanishq Arora\\AppData\\Local\\Programs\\Python\\Python311\\Lib\\site-packages\\torch\\nn\\functional.py:3053\u001b[0m, in \u001b[0;36mcross_entropy\u001b[1;34m(input, target, weight, size_average, ignore_index, reduce, reduction, label_smoothing)\u001b[0m\n\u001b[0;32m   3051\u001b[0m \u001b[38;5;28;01mif\u001b[39;00m size_average \u001b[38;5;129;01mis\u001b[39;00m \u001b[38;5;129;01mnot\u001b[39;00m \u001b[38;5;28;01mNone\u001b[39;00m \u001b[38;5;129;01mor\u001b[39;00m reduce \u001b[38;5;129;01mis\u001b[39;00m \u001b[38;5;129;01mnot\u001b[39;00m \u001b[38;5;28;01mNone\u001b[39;00m:\n\u001b[0;32m   3052\u001b[0m     reduction \u001b[38;5;241m=\u001b[39m _Reduction\u001b[38;5;241m.\u001b[39mlegacy_get_string(size_average, reduce)\n\u001b[1;32m-> 3053\u001b[0m \u001b[38;5;28;01mreturn\u001b[39;00m \u001b[43mtorch\u001b[49m\u001b[38;5;241;43m.\u001b[39;49m\u001b[43m_C\u001b[49m\u001b[38;5;241;43m.\u001b[39;49m\u001b[43m_nn\u001b[49m\u001b[38;5;241;43m.\u001b[39;49m\u001b[43mcross_entropy_loss\u001b[49m\u001b[43m(\u001b[49m\u001b[38;5;28;43minput\u001b[39;49m\u001b[43m,\u001b[49m\u001b[43m \u001b[49m\u001b[43mtarget\u001b[49m\u001b[43m,\u001b[49m\u001b[43m \u001b[49m\u001b[43mweight\u001b[49m\u001b[43m,\u001b[49m\u001b[43m \u001b[49m\u001b[43m_Reduction\u001b[49m\u001b[38;5;241;43m.\u001b[39;49m\u001b[43mget_enum\u001b[49m\u001b[43m(\u001b[49m\u001b[43mreduction\u001b[49m\u001b[43m)\u001b[49m\u001b[43m,\u001b[49m\u001b[43m \u001b[49m\u001b[43mignore_index\u001b[49m\u001b[43m,\u001b[49m\u001b[43m \u001b[49m\u001b[43mlabel_smoothing\u001b[49m\u001b[43m)\u001b[49m\n",
      "\u001b[1;31mValueError\u001b[0m: Expected input batch_size (30) to match target batch_size (31)."
     ]
    }
   ],
   "source": [
    "# Training loop\n",
    "num_epochs = 20\n",
    "for epoch in range(num_epochs):\n",
    "    gcnClassifier.train()\n",
    "    for data in train_loader:\n",
    "        optimizer.zero_grad()\n",
    "        output = gcnClassifier(data)\n",
    "        loss = criterion(output, data.y)\n",
    "        loss.backward()\n",
    "        optimizer.step()\n",
    "\n",
    "    print(f'GCN Classifier - Epoch {epoch + 1}/{num_epochs}, Loss: {loss.item()}')"
   ]
  },
  {
   "cell_type": "code",
   "execution_count": null,
   "metadata": {},
   "outputs": [
    {
     "name": "stdout",
     "output_type": "stream",
     "text": [
      "Classification Report:\n",
      "               precision    recall  f1-score   support\n",
      "\n",
      "           0       0.98      0.95      0.96       980\n",
      "           1       0.98      0.97      0.98      1135\n",
      "           2       0.95      0.91      0.93      1032\n",
      "           3       0.93      0.95      0.94      1010\n",
      "           4       0.94      0.95      0.94       982\n",
      "           5       0.93      0.95      0.94       892\n",
      "           6       0.93      0.96      0.95       958\n",
      "           7       0.96      0.92      0.94      1028\n",
      "           8       0.93      0.91      0.92       974\n",
      "           9       0.88      0.94      0.91      1009\n",
      "\n",
      "    accuracy                           0.94     10000\n",
      "   macro avg       0.94      0.94      0.94     10000\n",
      "weighted avg       0.94      0.94      0.94     10000\n",
      "\n"
     ]
    }
   ],
   "source": [
    "# Evaluation\n",
    "gcnClassifier.eval()\n",
    "correct = 0\n",
    "total = 0\n",
    "all_predicted = []\n",
    "all_labels = []\n",
    "\n",
    "with torch.no_grad():\n",
    "    for data in test_loader:\n",
    "        output = gcnClassifier(data)\n",
    "        _, predicted = torch.max(output, 1)\n",
    "        total += data.y.size(0)\n",
    "        correct += (predicted == data.y).sum().item()\n",
    "\n",
    "        # Collect predictions and ground truth for later metric calculation\n",
    "        all_predicted.extend(predicted.cpu().numpy())\n",
    "        all_labels.extend(data.y.cpu().numpy())\n",
    "\n",
    "# Print classification report\n",
    "print(\"Classification Report:\\n\", classification_report(all_labels, all_predicted,zero_division=1))"
   ]
  },
  {
   "cell_type": "markdown",
   "metadata": {},
   "source": [
    "Graph Autoencoder using GNN\n"
   ]
  },
  {
   "cell_type": "code",
   "execution_count": 57,
   "metadata": {},
   "outputs": [],
   "source": [
    "class GraphAutoencoder(nn.Module):\n",
    "    def __init__(self, input_dim, hidden_dim, latent_dim):\n",
    "        super(GraphAutoencoder, self).__init__()\n",
    "\n",
    "        # Encoder layers\n",
    "        self.conv1 = GraphConv(input_dim, hidden_dim[0])\n",
    "        self.conv2 = GraphConv(hidden_dim[0], hidden_dim[1])\n",
    "        self.conv3 = GraphConv(hidden_dim[1], hidden_dim[2])\n",
    "        self.conv4 = GraphConv(hidden_dim[2], latent_dim)\n",
    "\n",
    "        # Decoder layers\n",
    "        self.t_conv1 = GraphConv(latent_dim, hidden_dim[2])\n",
    "        self.t_conv2 = GraphConv(hidden_dim[2], hidden_dim[1])\n",
    "        self.t_conv3 = GraphConv(hidden_dim[1], hidden_dim[0])\n",
    "        self.t_conv4 = GraphConv(hidden_dim[0], input_dim)\n",
    "\n",
    "    def encode(self, x, edge_index):\n",
    "        x = self.conv1(x, edge_index)\n",
    "        x = self.conv2(x, edge_index)\n",
    "        x = self.conv3(x, edge_index)\n",
    "        x = self.conv4(x, edge_index)\n",
    "        return x\n",
    "\n",
    "    def decode(self, x, edge_index):\n",
    "        x = self.t_conv1(x, edge_index)\n",
    "        x = self.t_conv2(x, edge_index)\n",
    "        x = self.t_conv3(x, edge_index)\n",
    "        x = self.t_conv4(x, edge_index)\n",
    "        return x\n",
    "\n",
    "    def forward(self, x, edge_index):\n",
    "        z = self.encode(x, edge_index)\n",
    "        x_reconstructed = self.decode(z, edge_index)\n",
    "        return x_reconstructed, z  # Returning z (embeddings) as well"
   ]
  },
  {
   "cell_type": "code",
   "execution_count": 58,
   "metadata": {},
   "outputs": [],
   "source": [
    "# Instantiate the Graph Autoencoder model\n",
    "input_dim = num_features\n",
    "hidden_dim = [16, 8, 4]\n",
    "latent_dim = 1\n",
    "autoencoder = GraphAutoencoder(input_dim, hidden_dim, latent_dim)\n",
    "\n",
    "# Define the optimizer and Mean Squared Error (MSE) Loss\n",
    "optimizer = torch.optim.Adam(autoencoder.parameters(), lr=0.001)\n",
    "reconstruction_criterion = nn.CrossEntropyLoss()\n",
    "validation_criterion = nn.MSELoss()"
   ]
  },
  {
   "cell_type": "code",
   "execution_count": 59,
   "metadata": {},
   "outputs": [
    {
     "name": "stdout",
     "output_type": "stream",
     "text": [
      "Autoencoder - Epoch 1/10, Reconstruction Loss: 18.34115982055664\n",
      "Autoencoder - Epoch 2/10, Reconstruction Loss: 18.212230682373047\n",
      "Autoencoder - Epoch 3/10, Reconstruction Loss: 18.259193420410156\n",
      "Autoencoder - Epoch 4/10, Reconstruction Loss: 18.228046417236328\n",
      "Autoencoder - Epoch 5/10, Reconstruction Loss: 18.290010452270508\n",
      "Autoencoder - Epoch 6/10, Reconstruction Loss: 18.237083435058594\n",
      "Autoencoder - Epoch 7/10, Reconstruction Loss: 18.48660659790039\n",
      "Autoencoder - Epoch 8/10, Reconstruction Loss: 18.40268898010254\n",
      "Autoencoder - Epoch 9/10, Reconstruction Loss: 18.396461486816406\n",
      "Autoencoder - Epoch 10/10, Reconstruction Loss: 18.28270721435547\n"
     ]
    }
   ],
   "source": [
    "# Early stopping parameters\n",
    "patience = 5\n",
    "best_val_loss = float('inf')\n",
    "counter = 0\n",
    "\n",
    "# Training with early stopping\n",
    "num_epochs = 10\n",
    "for epoch in range(num_epochs):\n",
    "    autoencoder.train()\n",
    "    # Training\n",
    "    for data in train_loader:\n",
    "        optimizer.zero_grad()\n",
    "        x = data.x\n",
    "        edge_index = data.edge_index\n",
    "        reconstructed_x, _ = autoencoder(x, edge_index)\n",
    "\n",
    "        # Reconstruction loss\n",
    "        reconstruction_loss = reconstruction_criterion(reconstructed_x, x)\n",
    "\n",
    "        # Total loss\n",
    "        reconstruction_loss.backward()\n",
    "\n",
    "        optimizer.step()\n",
    "\n",
    "    print(f'Autoencoder - Epoch {epoch + 1}/{num_epochs}, Reconstruction Loss: {reconstruction_loss.item()}')\n"
   ]
  },
  {
   "cell_type": "code",
   "execution_count": 60,
   "metadata": {},
   "outputs": [],
   "source": [
    "    # # Validation\n",
    "    # autoencoder.eval()\n",
    "    # with torch.no_grad():\n",
    "    #     val_losses = []\n",
    "    #     for data in val_loader:\n",
    "    #         output, _ = autoencoder(data.x, data.edge_index)\n",
    "    #         val_loss = validation_criterion(output, data.x)\n",
    "    #         val_losses.append(val_loss.item())\n",
    "\n",
    "    #     avg_val_loss = sum(val_losses) / len(val_losses)\n",
    "    #     print(f'Validation - Epoch {epoch + 1}/{epochs}, Validation Loss: {avg_val_loss}')\n",
    "\n",
    "    #     # Early stopping check\n",
    "    #     if avg_val_loss < best_val_loss:\n",
    "    #         best_val_loss = avg_val_loss\n",
    "    #         counter = 0\n",
    "    #     else:\n",
    "    #         counter += 1\n",
    "    #         if counter >= patience:\n",
    "    #             print(f'Early stopping after {epoch + 1} epochs.')\n",
    "    #             break"
   ]
  },
  {
   "cell_type": "code",
   "execution_count": 61,
   "metadata": {},
   "outputs": [],
   "source": [
    "autoencoder.eval()\n",
    "reconstructed, embeddings = autoencoder(train_dataset[k].x, train_dataset[k].edge_index)\n"
   ]
  },
  {
   "cell_type": "code",
   "execution_count": 62,
   "metadata": {},
   "outputs": [
    {
     "data": {
      "text/plain": [
       "tensor([[ 5., 21.],\n",
       "        [ 5., 22.],\n",
       "        [ 6., 17.],\n",
       "        [ 6., 18.],\n",
       "        [ 6., 19.],\n",
       "        [ 6., 20.],\n",
       "        [ 7.,  9.],\n",
       "        [ 7., 13.],\n",
       "        [ 7., 14.],\n",
       "        [ 7., 15.],\n",
       "        [ 7., 16.],\n",
       "        [ 8., 10.],\n",
       "        [ 8., 11.],\n",
       "        [ 8., 12.],\n",
       "        [ 8., 17.],\n",
       "        [ 9., 12.],\n",
       "        [10., 12.],\n",
       "        [11., 12.],\n",
       "        [12., 13.],\n",
       "        [13., 14.],\n",
       "        [14., 15.],\n",
       "        [15., 16.],\n",
       "        [16., 17.],\n",
       "        [17., 18.],\n",
       "        [18., 17.],\n",
       "        [19., 15.],\n",
       "        [19., 16.],\n",
       "        [20., 14.],\n",
       "        [21., 12.],\n",
       "        [21., 13.],\n",
       "        [22., 10.],\n",
       "        [22., 11.],\n",
       "        [23.,  6.],\n",
       "        [23.,  7.],\n",
       "        [23.,  8.],\n",
       "        [23.,  9.],\n",
       "        [24.,  5.]])"
      ]
     },
     "execution_count": 62,
     "metadata": {},
     "output_type": "execute_result"
    }
   ],
   "source": [
    "train_dataset[k].x"
   ]
  },
  {
   "cell_type": "code",
   "execution_count": 63,
   "metadata": {},
   "outputs": [
    {
     "data": {
      "text/plain": [
       "tensor([[-0.6865,  0.6751],\n",
       "        [-0.8678,  0.5392],\n",
       "        [-0.5240,  0.4425],\n",
       "        [-0.6680,  0.3478],\n",
       "        [-0.8796,  0.1846],\n",
       "        [-0.8952,  0.1961],\n",
       "        [-0.2336,  0.0271],\n",
       "        [-0.3614,  0.2100],\n",
       "        [-0.4681,  0.1564],\n",
       "        [-0.6038,  0.0774],\n",
       "        [-0.6397,  0.0651],\n",
       "        [-0.2761, -0.0441],\n",
       "        [-0.3439, -0.0480],\n",
       "        [-0.3699, -0.0546],\n",
       "        [-0.7692, -0.0840],\n",
       "        [-0.4101, -0.2461],\n",
       "        [-0.1415, -0.0447],\n",
       "        [-0.2049, -0.1634],\n",
       "        [-0.2351, -0.1678],\n",
       "        [-0.1731, -0.0930],\n",
       "        [-0.1967, -0.1105],\n",
       "        [-0.1901, -0.1021],\n",
       "        [-0.1889, -0.0983],\n",
       "        [-0.1941, -0.1013],\n",
       "        [-0.1304, -0.1922],\n",
       "        [-0.0086, -0.2947],\n",
       "        [-0.0496, -0.2736],\n",
       "        [ 0.0611, -0.3958],\n",
       "        [ 0.1567, -0.5312],\n",
       "        [ 0.2486, -0.3679],\n",
       "        [ 0.2553, -0.6724],\n",
       "        [ 0.3272, -0.5282],\n",
       "        [ 0.4179, -0.9049],\n",
       "        [ 0.4863, -0.7563],\n",
       "        [ 0.7109, -0.4275],\n",
       "        [ 0.5441, -0.5127],\n",
       "        [ 0.5850, -0.8974]], grad_fn=<AddBackward0>)"
      ]
     },
     "execution_count": 63,
     "metadata": {},
     "output_type": "execute_result"
    }
   ],
   "source": [
    "reconstructed"
   ]
  },
  {
   "cell_type": "code",
   "execution_count": 64,
   "metadata": {},
   "outputs": [
    {
     "data": {
      "text/plain": [
       "tensor([[-5.0545],\n",
       "        [-4.4695],\n",
       "        [-3.5478],\n",
       "        [-3.2384],\n",
       "        [-3.3331],\n",
       "        [-2.8649],\n",
       "        [-0.8562],\n",
       "        [-2.0411],\n",
       "        [-2.0074],\n",
       "        [-2.1676],\n",
       "        [-1.9679],\n",
       "        [-0.7152],\n",
       "        [-0.9863],\n",
       "        [-1.0551],\n",
       "        [-2.1876],\n",
       "        [-0.8225],\n",
       "        [-0.9025],\n",
       "        [-0.3585],\n",
       "        [-0.3594],\n",
       "        [-0.4868],\n",
       "        [-0.5014],\n",
       "        [-0.5218],\n",
       "        [-0.5231],\n",
       "        [-0.5245],\n",
       "        [ 0.0666],\n",
       "        [ 1.2292],\n",
       "        [ 0.2538],\n",
       "        [ 1.5506],\n",
       "        [ 2.7616],\n",
       "        [ 1.3923],\n",
       "        [ 3.6759],\n",
       "        [ 2.0516],\n",
       "        [ 5.1826],\n",
       "        [ 3.8625],\n",
       "        [ 3.3631],\n",
       "        [ 1.9953],\n",
       "        [ 4.7768]], grad_fn=<AddBackward0>)"
      ]
     },
     "execution_count": 64,
     "metadata": {},
     "output_type": "execute_result"
    }
   ],
   "source": [
    "embeddings"
   ]
  },
  {
   "cell_type": "code",
   "execution_count": 65,
   "metadata": {},
   "outputs": [],
   "source": [
    "def create_embeddings(dataset):\n",
    "    # Extract learned embeddings from the autoencoder\n",
    "    autoencoder.eval()\n",
    "    embeddings_list = []\n",
    "\n",
    "    with torch.no_grad():\n",
    "        for data in dataset:\n",
    "            x = data.x\n",
    "            edge_index = data.edge_index\n",
    "            _, embeddings = autoencoder(x, edge_index)\n",
    "            embeddings_list.append(embeddings.detach().cpu())\n",
    "    return embeddings_list"
   ]
  },
  {
   "cell_type": "code",
   "execution_count": 66,
   "metadata": {},
   "outputs": [],
   "source": [
    "embeddings_train = create_embeddings(train_dataset)\n",
    "embeddings_test = create_embeddings(test_dataset)"
   ]
  },
  {
   "cell_type": "code",
   "execution_count": 67,
   "metadata": {},
   "outputs": [
    {
     "name": "stdout",
     "output_type": "stream",
     "text": [
      "60000 10000\n"
     ]
    }
   ],
   "source": [
    "print(len(embeddings_train), len(embeddings_test))"
   ]
  },
  {
   "cell_type": "code",
   "execution_count": 68,
   "metadata": {},
   "outputs": [],
   "source": [
    "embeddings_train_dataset = [Data(x = embeddings_train[i], y = train_dataset[i].y) for i in range(len(train_dataset))]\n",
    "embeddings_test_dataset = [Data(x = embeddings_test[i], y = test_dataset[i].y) for i in range(len(test_dataset))]"
   ]
  },
  {
   "cell_type": "code",
   "execution_count": 69,
   "metadata": {},
   "outputs": [
    {
     "name": "stdout",
     "output_type": "stream",
     "text": [
      "60000 10000\n"
     ]
    }
   ],
   "source": [
    "print(len(embeddings_train_dataset), len(embeddings_test_dataset))"
   ]
  },
  {
   "cell_type": "code",
   "execution_count": 70,
   "metadata": {},
   "outputs": [
    {
     "data": {
      "text/plain": [
       "Data(x=[37, 1], y=[1])"
      ]
     },
     "execution_count": 70,
     "metadata": {},
     "output_type": "execute_result"
    }
   ],
   "source": [
    "embeddings_train_dataset[k]"
   ]
  },
  {
   "cell_type": "code",
   "execution_count": 71,
   "metadata": {},
   "outputs": [],
   "source": [
    "embeddings_train_loader = DataLoader(embeddings_train_dataset, batch_size=32, shuffle=True)\n",
    "embeddings_test_loader = DataLoader(embeddings_test_dataset, batch_size=32, shuffle=False)"
   ]
  },
  {
   "cell_type": "markdown",
   "metadata": {},
   "source": [
    "Neural Network For Classification"
   ]
  },
  {
   "cell_type": "code",
   "execution_count": 72,
   "metadata": {},
   "outputs": [],
   "source": [
    "# Define a downstream graph classification model using the learned embeddings\n",
    "class GraphClassifier(nn.Module):\n",
    "    def __init__(self, input_dim, hidden_dim, output_dim):\n",
    "        super(GraphClassifier, self).__init__()\n",
    "        self.conv1 = nn.Linear(input_dim, hidden_dim[0])\n",
    "        self.conv2 = nn.Linear(hidden_dim[0], hidden_dim[1])\n",
    "        self.conv3 = nn.Linear(hidden_dim[1], hidden_dim[2])\n",
    "        self.conv4 = nn.Linear(hidden_dim[2], output_dim)\n",
    "\n",
    "    def forward(self, data):\n",
    "        x, batch = data.x, data.batch\n",
    "        x = F.relu(self.conv1(x))\n",
    "        # x = F.dropout(x, p=0.2)\n",
    "        x = F.relu(self.conv2(x))\n",
    "        x = F.relu(self.conv3(x))\n",
    "        x = F.relu(self.conv4(x))\n",
    "        # x = F.dropout(x, p=0.2)\n",
    "        x = global_mean_pool(x, batch)\n",
    "        # x = global_add_pool(x, batch)\n",
    "        return F.log_softmax(x, dim=1)"
   ]
  },
  {
   "cell_type": "code",
   "execution_count": 82,
   "metadata": {},
   "outputs": [],
   "source": [
    "# Instantiate the Graph Classifier model\n",
    "hidden_dim = [32, 16, 16]\n",
    "classifier = GraphClassifier(latent_dim, hidden_dim, num_classes)\n",
    "\n",
    "# Define the optimizer and Cross-Entropy Loss\n",
    "optimizer_classifier = torch.optim.Adam(classifier.parameters(), lr=0.01)\n",
    "classification_criterion = nn.CrossEntropyLoss()"
   ]
  },
  {
   "cell_type": "code",
   "execution_count": 83,
   "metadata": {},
   "outputs": [
    {
     "name": "stdout",
     "output_type": "stream",
     "text": [
      "Classifier - Epoch 1/15, Classification Loss: 2.2122366428375244\n",
      "Classifier - Epoch 2/15, Classification Loss: 2.142601728439331\n",
      "Classifier - Epoch 3/15, Classification Loss: 1.7573027610778809\n",
      "Classifier - Epoch 4/15, Classification Loss: 2.1105575561523438\n",
      "Classifier - Epoch 5/15, Classification Loss: 2.191000461578369\n",
      "Classifier - Epoch 6/15, Classification Loss: 2.1908788681030273\n",
      "Classifier - Epoch 7/15, Classification Loss: 2.1530251502990723\n",
      "Classifier - Epoch 8/15, Classification Loss: 2.163705825805664\n",
      "Classifier - Epoch 9/15, Classification Loss: 2.2136497497558594\n",
      "Classifier - Epoch 10/15, Classification Loss: 2.1768815517425537\n",
      "Classifier - Epoch 11/15, Classification Loss: 1.9594223499298096\n",
      "Classifier - Epoch 12/15, Classification Loss: 2.043494939804077\n",
      "Classifier - Epoch 13/15, Classification Loss: 2.2303268909454346\n",
      "Classifier - Epoch 14/15, Classification Loss: 1.7972735166549683\n",
      "Classifier - Epoch 15/15, Classification Loss: 1.8278604745864868\n"
     ]
    }
   ],
   "source": [
    "# Training loop for the classifier\n",
    "num_epochs = 15\n",
    "for epoch in range(num_epochs):\n",
    "    classifier.train()\n",
    "    optimizer_classifier.zero_grad()\n",
    "    for data in embeddings_train_loader:\n",
    "        optimizer_classifier.zero_grad()\n",
    "        \n",
    "        # Forward pass using the learned embeddings\n",
    "        logits = classifier(data)\n",
    "        # Classification loss\n",
    "        classification_loss = classification_criterion(logits, data.y)\n",
    "\n",
    "        # Backward pass and optimization\n",
    "        classification_loss.backward()\n",
    "        optimizer_classifier.step()\n",
    "    print(f'Classifier - Epoch {epoch + 1}/{num_epochs}, Classification Loss: {classification_loss.item()}')"
   ]
  },
  {
   "cell_type": "code",
   "execution_count": 84,
   "metadata": {},
   "outputs": [
    {
     "name": "stdout",
     "output_type": "stream",
     "text": [
      "Test Accuracy: 31.89%\n"
     ]
    }
   ],
   "source": [
    "# Evaluation\n",
    "classifier.eval()\n",
    "correct = 0\n",
    "total = 0\n",
    "\n",
    "with torch.no_grad():\n",
    "    for data in embeddings_test_loader:\n",
    "        output = classifier(data)\n",
    "        _, predicted = torch.max(output, 1)\n",
    "        # print(predicted)\n",
    "        total += data.y.size(0)\n",
    "        correct += (predicted == data.y).sum().item()\n",
    "\n",
    "accuracy = correct / total\n",
    "print(f'Test Accuracy: {accuracy * 100:.2f}%')"
   ]
  }
 ],
 "metadata": {
  "kernelspec": {
   "display_name": "Python 3",
   "language": "python",
   "name": "python3"
  },
  "language_info": {
   "codemirror_mode": {
    "name": "ipython",
    "version": 3
   },
   "file_extension": ".py",
   "mimetype": "text/x-python",
   "name": "python",
   "nbconvert_exporter": "python",
   "pygments_lexer": "ipython3",
   "version": "3.11.2"
  }
 },
 "nbformat": 4,
 "nbformat_minor": 2
}
