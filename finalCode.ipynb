{
 "cells": [
  {
   "cell_type": "code",
   "execution_count": 1,
   "metadata": {},
   "outputs": [
    {
     "name": "stdout",
     "output_type": "stream",
     "text": [
      "WARNING:tensorflow:From c:\\Users\\Tanishq Arora\\AppData\\Local\\Programs\\Python\\Python311\\Lib\\site-packages\\keras\\src\\losses.py:2976: The name tf.losses.sparse_softmax_cross_entropy is deprecated. Please use tf.compat.v1.losses.sparse_softmax_cross_entropy instead.\n",
      "\n"
     ]
    }
   ],
   "source": [
    "import numpy as np\n",
    "import tensorflow as tf\n",
    "import cv2\n",
    "import matplotlib.pyplot as plt\n",
    "import networkx as nx\n",
    "from skimage.morphology import skeletonize\n",
    "from sklearn.model_selection import train_test_split\n",
    "from sklearn.metrics import classification_report"
   ]
  },
  {
   "cell_type": "code",
   "execution_count": 59,
   "metadata": {},
   "outputs": [],
   "source": [
    "# Load  dataset\n",
    "(x_train, y_train), (x_test, y_test) = tf.keras.datasets.fashion_mnist.load_data()"
   ]
  },
  {
   "cell_type": "code",
   "execution_count": 60,
   "metadata": {},
   "outputs": [],
   "source": [
    "images_train = x_train\n",
    "images_test = x_test"
   ]
  },
  {
   "cell_type": "code",
   "execution_count": 61,
   "metadata": {},
   "outputs": [],
   "source": [
    "k = 0"
   ]
  },
  {
   "cell_type": "markdown",
   "metadata": {},
   "source": [
    "# Preprocessing Images"
   ]
  },
  {
   "cell_type": "code",
   "execution_count": 69,
   "metadata": {},
   "outputs": [
    {
     "data": {
      "image/png": "[encoded data removed]",
      "text/plain": [
       "<Figure size 200x200 with 1 Axes>"
      ]
     },
     "metadata": {},
     "output_type": "display_data"
    }
   ],
   "source": [
    "plt.figure(figsize=(2, 2))\n",
    "plt.imshow(images_train[k], interpolation='nearest', cmap='gray')\n",
    "plt.show()"
   ]
  },
  {
   "cell_type": "code",
   "execution_count": 89,
   "metadata": {},
   "outputs": [],
   "source": [
    "def convert_edgedetection(images):\n",
    "    edge_detection = []\n",
    "    for image in images:\n",
    "        if image.shape[-1] == 3:\n",
    "            image = cv2.cvtColor(image, cv2.COLOR_BGR2GRAY) \n",
    "        \n",
    "        # Apply Gaussian blur to reduce noise and smoothen edges \n",
    "        blurred = cv2.GaussianBlur(src=image, ksize=(3, 3), sigmaX=1, sigmaY=1) \n",
    "      \n",
    "        # Perform Canny edge detection \n",
    "        edges = cv2.Canny(blurred, 225, 250)\n",
    "        edge_detection.append(edges)\n",
    "    return edge_detection"
   ]
  },
  {
   "cell_type": "code",
   "execution_count": 90,
   "metadata": {},
   "outputs": [],
   "source": [
    "edge_detection_train = convert_edgedetection(images_train)\n",
    "edge_detection_test = convert_edgedetection(images_test)"
   ]
  },
  {
   "cell_type": "code",
   "execution_count": 91,
   "metadata": {},
   "outputs": [
    {
     "data": {
      "image/png": "[encoded data removed]",
      "text/plain": [
       "<Figure size 200x200 with 1 Axes>"
      ]
     },
     "metadata": {},
     "output_type": "display_data"
    }
   ],
   "source": [
    "plt.figure(figsize=(2, 2))\n",
    "plt.imshow(edge_detection_train[k], interpolation='nearest', cmap='gray')\n",
    "plt.show()"
   ]
  },
  {
   "cell_type": "code",
   "execution_count": 93,
   "metadata": {},
   "outputs": [],
   "source": [
    "images_train = edge_detection_train\n",
    "images_test = edge_detection_test"
   ]
  },
  {
   "cell_type": "code",
   "execution_count": 94,
   "metadata": {},
   "outputs": [],
   "source": [
    "def convert_binary(images):\n",
    "    binary_images = []\n",
    "    for image in images:\n",
    "        _, thresholded = cv2.threshold(image, 127, 255, cv2.THRESH_BINARY)\n",
    "        binary_images.append(thresholded)\n",
    "    return binary_images"
   ]
  },
  {
   "cell_type": "code",
   "execution_count": 95,
   "metadata": {},
   "outputs": [],
   "source": [
    "binary_images_train = convert_binary(images_train)\n",
    "binary_images_test = convert_binary(images_test)"
   ]
  },
  {
   "cell_type": "code",
   "execution_count": 96,
   "metadata": {},
   "outputs": [
    {
     "data": {
      "image/png": "[encoded data removed]",
      "text/plain": [
       "<Figure size 200x200 with 1 Axes>"
      ]
     },
     "metadata": {},
     "output_type": "display_data"
    }
   ],
   "source": [
    "plt.figure(figsize=(2, 2))\n",
    "plt.imshow(binary_images_train[k], cmap='gray')\n",
    "plt.show()"
   ]
  },
  {
   "cell_type": "code",
   "execution_count": 97,
   "metadata": {},
   "outputs": [],
   "source": [
    "def convert_skeletonize(binary_images):\n",
    "    skeletonized_images = []\n",
    "    for binary_image in binary_images:\n",
    "        skeletonized_image = skeletonize(binary_image)\n",
    "        skeletonized_images.append(skeletonized_image.astype(np.uint8))\n",
    "    return skeletonized_images"
   ]
  },
  {
   "cell_type": "code",
   "execution_count": 98,
   "metadata": {},
   "outputs": [],
   "source": [
    "skeletonized_images_train = convert_skeletonize(binary_images_train)\n",
    "skeletonized_images_test = convert_skeletonize(binary_images_test)"
   ]
  },
  {
   "cell_type": "code",
   "execution_count": 99,
   "metadata": {},
   "outputs": [
    {
     "data": {
      "image/png": "[encoded data removed]",
      "text/plain": [
       "<Figure size 200x200 with 1 Axes>"
      ]
     },
     "metadata": {},
     "output_type": "display_data"
    }
   ],
   "source": [
    "plt.figure(figsize=(2, 2))\n",
    "plt.imshow(skeletonized_images_train[k], cmap='gray')\n",
    "plt.show()"
   ]
  },
  {
   "cell_type": "markdown",
   "metadata": {},
   "source": [
    "# Creating Graph"
   ]
  },
  {
   "cell_type": "code",
   "execution_count": 100,
   "metadata": {},
   "outputs": [],
   "source": [
    "def create_nodes(skeletonized_images):\n",
    "    nodes_list = []\n",
    "    node_features_list = []\n",
    "    for skeletonized_image in skeletonized_images:\n",
    "        nodes = []\n",
    "        features = []\n",
    "        for i in range(skeletonized_image.shape[0]):\n",
    "            for j in range(skeletonized_image.shape[1]):\n",
    "                if skeletonized_image[i, j] == 1:\n",
    "                    nodes.append((i, j))\n",
    "                    features.append([i, j])\n",
    "        nodes_list.append(nodes)\n",
    "        node_features_list.append(features)\n",
    "    return nodes_list, node_features_list"
   ]
  },
  {
   "cell_type": "code",
   "execution_count": 101,
   "metadata": {},
   "outputs": [],
   "source": [
    "nodes_list_train, node_features_list_train = create_nodes(skeletonized_images_train)\n",
    "nodes_list_test, node_features_list_test = create_nodes(skeletonized_images_test)"
   ]
  },
  {
   "cell_type": "code",
   "execution_count": 102,
   "metadata": {},
   "outputs": [
    {
     "data": {
      "text/plain": [
       "[(4, 15),\n",
       " (4, 16),\n",
       " (4, 17),\n",
       " (5, 14),\n",
       " (5, 18),\n",
       " (5, 19),\n",
       " (5, 20),\n",
       " (6, 13),\n",
       " (6, 21),\n",
       " (6, 23),\n",
       " (6, 24),\n",
       " (6, 25),\n",
       " (7, 13),\n",
       " (7, 22),\n",
       " (7, 26),\n",
       " (8, 13),\n",
       " (8, 26),\n",
       " (9, 13),\n",
       " (9, 26),\n",
       " (10, 13),\n",
       " (10, 26),\n",
       " (11, 12),\n",
       " (11, 26),\n",
       " (12, 12),\n",
       " (12, 26),\n",
       " (13, 12),\n",
       " (13, 26),\n",
       " (14, 11),\n",
       " (14, 26),\n",
       " (15, 9),\n",
       " (15, 10),\n",
       " (15, 26),\n",
       " (16, 4),\n",
       " (16, 5),\n",
       " (16, 6),\n",
       " (16, 7),\n",
       " (16, 8),\n",
       " (16, 26),\n",
       " (17, 2),\n",
       " (17, 3),\n",
       " (17, 14),\n",
       " (17, 26),\n",
       " (18, 1),\n",
       " (18, 15),\n",
       " (18, 16),\n",
       " (18, 26),\n",
       " (19, 1),\n",
       " (19, 13),\n",
       " (19, 26),\n",
       " (20, 1),\n",
       " (20, 14),\n",
       " (20, 15),\n",
       " (20, 16),\n",
       " (20, 26),\n",
       " (21, 1),\n",
       " (21, 26),\n",
       " (22, 2),\n",
       " (23, 3),\n",
       " (23, 26),\n",
       " (23, 27),\n",
       " (24, 4),\n",
       " (24, 5),\n",
       " (24, 15),\n",
       " (24, 16),\n",
       " (24, 17),\n",
       " (24, 18),\n",
       " (24, 19),\n",
       " (24, 20),\n",
       " (24, 21),\n",
       " (24, 22),\n",
       " (24, 23),\n",
       " (24, 24),\n",
       " (24, 25),\n",
       " (25, 6),\n",
       " (25, 7),\n",
       " (25, 8),\n",
       " (25, 9),\n",
       " (25, 10),\n",
       " (25, 11),\n",
       " (25, 12),\n",
       " (25, 13),\n",
       " (25, 14)]"
      ]
     },
     "execution_count": 102,
     "metadata": {},
     "output_type": "execute_result"
    }
   ],
   "source": [
    "nodes_list_train[k]"
   ]
  },
  {
   "cell_type": "code",
   "execution_count": 103,
   "metadata": {},
   "outputs": [
    {
     "data": {
      "text/plain": [
       "[[4, 15],\n",
       " [4, 16],\n",
       " [4, 17],\n",
       " [5, 14],\n",
       " [5, 18],\n",
       " [5, 19],\n",
       " [5, 20],\n",
       " [6, 13],\n",
       " [6, 21],\n",
       " [6, 23],\n",
       " [6, 24],\n",
       " [6, 25],\n",
       " [7, 13],\n",
       " [7, 22],\n",
       " [7, 26],\n",
       " [8, 13],\n",
       " [8, 26],\n",
       " [9, 13],\n",
       " [9, 26],\n",
       " [10, 13],\n",
       " [10, 26],\n",
       " [11, 12],\n",
       " [11, 26],\n",
       " [12, 12],\n",
       " [12, 26],\n",
       " [13, 12],\n",
       " [13, 26],\n",
       " [14, 11],\n",
       " [14, 26],\n",
       " [15, 9],\n",
       " [15, 10],\n",
       " [15, 26],\n",
       " [16, 4],\n",
       " [16, 5],\n",
       " [16, 6],\n",
       " [16, 7],\n",
       " [16, 8],\n",
       " [16, 26],\n",
       " [17, 2],\n",
       " [17, 3],\n",
       " [17, 14],\n",
       " [17, 26],\n",
       " [18, 1],\n",
       " [18, 15],\n",
       " [18, 16],\n",
       " [18, 26],\n",
       " [19, 1],\n",
       " [19, 13],\n",
       " [19, 26],\n",
       " [20, 1],\n",
       " [20, 14],\n",
       " [20, 15],\n",
       " [20, 16],\n",
       " [20, 26],\n",
       " [21, 1],\n",
       " [21, 26],\n",
       " [22, 2],\n",
       " [23, 3],\n",
       " [23, 26],\n",
       " [23, 27],\n",
       " [24, 4],\n",
       " [24, 5],\n",
       " [24, 15],\n",
       " [24, 16],\n",
       " [24, 17],\n",
       " [24, 18],\n",
       " [24, 19],\n",
       " [24, 20],\n",
       " [24, 21],\n",
       " [24, 22],\n",
       " [24, 23],\n",
       " [24, 24],\n",
       " [24, 25],\n",
       " [25, 6],\n",
       " [25, 7],\n",
       " [25, 8],\n",
       " [25, 9],\n",
       " [25, 10],\n",
       " [25, 11],\n",
       " [25, 12],\n",
       " [25, 13],\n",
       " [25, 14]]"
      ]
     },
     "execution_count": 103,
     "metadata": {},
     "output_type": "execute_result"
    }
   ],
   "source": [
    "node_features_list_train[k]"
   ]
  },
  {
   "cell_type": "code",
   "execution_count": 104,
   "metadata": {},
   "outputs": [],
   "source": [
    "def create_graph(nodes_list, skeletonized_images):\n",
    "    graphs = []\n",
    "    sparse_graphs = []\n",
    "    for nodes, image in zip(nodes_list, skeletonized_images):\n",
    "        # Create a graph\n",
    "        G = nx.Graph()\n",
    "\n",
    "        # Add nodes for white pixels\n",
    "        G.add_nodes_from(nodes)\n",
    "        for i, j in nodes:\n",
    "            for x in range(-1, 2):\n",
    "                for y in range(-1, 2):\n",
    "                    if 0 <= i + x < image.shape[0] and 0 <= j + y < image.shape[1] and (x != 0 or y != 0) and image[i + x, j + y] == 1:\n",
    "                        G.add_edge((i, j), (i + x, j + y))\n",
    "        graphs.append(G)\n",
    "        sparse_graphs.append(nx.adjacency_matrix(G))\n",
    "    return graphs, sparse_graphs"
   ]
  },
  {
   "cell_type": "code",
   "execution_count": 105,
   "metadata": {},
   "outputs": [],
   "source": [
    "graphs_train, sparse_graphs_train = create_graph(nodes_list_train, skeletonized_images_train)\n",
    "graphs_test, sparse_graphs_test = create_graph(nodes_list_test, skeletonized_images_test)"
   ]
  },
  {
   "cell_type": "code",
   "execution_count": 106,
   "metadata": {},
   "outputs": [],
   "source": [
    "nodes_dict_train = [{value: index for index, value in enumerate(list)} for list in nodes_list_train]\n",
    "nodes_dict_test = [{value: index for index, value in enumerate(list)} for list in nodes_list_test]"
   ]
  },
  {
   "cell_type": "code",
   "execution_count": 107,
   "metadata": {},
   "outputs": [
    {
     "data": {
      "text/plain": [
       "{(4, 15): 0,\n",
       " (4, 16): 1,\n",
       " (4, 17): 2,\n",
       " (5, 14): 3,\n",
       " (5, 18): 4,\n",
       " (5, 19): 5,\n",
       " (5, 20): 6,\n",
       " (6, 13): 7,\n",
       " (6, 21): 8,\n",
       " (6, 23): 9,\n",
       " (6, 24): 10,\n",
       " (6, 25): 11,\n",
       " (7, 13): 12,\n",
       " (7, 22): 13,\n",
       " (7, 26): 14,\n",
       " (8, 13): 15,\n",
       " (8, 26): 16,\n",
       " (9, 13): 17,\n",
       " (9, 26): 18,\n",
       " (10, 13): 19,\n",
       " (10, 26): 20,\n",
       " (11, 12): 21,\n",
       " (11, 26): 22,\n",
       " (12, 12): 23,\n",
       " (12, 26): 24,\n",
       " (13, 12): 25,\n",
       " (13, 26): 26,\n",
       " (14, 11): 27,\n",
       " (14, 26): 28,\n",
       " (15, 9): 29,\n",
       " (15, 10): 30,\n",
       " (15, 26): 31,\n",
       " (16, 4): 32,\n",
       " (16, 5): 33,\n",
       " (16, 6): 34,\n",
       " (16, 7): 35,\n",
       " (16, 8): 36,\n",
       " (16, 26): 37,\n",
       " (17, 2): 38,\n",
       " (17, 3): 39,\n",
       " (17, 14): 40,\n",
       " (17, 26): 41,\n",
       " (18, 1): 42,\n",
       " (18, 15): 43,\n",
       " (18, 16): 44,\n",
       " (18, 26): 45,\n",
       " (19, 1): 46,\n",
       " (19, 13): 47,\n",
       " (19, 26): 48,\n",
       " (20, 1): 49,\n",
       " (20, 14): 50,\n",
       " (20, 15): 51,\n",
       " (20, 16): 52,\n",
       " (20, 26): 53,\n",
       " (21, 1): 54,\n",
       " (21, 26): 55,\n",
       " (22, 2): 56,\n",
       " (23, 3): 57,\n",
       " (23, 26): 58,\n",
       " (23, 27): 59,\n",
       " (24, 4): 60,\n",
       " (24, 5): 61,\n",
       " (24, 15): 62,\n",
       " (24, 16): 63,\n",
       " (24, 17): 64,\n",
       " (24, 18): 65,\n",
       " (24, 19): 66,\n",
       " (24, 20): 67,\n",
       " (24, 21): 68,\n",
       " (24, 22): 69,\n",
       " (24, 23): 70,\n",
       " (24, 24): 71,\n",
       " (24, 25): 72,\n",
       " (25, 6): 73,\n",
       " (25, 7): 74,\n",
       " (25, 8): 75,\n",
       " (25, 9): 76,\n",
       " (25, 10): 77,\n",
       " (25, 11): 78,\n",
       " (25, 12): 79,\n",
       " (25, 13): 80,\n",
       " (25, 14): 81}"
      ]
     },
     "execution_count": 107,
     "metadata": {},
     "output_type": "execute_result"
    }
   ],
   "source": [
    "nodes_dict_train[k]"
   ]
  },
  {
   "cell_type": "code",
   "execution_count": 108,
   "metadata": {},
   "outputs": [
    {
     "data": {
      "image/png": "[encoded data removed]",
      "text/plain": [
       "<Figure size 640x480 with 1 Axes>"
      ]
     },
     "metadata": {},
     "output_type": "display_data"
    }
   ],
   "source": [
    "pos = {(i, j): (j, -i) for i, j in graphs_train[k].nodes()}\n",
    "nx.draw(graphs_train[k], pos, with_labels=True, font_size=7)\n",
    "plt.show()"
   ]
  },
  {
   "cell_type": "code",
   "execution_count": 109,
   "metadata": {},
   "outputs": [
    {
     "data": {
      "text/plain": [
       "<82x82 sparse array of type '<class 'numpy.intc'>'\n",
       "\twith 158 stored elements in Compressed Sparse Row format>"
      ]
     },
     "execution_count": 109,
     "metadata": {},
     "output_type": "execute_result"
    }
   ],
   "source": [
    "sparse_graphs_train[k]"
   ]
  },
  {
   "cell_type": "code",
   "execution_count": 110,
   "metadata": {},
   "outputs": [
    {
     "data": {
      "text/plain": [
       "<matplotlib.image.AxesImage at 0x17a096abc90>"
      ]
     },
     "execution_count": 110,
     "metadata": {},
     "output_type": "execute_result"
    },
    {
     "data": {
      "image/png": "[encoded data removed]",
      "text/plain": [
       "<Figure size 640x480 with 1 Axes>"
      ]
     },
     "metadata": {},
     "output_type": "display_data"
    }
   ],
   "source": [
    "plt.imshow(sparse_graphs_train[k].todense(), cmap='viridis')"
   ]
  },
  {
   "cell_type": "code",
   "execution_count": 111,
   "metadata": {},
   "outputs": [],
   "source": [
    "# # Old Method of Creating Edge Index\n",
    "# def create_edge_index(sparse_graph):\n",
    "#     edges = []\n",
    "#     edge_from = []\n",
    "#     edge_to = []\n",
    "#     num_nodes = sparse_graph.shape[0]\n",
    "#     for i in range(num_nodes):\n",
    "#         for j in range(i + 1, num_nodes):\n",
    "#             if sparse_graph[i, j] == 1:\n",
    "#                 edge_from.append(i)\n",
    "#                 edge_to.append(j)\n",
    "#                 # edge_from.append(j)\n",
    "#                 # edge_to.append(i)\n",
    "#     edges.append(edge_from)\n",
    "#     edges.append(edge_to)\n",
    "#     return np.array(edges)"
   ]
  },
  {
   "cell_type": "code",
   "execution_count": 112,
   "metadata": {},
   "outputs": [],
   "source": [
    "def create_edge_index(graph, nodes_dict):\n",
    "    edges = []\n",
    "    edge_from = []\n",
    "    edge_to = []\n",
    "    for (i, j) in graph.edges():\n",
    "        edge_from.append(nodes_dict[i])\n",
    "        edge_to.append(nodes_dict[j])\n",
    "        # edge_from.append(nodes_dict[j])\n",
    "        # edge_to.append(nodes_dict[i])\n",
    "    edges.append(edge_from)\n",
    "    edges.append(edge_to)\n",
    "    return np.array(edges)\n"
   ]
  },
  {
   "cell_type": "code",
   "execution_count": 113,
   "metadata": {},
   "outputs": [
    {
     "data": {
      "text/plain": [
       "EdgeView([((4, 15), (4, 16)), ((4, 15), (5, 14)), ((4, 16), (4, 17)), ((4, 17), (5, 18)), ((5, 14), (6, 13)), ((5, 18), (5, 19)), ((5, 19), (5, 20)), ((5, 20), (6, 21)), ((6, 13), (7, 13)), ((6, 21), (7, 22)), ((6, 23), (6, 24)), ((6, 23), (7, 22)), ((6, 24), (6, 25)), ((6, 25), (7, 26)), ((7, 13), (8, 13)), ((7, 26), (8, 26)), ((8, 13), (9, 13)), ((8, 26), (9, 26)), ((9, 13), (10, 13)), ((9, 26), (10, 26)), ((10, 13), (11, 12)), ((10, 26), (11, 26)), ((11, 12), (12, 12)), ((11, 26), (12, 26)), ((12, 12), (13, 12)), ((12, 26), (13, 26)), ((13, 12), (14, 11)), ((13, 26), (14, 26)), ((14, 11), (15, 10)), ((14, 26), (15, 26)), ((15, 9), (15, 10)), ((15, 9), (16, 8)), ((15, 26), (16, 26)), ((16, 4), (16, 5)), ((16, 4), (17, 3)), ((16, 5), (16, 6)), ((16, 6), (16, 7)), ((16, 7), (16, 8)), ((16, 26), (17, 26)), ((17, 2), (17, 3)), ((17, 2), (18, 1)), ((17, 14), (18, 15)), ((17, 26), (18, 26)), ((18, 1), (19, 1)), ((18, 15), (18, 16)), ((18, 26), (19, 26)), ((19, 1), (20, 1)), ((19, 13), (20, 14)), ((19, 26), (20, 26)), ((20, 1), (21, 1)), ((20, 14), (20, 15)), ((20, 15), (20, 16)), ((20, 26), (21, 26)), ((21, 1), (22, 2)), ((22, 2), (23, 3)), ((23, 3), (24, 4)), ((23, 26), (23, 27)), ((23, 26), (24, 25)), ((24, 4), (24, 5)), ((24, 5), (25, 6)), ((24, 15), (24, 16)), ((24, 15), (25, 14)), ((24, 16), (24, 17)), ((24, 17), (24, 18)), ((24, 18), (24, 19)), ((24, 19), (24, 20)), ((24, 20), (24, 21)), ((24, 21), (24, 22)), ((24, 22), (24, 23)), ((24, 23), (24, 24)), ((24, 24), (24, 25)), ((25, 6), (25, 7)), ((25, 7), (25, 8)), ((25, 8), (25, 9)), ((25, 9), (25, 10)), ((25, 10), (25, 11)), ((25, 11), (25, 12)), ((25, 12), (25, 13)), ((25, 13), (25, 14))])"
      ]
     },
     "execution_count": 113,
     "metadata": {},
     "output_type": "execute_result"
    }
   ],
   "source": [
    "graphs_train[k].edges()"
   ]
  },
  {
   "cell_type": "code",
   "execution_count": 114,
   "metadata": {},
   "outputs": [],
   "source": [
    "edges_index_list_train = [create_edge_index(graphs_train[i], nodes_dict_train[i]) for i in range(len(images_train))]\n",
    "edges_index_list_test = [create_edge_index(graphs_test[i], nodes_dict_test[i]) for i in range(len(images_test))]"
   ]
  },
  {
   "cell_type": "code",
   "execution_count": 115,
   "metadata": {},
   "outputs": [],
   "source": [
    "# edges_index_list_train = [create_edge_index(sparse_graphs_train[i]) for i in range(len(images_train))]\n",
    "# edges_index_list_test = [create_edge_index(sparse_graphs_test[i]) for i in range(len(images_test))]"
   ]
  },
  {
   "cell_type": "code",
   "execution_count": 116,
   "metadata": {},
   "outputs": [
    {
     "data": {
      "text/plain": [
       "array([[ 0,  0,  1,  2,  3,  4,  5,  6,  7,  8,  9,  9, 10, 11, 12, 14,\n",
       "        15, 16, 17, 18, 19, 20, 21, 22, 23, 24, 25, 26, 27, 28, 29, 29,\n",
       "        31, 32, 32, 33, 34, 35, 37, 38, 38, 40, 41, 42, 43, 45, 46, 47,\n",
       "        48, 49, 50, 51, 53, 54, 56, 57, 58, 58, 60, 61, 62, 62, 63, 64,\n",
       "        65, 66, 67, 68, 69, 70, 71, 73, 74, 75, 76, 77, 78, 79, 80],\n",
       "       [ 1,  3,  2,  4,  7,  5,  6,  8, 12, 13, 10, 13, 11, 14, 15, 16,\n",
       "        17, 18, 19, 20, 21, 22, 23, 24, 25, 26, 27, 28, 30, 31, 30, 36,\n",
       "        37, 33, 39, 34, 35, 36, 41, 39, 42, 43, 45, 46, 44, 48, 49, 50,\n",
       "        53, 54, 51, 52, 55, 56, 57, 60, 59, 72, 61, 73, 63, 81, 64, 65,\n",
       "        66, 67, 68, 69, 70, 71, 72, 74, 75, 76, 77, 78, 79, 80, 81]])"
      ]
     },
     "execution_count": 116,
     "metadata": {},
     "output_type": "execute_result"
    }
   ],
   "source": [
    "edges_index_list_train[k]"
   ]
  },
  {
   "cell_type": "code",
   "execution_count": 117,
   "metadata": {},
   "outputs": [],
   "source": [
    "import torch\n",
    "import torch.nn as nn\n",
    "import torch.nn.functional as F\n",
    "from torch_geometric.nn import GraphConv, global_mean_pool, global_add_pool\n",
    "from torch_geometric.data import Data, Dataset\n",
    "from torch_geometric.loader import DataLoader\n"
   ]
  },
  {
   "cell_type": "markdown",
   "metadata": {},
   "source": [
    "# Making Dataset"
   ]
  },
  {
   "cell_type": "code",
   "execution_count": 118,
   "metadata": {},
   "outputs": [],
   "source": [
    "class CustomGraphDataset(Dataset):\n",
    "    def __init__(self, data_list):\n",
    "        super(CustomGraphDataset, self).__init__()\n",
    "        self.data_list = data_list\n",
    "\n",
    "    def __len__(self):\n",
    "        return len(self.data_list)\n",
    "\n",
    "    def __getitem__(self, idx):\n",
    "        return self.data_list[idx]\n",
    "\n",
    "    # Additional abstract methods to implement\n",
    "    def get(self, idx):\n",
    "        # Implement logic to retrieve data at the given index\n",
    "        return self.data_list[idx]\n",
    "\n",
    "    def len(self):\n",
    "        # Implement logic to return the length of the dataset\n",
    "        return len(self.data_list)"
   ]
  },
  {
   "cell_type": "code",
   "execution_count": 119,
   "metadata": {},
   "outputs": [],
   "source": [
    "def create_custom_data_instance(node_features, edges, label):\n",
    "    x = torch.tensor(node_features, dtype=torch.float)\n",
    "    edge_index = torch.tensor(edges, dtype=torch.long)\n",
    "    y = torch.tensor([label], dtype=torch.long)\n",
    "    return Data(x=x, edge_index=edge_index, y=y)"
   ]
  },
  {
   "cell_type": "code",
   "execution_count": 120,
   "metadata": {},
   "outputs": [],
   "source": [
    "data_list_train = [create_custom_data_instance(node_features_list_train[i], edges_index_list_train[i], y_train[i]) for i in range(len(images_train))]\n",
    "custom_dataset_train = CustomGraphDataset(data_list_train)\n",
    "\n",
    "data_list_test = [create_custom_data_instance(node_features_list_test[i], edges_index_list_test[i], y_test[i]) for i in range(len(images_test))]\n",
    "custom_dataset_test = CustomGraphDataset(data_list_test)"
   ]
  },
  {
   "cell_type": "code",
   "execution_count": 121,
   "metadata": {},
   "outputs": [],
   "source": [
    "num_features = custom_dataset_train.num_features\n",
    "num_classes = custom_dataset_train.num_classes"
   ]
  },
  {
   "cell_type": "code",
   "execution_count": 122,
   "metadata": {},
   "outputs": [],
   "source": [
    "# dataset = TUDataset(root='data/TUDataset', name='ENZYMES', transform=NormalizeFeatures())\n",
    "# Split the dataset into training and testing sets\n",
    "# train_dataset, test_dataset = train_test_split(dataset, test_size=0.2, random_state=42)\n",
    "\n",
    "train_dataset, test_dataset = custom_dataset_train, custom_dataset_test\n"
   ]
  },
  {
   "cell_type": "code",
   "execution_count": 123,
   "metadata": {},
   "outputs": [],
   "source": [
    "# Use PyTorch DataLoader to handle batching\n",
    "train_loader = DataLoader(train_dataset, batch_size=32, shuffle=True)\n",
    "test_loader = DataLoader(test_dataset, batch_size=32, shuffle=False)"
   ]
  },
  {
   "cell_type": "code",
   "execution_count": 124,
   "metadata": {},
   "outputs": [
    {
     "data": {
      "text/plain": [
       "CustomGraphDataset(60000)"
      ]
     },
     "execution_count": 124,
     "metadata": {},
     "output_type": "execute_result"
    }
   ],
   "source": [
    "train_dataset"
   ]
  },
  {
   "cell_type": "code",
   "execution_count": 125,
   "metadata": {},
   "outputs": [
    {
     "data": {
      "text/plain": [
       "CustomGraphDataset(10000)"
      ]
     },
     "execution_count": 125,
     "metadata": {},
     "output_type": "execute_result"
    }
   ],
   "source": [
    "test_dataset"
   ]
  },
  {
   "cell_type": "code",
   "execution_count": 126,
   "metadata": {},
   "outputs": [
    {
     "data": {
      "text/plain": [
       "Data(x=[82, 2], edge_index=[2, 79], y=[1])"
      ]
     },
     "execution_count": 126,
     "metadata": {},
     "output_type": "execute_result"
    }
   ],
   "source": [
    "train_dataset[k]"
   ]
  },
  {
   "cell_type": "code",
   "execution_count": 127,
   "metadata": {},
   "outputs": [
    {
     "name": "stdout",
     "output_type": "stream",
     "text": [
      "Number of Features: 2, Number of Classes: 10\n"
     ]
    }
   ],
   "source": [
    "print(f'Number of Features: {num_features}, Number of Classes: {num_classes}')"
   ]
  },
  {
   "cell_type": "markdown",
   "metadata": {},
   "source": [
    "Graph Neural Network for Graph Classification"
   ]
  },
  {
   "cell_type": "code",
   "execution_count": 128,
   "metadata": {},
   "outputs": [],
   "source": [
    "class GCNClassifier(nn.Module):\n",
    "    def __init__(self, input_dim, hidden_dim, output_dim):\n",
    "        super(GCNClassifier, self).__init__()\n",
    "        self.conv1 = GraphConv(input_dim, hidden_dim[0])\n",
    "        self.conv2 = GraphConv(hidden_dim[0], hidden_dim[1])\n",
    "        self.conv3 = GraphConv(hidden_dim[1], hidden_dim[2])\n",
    "        self.conv4 = GraphConv(hidden_dim[2], output_dim)\n",
    "\n",
    "    def forward(self, data):\n",
    "        x, edge_index, batch = data.x, data.edge_index, data.batch\n",
    "        x = F.relu(self.conv1(x, edge_index))\n",
    "        # x = F.dropout(x, p=0.2)\n",
    "        x = F.relu(self.conv2(x, edge_index))\n",
    "        # x = F.dropout(x, p=0.2)\n",
    "        x = F.relu(self.conv3(x, edge_index))\n",
    "        # x = F.dropout(x, p=0.2)\n",
    "        x = F.relu(self.conv4(x, edge_index))\n",
    "        # x = F.dropout(x, p=0.2)\n",
    "        x = global_mean_pool(x, batch)\n",
    "        # x = global_add_pool(x, batch)\n",
    "        return F.log_softmax(x, dim=1)"
   ]
  },
  {
   "cell_type": "code",
   "execution_count": 129,
   "metadata": {},
   "outputs": [],
   "source": [
    "# Instantiate the Graph Autoencoder model\n",
    "input_dim = num_features\n",
    "hidden_dim = [32, 16, 16]\n",
    "output_dim = num_classes\n",
    "gcnClassifier = GCNClassifier(input_dim, hidden_dim, output_dim)\n",
    "# model = GraphAutoencoder(input_dim, hidden_dim)\n",
    "\n",
    "# Define the optimizer\n",
    "optimizer = torch.optim.Adam(gcnClassifier.parameters(), lr=0.005)\n",
    "criterion = nn.CrossEntropyLoss()\n"
   ]
  },
  {
   "cell_type": "code",
   "execution_count": 130,
   "metadata": {},
   "outputs": [
    {
     "name": "stdout",
     "output_type": "stream",
     "text": [
      "GCN Classifier - Epoch 1/20, Loss: 1.0090868473052979\n",
      "GCN Classifier - Epoch 2/20, Loss: 0.9437790513038635\n",
      "GCN Classifier - Epoch 3/20, Loss: 0.5945966839790344\n",
      "GCN Classifier - Epoch 4/20, Loss: 0.7871347665786743\n",
      "GCN Classifier - Epoch 5/20, Loss: 0.6645874381065369\n",
      "GCN Classifier - Epoch 6/20, Loss: 0.5807465314865112\n",
      "GCN Classifier - Epoch 7/20, Loss: 0.7872803807258606\n",
      "GCN Classifier - Epoch 8/20, Loss: 0.5341326594352722\n",
      "GCN Classifier - Epoch 9/20, Loss: 0.603254497051239\n",
      "GCN Classifier - Epoch 10/20, Loss: 0.43742263317108154\n",
      "GCN Classifier - Epoch 11/20, Loss: 0.5751529335975647\n",
      "GCN Classifier - Epoch 12/20, Loss: 0.5465785264968872\n",
      "GCN Classifier - Epoch 13/20, Loss: 0.27308955788612366\n",
      "GCN Classifier - Epoch 14/20, Loss: 0.6750303506851196\n",
      "GCN Classifier - Epoch 15/20, Loss: 0.47631609439849854\n",
      "GCN Classifier - Epoch 16/20, Loss: 0.4843830168247223\n",
      "GCN Classifier - Epoch 17/20, Loss: 0.500722348690033\n",
      "GCN Classifier - Epoch 18/20, Loss: 0.47074654698371887\n",
      "GCN Classifier - Epoch 19/20, Loss: 0.6167715787887573\n",
      "GCN Classifier - Epoch 20/20, Loss: 0.7740764021873474\n"
     ]
    }
   ],
   "source": [
    "# Training loop\n",
    "num_epochs = 20\n",
    "for epoch in range(num_epochs):\n",
    "    gcnClassifier.train()\n",
    "    for data in train_loader:\n",
    "        optimizer.zero_grad()\n",
    "        output = gcnClassifier(data)\n",
    "        loss = criterion(output, data.y)\n",
    "        loss.backward()\n",
    "        optimizer.step()\n",
    "\n",
    "    print(f'GCN Classifier - Epoch {epoch + 1}/{num_epochs}, Loss: {loss.item()}')"
   ]
  },
  {
   "cell_type": "code",
   "execution_count": 131,
   "metadata": {},
   "outputs": [
    {
     "name": "stdout",
     "output_type": "stream",
     "text": [
      "Classification Report:\n",
      "               precision    recall  f1-score   support\n",
      "\n",
      "           0       0.73      0.76      0.74      1000\n",
      "           1       0.96      0.92      0.94      1000\n",
      "           2       0.65      0.66      0.65      1000\n",
      "           3       0.76      0.80      0.78      1000\n",
      "           4       0.60      0.69      0.64      1000\n",
      "           5       0.80      0.92      0.85      1000\n",
      "           6       0.54      0.30      0.39      1000\n",
      "           7       0.86      0.83      0.85      1000\n",
      "           8       0.80      0.94      0.86      1000\n",
      "           9       0.94      0.86      0.90      1000\n",
      "\n",
      "    accuracy                           0.77     10000\n",
      "   macro avg       0.76      0.77      0.76     10000\n",
      "weighted avg       0.76      0.77      0.76     10000\n",
      "\n"
     ]
    }
   ],
   "source": [
    "# Evaluation\n",
    "gcnClassifier.eval()\n",
    "correct = 0\n",
    "total = 0\n",
    "all_predicted = []\n",
    "all_labels = []\n",
    "\n",
    "with torch.no_grad():\n",
    "    for data in test_loader:\n",
    "        output = gcnClassifier(data)\n",
    "        _, predicted = torch.max(output, 1)\n",
    "        total += data.y.size(0)\n",
    "        correct += (predicted == data.y).sum().item()\n",
    "\n",
    "        # Collect predictions and ground truth for later metric calculation\n",
    "        all_predicted.extend(predicted.cpu().numpy())\n",
    "        all_labels.extend(data.y.cpu().numpy())\n",
    "\n",
    "# Print classification report\n",
    "print(\"Classification Report:\\n\", classification_report(all_labels, all_predicted,zero_division=1))"
   ]
  },
  {
   "cell_type": "markdown",
   "metadata": {},
   "source": [
    "Graph Autoencoder using GNN\n"
   ]
  },
  {
   "cell_type": "code",
   "execution_count": 57,
   "metadata": {},
   "outputs": [],
   "source": [
    "class GraphAutoencoder(nn.Module):\n",
    "    def __init__(self, input_dim, hidden_dim, latent_dim):\n",
    "        super(GraphAutoencoder, self).__init__()\n",
    "\n",
    "        # Encoder layers\n",
    "        self.conv1 = GraphConv(input_dim, hidden_dim[0])\n",
    "        self.conv2 = GraphConv(hidden_dim[0], hidden_dim[1])\n",
    "        self.conv3 = GraphConv(hidden_dim[1], hidden_dim[2])\n",
    "        self.conv4 = GraphConv(hidden_dim[2], latent_dim)\n",
    "\n",
    "        # Decoder layers\n",
    "        self.t_conv1 = GraphConv(latent_dim, hidden_dim[2])\n",
    "        self.t_conv2 = GraphConv(hidden_dim[2], hidden_dim[1])\n",
    "        self.t_conv3 = GraphConv(hidden_dim[1], hidden_dim[0])\n",
    "        self.t_conv4 = GraphConv(hidden_dim[0], input_dim)\n",
    "\n",
    "    def encode(self, x, edge_index):\n",
    "        x = self.conv1(x, edge_index)\n",
    "        x = self.conv2(x, edge_index)\n",
    "        x = self.conv3(x, edge_index)\n",
    "        x = self.conv4(x, edge_index)\n",
    "        return x\n",
    "\n",
    "    def decode(self, x, edge_index):\n",
    "        x = self.t_conv1(x, edge_index)\n",
    "        x = self.t_conv2(x, edge_index)\n",
    "        x = self.t_conv3(x, edge_index)\n",
    "        x = self.t_conv4(x, edge_index)\n",
    "        return x\n",
    "\n",
    "    def forward(self, x, edge_index):\n",
    "        z = self.encode(x, edge_index)\n",
    "        x_reconstructed = self.decode(z, edge_index)\n",
    "        return x_reconstructed, z  # Returning z (embeddings) as well"
   ]
  },
  {
   "cell_type": "code",
   "execution_count": 58,
   "metadata": {},
   "outputs": [],
   "source": [
    "# Instantiate the Graph Autoencoder model\n",
    "input_dim = num_features\n",
    "hidden_dim = [16, 8, 4]\n",
    "latent_dim = 1\n",
    "autoencoder = GraphAutoencoder(input_dim, hidden_dim, latent_dim)\n",
    "\n",
    "# Define the optimizer and Mean Squared Error (MSE) Loss\n",
    "optimizer = torch.optim.Adam(autoencoder.parameters(), lr=0.001)\n",
    "reconstruction_criterion = nn.CrossEntropyLoss()\n",
    "validation_criterion = nn.MSELoss()"
   ]
  },
  {
   "cell_type": "code",
   "execution_count": 59,
   "metadata": {},
   "outputs": [
    {
     "name": "stdout",
     "output_type": "stream",
     "text": [
      "Autoencoder - Epoch 1/10, Reconstruction Loss: 18.34115982055664\n",
      "Autoencoder - Epoch 2/10, Reconstruction Loss: 18.212230682373047\n",
      "Autoencoder - Epoch 3/10, Reconstruction Loss: 18.259193420410156\n",
      "Autoencoder - Epoch 4/10, Reconstruction Loss: 18.228046417236328\n",
      "Autoencoder - Epoch 5/10, Reconstruction Loss: 18.290010452270508\n",
      "Autoencoder - Epoch 6/10, Reconstruction Loss: 18.237083435058594\n",
      "Autoencoder - Epoch 7/10, Reconstruction Loss: 18.48660659790039\n",
      "Autoencoder - Epoch 8/10, Reconstruction Loss: 18.40268898010254\n",
      "Autoencoder - Epoch 9/10, Reconstruction Loss: 18.396461486816406\n",
      "Autoencoder - Epoch 10/10, Reconstruction Loss: 18.28270721435547\n"
     ]
    }
   ],
   "source": [
    "# Early stopping parameters\n",
    "patience = 5\n",
    "best_val_loss = float('inf')\n",
    "counter = 0\n",
    "\n",
    "# Training with early stopping\n",
    "num_epochs = 10\n",
    "for epoch in range(num_epochs):\n",
    "    autoencoder.train()\n",
    "    # Training\n",
    "    for data in train_loader:\n",
    "        optimizer.zero_grad()\n",
    "        x = data.x\n",
    "        edge_index = data.edge_index\n",
    "        reconstructed_x, _ = autoencoder(x, edge_index)\n",
    "\n",
    "        # Reconstruction loss\n",
    "        reconstruction_loss = reconstruction_criterion(reconstructed_x, x)\n",
    "\n",
    "        # Total loss\n",
    "        reconstruction_loss.backward()\n",
    "\n",
    "        optimizer.step()\n",
    "\n",
    "    print(f'Autoencoder - Epoch {epoch + 1}/{num_epochs}, Reconstruction Loss: {reconstruction_loss.item()}')\n"
   ]
  },
  {
   "cell_type": "code",
   "execution_count": 60,
   "metadata": {},
   "outputs": [],
   "source": [
    "    # # Validation\n",
    "    # autoencoder.eval()\n",
    "    # with torch.no_grad():\n",
    "    #     val_losses = []\n",
    "    #     for data in val_loader:\n",
    "    #         output, _ = autoencoder(data.x, data.edge_index)\n",
    "    #         val_loss = validation_criterion(output, data.x)\n",
    "    #         val_losses.append(val_loss.item())\n",
    "\n",
    "    #     avg_val_loss = sum(val_losses) / len(val_losses)\n",
    "    #     print(f'Validation - Epoch {epoch + 1}/{epochs}, Validation Loss: {avg_val_loss}')\n",
    "\n",
    "    #     # Early stopping check\n",
    "    #     if avg_val_loss < best_val_loss:\n",
    "    #         best_val_loss = avg_val_loss\n",
    "    #         counter = 0\n",
    "    #     else:\n",
    "    #         counter += 1\n",
    "    #         if counter >= patience:\n",
    "    #             print(f'Early stopping after {epoch + 1} epochs.')\n",
    "    #             break"
   ]
  },
  {
   "cell_type": "code",
   "execution_count": 61,
   "metadata": {},
   "outputs": [],
   "source": [
    "autoencoder.eval()\n",
    "reconstructed, embeddings = autoencoder(train_dataset[k].x, train_dataset[k].edge_index)\n"
   ]
  },
  {
   "cell_type": "code",
   "execution_count": 62,
   "metadata": {},
   "outputs": [
    {
     "data": {
      "text/plain": [
       "tensor([[ 5., 21.],\n",
       "        [ 5., 22.],\n",
       "        [ 6., 17.],\n",
       "        [ 6., 18.],\n",
       "        [ 6., 19.],\n",
       "        [ 6., 20.],\n",
       "        [ 7.,  9.],\n",
       "        [ 7., 13.],\n",
       "        [ 7., 14.],\n",
       "        [ 7., 15.],\n",
       "        [ 7., 16.],\n",
       "        [ 8., 10.],\n",
       "        [ 8., 11.],\n",
       "        [ 8., 12.],\n",
       "        [ 8., 17.],\n",
       "        [ 9., 12.],\n",
       "        [10., 12.],\n",
       "        [11., 12.],\n",
       "        [12., 13.],\n",
       "        [13., 14.],\n",
       "        [14., 15.],\n",
       "        [15., 16.],\n",
       "        [16., 17.],\n",
       "        [17., 18.],\n",
       "        [18., 17.],\n",
       "        [19., 15.],\n",
       "        [19., 16.],\n",
       "        [20., 14.],\n",
       "        [21., 12.],\n",
       "        [21., 13.],\n",
       "        [22., 10.],\n",
       "        [22., 11.],\n",
       "        [23.,  6.],\n",
       "        [23.,  7.],\n",
       "        [23.,  8.],\n",
       "        [23.,  9.],\n",
       "        [24.,  5.]])"
      ]
     },
     "execution_count": 62,
     "metadata": {},
     "output_type": "execute_result"
    }
   ],
   "source": [
    "train_dataset[k].x"
   ]
  },
  {
   "cell_type": "code",
   "execution_count": 63,
   "metadata": {},
   "outputs": [
    {
     "data": {
      "text/plain": [
       "tensor([[-0.6865,  0.6751],\n",
       "        [-0.8678,  0.5392],\n",
       "        [-0.5240,  0.4425],\n",
       "        [-0.6680,  0.3478],\n",
       "        [-0.8796,  0.1846],\n",
       "        [-0.8952,  0.1961],\n",
       "        [-0.2336,  0.0271],\n",
       "        [-0.3614,  0.2100],\n",
       "        [-0.4681,  0.1564],\n",
       "        [-0.6038,  0.0774],\n",
       "        [-0.6397,  0.0651],\n",
       "        [-0.2761, -0.0441],\n",
       "        [-0.3439, -0.0480],\n",
       "        [-0.3699, -0.0546],\n",
       "        [-0.7692, -0.0840],\n",
       "        [-0.4101, -0.2461],\n",
       "        [-0.1415, -0.0447],\n",
       "        [-0.2049, -0.1634],\n",
       "        [-0.2351, -0.1678],\n",
       "        [-0.1731, -0.0930],\n",
       "        [-0.1967, -0.1105],\n",
       "        [-0.1901, -0.1021],\n",
       "        [-0.1889, -0.0983],\n",
       "        [-0.1941, -0.1013],\n",
       "        [-0.1304, -0.1922],\n",
       "        [-0.0086, -0.2947],\n",
       "        [-0.0496, -0.2736],\n",
       "        [ 0.0611, -0.3958],\n",
       "        [ 0.1567, -0.5312],\n",
       "        [ 0.2486, -0.3679],\n",
       "        [ 0.2553, -0.6724],\n",
       "        [ 0.3272, -0.5282],\n",
       "        [ 0.4179, -0.9049],\n",
       "        [ 0.4863, -0.7563],\n",
       "        [ 0.7109, -0.4275],\n",
       "        [ 0.5441, -0.5127],\n",
       "        [ 0.5850, -0.8974]], grad_fn=<AddBackward0>)"
      ]
     },
     "execution_count": 63,
     "metadata": {},
     "output_type": "execute_result"
    }
   ],
   "source": [
    "reconstructed"
   ]
  },
  {
   "cell_type": "code",
   "execution_count": 64,
   "metadata": {},
   "outputs": [
    {
     "data": {
      "text/plain": [
       "tensor([[-5.0545],\n",
       "        [-4.4695],\n",
       "        [-3.5478],\n",
       "        [-3.2384],\n",
       "        [-3.3331],\n",
       "        [-2.8649],\n",
       "        [-0.8562],\n",
       "        [-2.0411],\n",
       "        [-2.0074],\n",
       "        [-2.1676],\n",
       "        [-1.9679],\n",
       "        [-0.7152],\n",
       "        [-0.9863],\n",
       "        [-1.0551],\n",
       "        [-2.1876],\n",
       "        [-0.8225],\n",
       "        [-0.9025],\n",
       "        [-0.3585],\n",
       "        [-0.3594],\n",
       "        [-0.4868],\n",
       "        [-0.5014],\n",
       "        [-0.5218],\n",
       "        [-0.5231],\n",
       "        [-0.5245],\n",
       "        [ 0.0666],\n",
       "        [ 1.2292],\n",
       "        [ 0.2538],\n",
       "        [ 1.5506],\n",
       "        [ 2.7616],\n",
       "        [ 1.3923],\n",
       "        [ 3.6759],\n",
       "        [ 2.0516],\n",
       "        [ 5.1826],\n",
       "        [ 3.8625],\n",
       "        [ 3.3631],\n",
       "        [ 1.9953],\n",
       "        [ 4.7768]], grad_fn=<AddBackward0>)"
      ]
     },
     "execution_count": 64,
     "metadata": {},
     "output_type": "execute_result"
    }
   ],
   "source": [
    "embeddings"
   ]
  },
  {
   "cell_type": "code",
   "execution_count": 65,
   "metadata": {},
   "outputs": [],
   "source": [
    "def create_embeddings(dataset):\n",
    "    # Extract learned embeddings from the autoencoder\n",
    "    autoencoder.eval()\n",
    "    embeddings_list = []\n",
    "\n",
    "    with torch.no_grad():\n",
    "        for data in dataset:\n",
    "            x = data.x\n",
    "            edge_index = data.edge_index\n",
    "            _, embeddings = autoencoder(x, edge_index)\n",
    "            embeddings_list.append(embeddings.detach().cpu())\n",
    "    return embeddings_list"
   ]
  },
  {
   "cell_type": "code",
   "execution_count": 66,
   "metadata": {},
   "outputs": [],
   "source": [
    "embeddings_train = create_embeddings(train_dataset)\n",
    "embeddings_test = create_embeddings(test_dataset)"
   ]
  },
  {
   "cell_type": "code",
   "execution_count": 67,
   "metadata": {},
   "outputs": [
    {
     "name": "stdout",
     "output_type": "stream",
     "text": [
      "60000 10000\n"
     ]
    }
   ],
   "source": [
    "print(len(embeddings_train), len(embeddings_test))"
   ]
  },
  {
   "cell_type": "code",
   "execution_count": 68,
   "metadata": {},
   "outputs": [],
   "source": [
    "embeddings_train_dataset = [Data(x = embeddings_train[i], y = train_dataset[i].y) for i in range(len(train_dataset))]\n",
    "embeddings_test_dataset = [Data(x = embeddings_test[i], y = test_dataset[i].y) for i in range(len(test_dataset))]"
   ]
  },
  {
   "cell_type": "code",
   "execution_count": 69,
   "metadata": {},
   "outputs": [
    {
     "name": "stdout",
     "output_type": "stream",
     "text": [
      "60000 10000\n"
     ]
    }
   ],
   "source": [
    "print(len(embeddings_train_dataset), len(embeddings_test_dataset))"
   ]
  },
  {
   "cell_type": "code",
   "execution_count": 70,
   "metadata": {},
   "outputs": [
    {
     "data": {
      "text/plain": [
       "Data(x=[37, 1], y=[1])"
      ]
     },
     "execution_count": 70,
     "metadata": {},
     "output_type": "execute_result"
    }
   ],
   "source": [
    "embeddings_train_dataset[k]"
   ]
  },
  {
   "cell_type": "code",
   "execution_count": 71,
   "metadata": {},
   "outputs": [],
   "source": [
    "embeddings_train_loader = DataLoader(embeddings_train_dataset, batch_size=32, shuffle=True)\n",
    "embeddings_test_loader = DataLoader(embeddings_test_dataset, batch_size=32, shuffle=False)"
   ]
  },
  {
   "cell_type": "markdown",
   "metadata": {},
   "source": [
    "Neural Network For Classification"
   ]
  },
  {
   "cell_type": "code",
   "execution_count": 72,
   "metadata": {},
   "outputs": [],
   "source": [
    "# Define a downstream graph classification model using the learned embeddings\n",
    "class GraphClassifier(nn.Module):\n",
    "    def __init__(self, input_dim, hidden_dim, output_dim):\n",
    "        super(GraphClassifier, self).__init__()\n",
    "        self.conv1 = nn.Linear(input_dim, hidden_dim[0])\n",
    "        self.conv2 = nn.Linear(hidden_dim[0], hidden_dim[1])\n",
    "        self.conv3 = nn.Linear(hidden_dim[1], hidden_dim[2])\n",
    "        self.conv4 = nn.Linear(hidden_dim[2], output_dim)\n",
    "\n",
    "    def forward(self, data):\n",
    "        x, batch = data.x, data.batch\n",
    "        x = F.relu(self.conv1(x))\n",
    "        # x = F.dropout(x, p=0.2)\n",
    "        x = F.relu(self.conv2(x))\n",
    "        x = F.relu(self.conv3(x))\n",
    "        x = F.relu(self.conv4(x))\n",
    "        # x = F.dropout(x, p=0.2)\n",
    "        x = global_mean_pool(x, batch)\n",
    "        # x = global_add_pool(x, batch)\n",
    "        return F.log_softmax(x, dim=1)"
   ]
  },
  {
   "cell_type": "code",
   "execution_count": 82,
   "metadata": {},
   "outputs": [],
   "source": [
    "# Instantiate the Graph Classifier model\n",
    "hidden_dim = [32, 16, 16]\n",
    "classifier = GraphClassifier(latent_dim, hidden_dim, num_classes)\n",
    "\n",
    "# Define the optimizer and Cross-Entropy Loss\n",
    "optimizer_classifier = torch.optim.Adam(classifier.parameters(), lr=0.01)\n",
    "classification_criterion = nn.CrossEntropyLoss()"
   ]
  },
  {
   "cell_type": "code",
   "execution_count": 83,
   "metadata": {},
   "outputs": [
    {
     "name": "stdout",
     "output_type": "stream",
     "text": [
      "Classifier - Epoch 1/15, Classification Loss: 2.2122366428375244\n",
      "Classifier - Epoch 2/15, Classification Loss: 2.142601728439331\n",
      "Classifier - Epoch 3/15, Classification Loss: 1.7573027610778809\n",
      "Classifier - Epoch 4/15, Classification Loss: 2.1105575561523438\n",
      "Classifier - Epoch 5/15, Classification Loss: 2.191000461578369\n",
      "Classifier - Epoch 6/15, Classification Loss: 2.1908788681030273\n",
      "Classifier - Epoch 7/15, Classification Loss: 2.1530251502990723\n",
      "Classifier - Epoch 8/15, Classification Loss: 2.163705825805664\n",
      "Classifier - Epoch 9/15, Classification Loss: 2.2136497497558594\n",
      "Classifier - Epoch 10/15, Classification Loss: 2.1768815517425537\n",
      "Classifier - Epoch 11/15, Classification Loss: 1.9594223499298096\n",
      "Classifier - Epoch 12/15, Classification Loss: 2.043494939804077\n",
      "Classifier - Epoch 13/15, Classification Loss: 2.2303268909454346\n",
      "Classifier - Epoch 14/15, Classification Loss: 1.7972735166549683\n",
      "Classifier - Epoch 15/15, Classification Loss: 1.8278604745864868\n"
     ]
    }
   ],
   "source": [
    "# Training loop for the classifier\n",
    "num_epochs = 15\n",
    "for epoch in range(num_epochs):\n",
    "    classifier.train()\n",
    "    optimizer_classifier.zero_grad()\n",
    "    for data in embeddings_train_loader:\n",
    "        optimizer_classifier.zero_grad()\n",
    "        \n",
    "        # Forward pass using the learned embeddings\n",
    "        logits = classifier(data)\n",
    "        # Classification loss\n",
    "        classification_loss = classification_criterion(logits, data.y)\n",
    "\n",
    "        # Backward pass and optimization\n",
    "        classification_loss.backward()\n",
    "        optimizer_classifier.step()\n",
    "    print(f'Classifier - Epoch {epoch + 1}/{num_epochs}, Classification Loss: {classification_loss.item()}')"
   ]
  },
  {
   "cell_type": "code",
   "execution_count": 84,
   "metadata": {},
   "outputs": [
    {
     "name": "stdout",
     "output_type": "stream",
     "text": [
      "Test Accuracy: 31.89%\n"
     ]
    }
   ],
   "source": [
    "# Evaluation\n",
    "classifier.eval()\n",
    "correct = 0\n",
    "total = 0\n",
    "\n",
    "with torch.no_grad():\n",
    "    for data in embeddings_test_loader:\n",
    "        output = classifier(data)\n",
    "        _, predicted = torch.max(output, 1)\n",
    "        # print(predicted)\n",
    "        total += data.y.size(0)\n",
    "        correct += (predicted == data.y).sum().item()\n",
    "\n",
    "accuracy = correct / total\n",
    "print(f'Test Accuracy: {accuracy * 100:.2f}%')"
   ]
  }
 ],
 "metadata": {
  "kernelspec": {
   "display_name": "Python 3",
   "language": "python",
   "name": "python3"
  },
  "language_info": {
   "codemirror_mode": {
    "name": "ipython",
    "version": 3
   },
   "file_extension": ".py",
   "mimetype": "text/x-python",
   "name": "python",
   "nbconvert_exporter": "python",
   "pygments_lexer": "ipython3",
   "version": "3.11.2"
  }
 },
 "nbformat": 4,
 "nbformat_minor": 2
}
